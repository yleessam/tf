{
  "nbformat": 4,
  "nbformat_minor": 0,
  "metadata": {
    "colab": {
      "provenance": [],
      "include_colab_link": true
    },
    "kernelspec": {
      "name": "python3",
      "display_name": "Python 3"
    },
    "language_info": {
      "name": "python"
    }
  },
  "cells": [
    {
      "cell_type": "markdown",
      "metadata": {
        "id": "view-in-github",
        "colab_type": "text"
      },
      "source": [
        "<a href=\"https://colab.research.google.com/github/yleessam/tf/blob/main/feed_forward_%EB%B0%B0%ED%8F%AC.ipynb\" target=\"_parent\"><img src=\"https://colab.research.google.com/assets/colab-badge.svg\" alt=\"Open In Colab\"/></a>"
      ]
    },
    {
      "cell_type": "markdown",
      "source": [
        "# 단일 노드 퍼셉트론 클래스.\n",
        "\n",
        "feed-forward 기능만 가지고 있음"
      ],
      "metadata": {
        "id": "PYXjABF6by_n"
      }
    },
    {
      "cell_type": "code",
      "execution_count": null,
      "metadata": {
        "id": "TOoIue8YbuOf"
      },
      "outputs": [],
      "source": [
        "class Neuron:\n",
        "    def __init__(self, w, b):\n",
        "        pass\n",
        "\n",
        "    def feedForward(self, input):\n",
        "        pass\n",
        "\n",
        "    def getAct(self, x):\n",
        "        pass\n"
      ]
    },
    {
      "cell_type": "markdown",
      "source": [
        "# 단일노드 퍼셉트론 객체 만들기"
      ],
      "metadata": {
        "id": "BVlc38wBb9ra"
      }
    },
    {
      "cell_type": "code",
      "source": [
        "neuron ="
      ],
      "metadata": {
        "id": "ytlKRwa9b58r"
      },
      "execution_count": null,
      "outputs": []
    },
    {
      "cell_type": "markdown",
      "source": [
        "# feed-forward 실습"
      ],
      "metadata": {
        "id": "8E85Q-qgcG0g"
      }
    },
    {
      "cell_type": "code",
      "source": [
        "print ('Input 1.0 -> Output {}'.format()))\n",
        "print ('Input 2.0 -> Output {}'.format())\n",
        "print ('Input 3.0 -> Output {}'.format())"
      ],
      "metadata": {
        "colab": {
          "base_uri": "https://localhost:8080/"
        },
        "id": "YxudcvoIcF-7",
        "outputId": "8963d8a1-0013-4fe0-edba-0ce7a0885510"
      },
      "execution_count": null,
      "outputs": [
        {
          "output_type": "stream",
          "name": "stdout",
          "text": [
            "Input 1.0 -> Output 3.0\n",
            "Input 2.0 -> Output 5.0\n",
            "Input 3.0 -> Output 7.0\n"
          ]
        }
      ]
    }
  ]
}