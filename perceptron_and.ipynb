{
  "nbformat": 4,
  "nbformat_minor": 0,
  "metadata": {
    "colab": {
      "provenance": [],
      "include_colab_link": true
    },
    "kernelspec": {
      "name": "python3",
      "display_name": "Python 3"
    },
    "language_info": {
      "name": "python"
    }
  },
  "cells": [
    {
      "cell_type": "markdown",
      "metadata": {
        "id": "view-in-github",
        "colab_type": "text"
      },
      "source": [
        "<a href=\"https://colab.research.google.com/github/yleessam/tf/blob/main/perceptron_and.ipynb\" target=\"_parent\"><img src=\"https://colab.research.google.com/assets/colab-badge.svg\" alt=\"Open In Colab\"/></a>"
      ]
    },
    {
      "cell_type": "markdown",
      "source": [
        "# numpy 임포트 하기"
      ],
      "metadata": {
        "id": "fzMNt061h6Qe"
      }
    },
    {
      "cell_type": "code",
      "execution_count": null,
      "metadata": {
        "id": "4gGz_oUfhnoE"
      },
      "outputs": [],
      "source": [
        "import numpy as np"
      ]
    },
    {
      "cell_type": "markdown",
      "source": [
        "## NumPy 란?\n",
        "\n",
        "[Numpy](https://numpy.org/)\n",
        "- “Numerical Python”의 줄임 말로 수치계산을 쉽고 빠르게 다루는 파이썬 라이브러리\n",
        "- 행렬과 벡터 연산을 위한 사실상의 표준 라이브러리\n",
        "- 고성능 다차원 배열(ndarray) 객체와 이러한 배열들과 함께 작동하는 도구들을 제공\n",
        "\n",
        "- Numpy의 장점은 빠른 처리 속도와  정교한 Broadcasting\n",
        "  - C로 작성\n",
        "  - 리스트와 메모리 저장구조 다름 - 연속된 메모리에 저장\n",
        "  - 반복문을 사용하지 않고 배열로 바로 계산\n",
        "- 선형대수, 난수 생성, 푸리에 변환 기능 지원\n",
        "- 머신러닝에서 이미지,영상, 텍스트, 소리등의 모든 데이터는 실수형태의 배열로 표현, 머신러닝을 위한 데이터 처리의 핵심 도구  \n",
        "* C/C++및 포트란 등 다른 프로그래밍 언어로 쉽게 변환"
      ],
      "metadata": {
        "id": "j8hKcdSxe2OE"
      }
    },
    {
      "cell_type": "code",
      "source": [
        "## X.shape 배열의 차원을 (m,n) 튜플로 표시\n",
        "## np.ones 배열을 모두 1로 초기화\n",
        "## np.c_ 두 배열을 가로 방향(왼쪽에서 오른쪽으로)으로 합치기\n",
        "# X.shape 예제\n",
        "X = np.array([[1, 2], [3, 4], [5, 6]])\n",
        "print(\"X.shape:\", X.shape)  # (3, 2) 출력됨, 3행 2열 배열\n",
        "print(\"X.shape[0]:\", X.shape[0])  # 3행\n",
        "\n",
        "# np.ones 예제\n",
        "ones_array = np.ones((2, 3))  # 2행 3열의 배열을 생성하고 모든 값을 1로 초기화\n",
        "print(\"ones_array:\\n\", ones_array)\n",
        "\n",
        "# np.c_ 예제\n",
        "a = np.array([1, 2, 3])\n",
        "b = np.array([4, 5, 6])\n",
        "combined_array = np.c_[a, b]  # a와 b 배열을 가로 방향으로 합침\n",
        "print(\"combined_array:\\n\", combined_array)\n"
      ],
      "metadata": {
        "colab": {
          "base_uri": "https://localhost:8080/"
        },
        "id": "Sra5Z3-ayFqG",
        "outputId": "201ddb76-bb07-402e-84fb-c90fb30ae57e"
      },
      "execution_count": null,
      "outputs": [
        {
          "output_type": "stream",
          "name": "stdout",
          "text": [
            "X.shape: (3, 2)\n",
            "X.shape[0]: 3\n",
            "ones_array:\n",
            " [[1. 1. 1.]\n",
            " [1. 1. 1.]]\n",
            "combined_array:\n",
            " [[1 4]\n",
            " [2 5]\n",
            " [3 6]]\n"
          ]
        }
      ]
    },
    {
      "cell_type": "markdown",
      "source": [
        "# 퍼셉트론 클래스"
      ],
      "metadata": {
        "id": "iW6Xb-pZiE6F"
      }
    },
    {
      "cell_type": "code",
      "source": [
        "class Perceptron:\n",
        "    def __init__(self, N, alpha):# 생성자\n",
        "        # 가중치 초기화: N개의 입력과 1개의 바이어스를 위한 N+1 크기의 가중치 배열 생성.\n",
        "        # np.random.randn은 표준 정규 분포를 사용해 난수를 생성.\n",
        "        # np.sqrt(N) 제곱근으로 나누어 초기 가중치를 정규화함.\n",
        "        self.W = np.random.randn(N+1)/np.sqrt(N) # W1 W2\n",
        "\n",
        "        # 학습률(learning rate) alpha 초기화\n",
        "        self.alpha = alpha  #\n",
        "        print(\"Perceptron class created\")\n",
        "\n",
        "    def step(self, x):  # 활성화 함수 계단 함수(step function)\n",
        "        if x > 0:\n",
        "            return 1\n",
        "        else:\n",
        "            return 0\n",
        "\n",
        "    def fit(self, X, y, epochs = 10):\n",
        "        # X 데이터에 바이어스 항목을 추가. np.ones로 1로 채워진 열을 X에 추가함.\n",
        "        X = np.c_[X, np.ones(X.shape[0])]\n",
        "        #print('***',X) ###[0,0,1], [0,1,1]\n",
        "\n",
        "        # 지정된 에포크 수만큼 반복 학습.\n",
        "        for epoch in range(epochs):\n",
        "\n",
        "            # X의 각 샘플과 y의 타겟 레이블에 대해 하나로 묶어서(zip) 반복.\n",
        "            for (x, target) in zip(X, y):\n",
        "                p = self.step(np.dot(x, self.W)) # self.W :계수 x: AND 논리 입력값 x1 x2\n",
        "                print(p)\n",
        "\n",
        "                # 예측값 p와 실제 타겟 값이 다르면 가중치를 업데이트.\n",
        "                if p != target: # 같지 않으면 역전파법에 의해서 계수를 업데이트 하기\n",
        "\n",
        "                    # 오류를 계산.\n",
        "                    error = p - target # wi(t +1) = wi(t) +α(dj −yj)xj,i\n",
        "\n",
        "                    # 가중치 업데이트. 학습률 alpha와 오류, 입력값을 사용.\n",
        "                    # 현재 오류에 비례하여 각 가중치를 조정합니다.\n",
        "                    # 오류가 크면 가중치의 조정도 크게 이루어짐\n",
        "                    self.W += -self.alpha * error * x\n",
        "\n",
        "        #print('***',self.W)\n",
        "\n",
        "    def predict(self, X):  # 예측 메서드\n",
        "\n",
        "        # X를 최소 2차원 배열로 변환.\n",
        "        X = np.atleast_2d(X)\n",
        "\n",
        "        # X에 바이어스 항목 추가.\n",
        "        X = np.c_[X, np.ones(1)]\n",
        "\n",
        "        # 예측을 수행. 가중치와 입력값의 점곱을 계산 후 활성화 함수 적용.\n",
        "        #print(self.W)\n",
        "        p = self.step(np.dot(X, self.W))# 여기의 self.W는 이미 트레이닝 이 끝난 상태 즉 추론파일\n",
        "\n",
        "        print(p)\n",
        "        print('------------------')\n",
        "\n"
      ],
      "metadata": {
        "id": "IC_gF_cYh81_"
      },
      "execution_count": 26,
      "outputs": []
    },
    {
      "cell_type": "markdown",
      "source": [
        "가중치 업데이트 (Weight Update):\n",
        "\n",
        "self.W += -self.alpha * error * x: 이 계산된 값을 현재 가중치 self.W에 더하여 가중치를 업데이트합니다. - 기호는 오류의 방향을 반대로 하여 가중치를 조정하는 데 사용됩니다. 즉, 오류가 양수면 가중치를 줄이고, 오류가 음수면 가중치를 늘립니다.\n",
        "이러한 방식으로 퍼셉트론은 학습 과정에서 점차적으로 오류를 줄여나가며, 데이터를 더 잘 분류할 수 있는 가중치를 찾아갑니다. 이 과정은 간단한 형태의 \"경사 하강법(Gradient Descent)\"으로 볼 수 있으며, 학습률 alpha는 이 경사 하강의 스텝 크기를 결정합니다."
      ],
      "metadata": {
        "id": "yPF5aPbdaC3M"
      }
    },
    {
      "cell_type": "markdown",
      "source": [
        "# 퍼셉트론 클래스 객체 만들기"
      ],
      "metadata": {
        "id": "xAqLFQurZ_MQ"
      }
    },
    {
      "cell_type": "code",
      "source": [
        "per = Perceptron(2, 0.9) # 입력갯수, 학습률"
      ],
      "metadata": {
        "id": "A6GkdYcViv4V",
        "colab": {
          "base_uri": "https://localhost:8080/"
        },
        "outputId": "9ab50b2e-fe7c-4d18-85a5-b504c5725e5a"
      },
      "execution_count": 24,
      "outputs": [
        {
          "output_type": "stream",
          "name": "stdout",
          "text": [
            "Perceptron class created\n"
          ]
        }
      ]
    },
    {
      "cell_type": "markdown",
      "source": [
        "alpha가 0.9로 설정된 이유:\n",
        "\n",
        "alpha는 학습률을 의미하며, 가중치를 얼마나 큰 단계로 조정할지 결정합니다. alpha가 크면 학습 단계가 커서 빠르게 수렴할 수 있지만, 너무 크면 과적합(overfitting)이 발생하거나 최적의 해를 넘어서게 될 수 있습니다.\n",
        "0.9라는 값은 실험적으로 결정되거나 경험적으로 선택된 값일 수 있습니다. 학습률은 특정 문제에 대해 튜닝해야 하는 하이퍼파라미터입니다.\n",
        "이 값은 상대적으로 높은 편이며, 이는 각 반복에서 가중치가 크게 조정되어 학습이 빠르게 진행되기를 원한다는 것을 의미합니다. 그러나 실제로는 학습률을 결정할 때, 특정 문제에 대한 검증 세트(validation set)에서 모델의 성능을 평가하면서 조정하는 것이 일반적입니다."
      ],
      "metadata": {
        "id": "6LRpbZSCF-hm"
      }
    },
    {
      "cell_type": "markdown",
      "source": [
        "# 퍼셉트론 학습(트레이닝) 하기"
      ],
      "metadata": {
        "id": "bQ8-wfBUizGl"
      }
    },
    {
      "cell_type": "code",
      "source": [
        "X =  np.array([[0, 0], [0, 1], [1, 0], [1, 1]])\n",
        "Y = np.array([[0], [0], [0], [1]])\n",
        "per.fit(X, Y) # self.W - perceptron"
      ],
      "metadata": {
        "id": "PrP1OJa8Ztz9",
        "colab": {
          "base_uri": "https://localhost:8080/"
        },
        "outputId": "6a1b5ccc-4c8f-4d23-e96a-8d24a058501b"
      },
      "execution_count": 25,
      "outputs": [
        {
          "output_type": "stream",
          "name": "stdout",
          "text": [
            "1\n",
            "0\n",
            "0\n",
            "0\n",
            "1\n",
            "1\n",
            "0\n",
            "0\n",
            "0\n",
            "1\n",
            "0\n",
            "1\n",
            "0\n",
            "0\n",
            "0\n",
            "1\n",
            "0\n",
            "0\n",
            "0\n",
            "1\n",
            "0\n",
            "0\n",
            "0\n",
            "1\n",
            "0\n",
            "0\n",
            "0\n",
            "1\n",
            "0\n",
            "0\n",
            "0\n",
            "1\n",
            "0\n",
            "0\n",
            "0\n",
            "1\n",
            "0\n",
            "0\n",
            "0\n",
            "1\n"
          ]
        }
      ]
    },
    {
      "cell_type": "markdown",
      "source": [
        "# 예측하기"
      ],
      "metadata": {
        "id": "HeJ_KeQbAzx8"
      }
    },
    {
      "cell_type": "markdown",
      "source": [
        "AND 논리: False AND False"
      ],
      "metadata": {
        "id": "GaB8cNsUY99Z"
      }
    },
    {
      "cell_type": "code",
      "source": [
        "x = np.array([0,0])\n",
        "per.predict(x)"
      ],
      "metadata": {
        "id": "OzfzzhK-jDSE",
        "colab": {
          "base_uri": "https://localhost:8080/"
        },
        "outputId": "9bebf12a-fb67-41a8-bb71-621c4f9ec477"
      },
      "execution_count": null,
      "outputs": [
        {
          "output_type": "stream",
          "name": "stdout",
          "text": [
            "0\n",
            "------------------\n"
          ]
        }
      ]
    },
    {
      "cell_type": "markdown",
      "source": [
        "AND 논리: True AND False"
      ],
      "metadata": {
        "id": "JfW9HAm9ZG0G"
      }
    },
    {
      "cell_type": "code",
      "source": [
        "x = np.array([1,0])\n",
        "per.predict(x)"
      ],
      "metadata": {
        "id": "gGR85Ee2jGNB",
        "colab": {
          "base_uri": "https://localhost:8080/"
        },
        "outputId": "477f3ea3-2fd5-4ab0-c0d7-0d405f7ccf41"
      },
      "execution_count": null,
      "outputs": [
        {
          "output_type": "stream",
          "name": "stdout",
          "text": [
            "0\n",
            "------------------\n"
          ]
        }
      ]
    },
    {
      "cell_type": "markdown",
      "source": [
        "AND 논리: False AND True"
      ],
      "metadata": {
        "id": "AGOcCI17ZTau"
      }
    },
    {
      "cell_type": "code",
      "source": [
        "x = np.array([0,1])\n",
        "per.predict(x)"
      ],
      "metadata": {
        "id": "Um2z5w5ijIqN",
        "colab": {
          "base_uri": "https://localhost:8080/"
        },
        "outputId": "29319c04-00e9-4545-ce83-5f3911b2dd43"
      },
      "execution_count": null,
      "outputs": [
        {
          "output_type": "stream",
          "name": "stdout",
          "text": [
            "0\n",
            "------------------\n"
          ]
        }
      ]
    },
    {
      "cell_type": "markdown",
      "source": [
        "AND 논리: True AND True"
      ],
      "metadata": {
        "id": "lKmS2d42Za4h"
      }
    },
    {
      "cell_type": "code",
      "source": [
        "x = np.array([1,1])\n",
        "per.predict(x)\n"
      ],
      "metadata": {
        "id": "-RwICq6LjMlr",
        "colab": {
          "base_uri": "https://localhost:8080/"
        },
        "outputId": "df733695-d897-46f2-8a05-819e7aa54e76"
      },
      "execution_count": null,
      "outputs": [
        {
          "output_type": "stream",
          "name": "stdout",
          "text": [
            "1\n",
            "------------------\n"
          ]
        }
      ]
    }
  ]
}