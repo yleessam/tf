{
  "nbformat": 4,
  "nbformat_minor": 0,
  "metadata": {
    "colab": {
      "provenance": [],
      "include_colab_link": true
    },
    "kernelspec": {
      "name": "python3",
      "display_name": "Python 3"
    },
    "language_info": {
      "name": "python"
    },
    "gpuClass": "standard"
  },
  "cells": [
    {
      "cell_type": "markdown",
      "metadata": {
        "id": "view-in-github",
        "colab_type": "text"
      },
      "source": [
        "<a href=\"https://colab.research.google.com/github/yleessam/tf/blob/main/mnist_tensorflow_1_%EB%B0%B0%ED%8F%AC.ipynb\" target=\"_parent\"><img src=\"https://colab.research.google.com/assets/colab-badge.svg\" alt=\"Open In Colab\"/></a>"
      ]
    },
    {
      "cell_type": "markdown",
      "metadata": {
        "id": "wRNNhRLgsZo_"
      },
      "source": [
        "## 1.MNIST 분류"
      ]
    },
    {
      "cell_type": "markdown",
      "metadata": {
        "id": "6vufqrrjeWMP"
      },
      "source": [
        "### 1-1. 환경 구성: import\n"
      ]
    },
    {
      "cell_type": "code",
      "execution_count": 1,
      "metadata": {
        "colab": {
          "base_uri": "https://localhost:8080/"
        },
        "id": "p1y__c2mC9p0",
        "outputId": "4594e177-b8fe-43e6-bfd0-f16f71d556aa"
      },
      "outputs": [
        {
          "output_type": "stream",
          "name": "stdout",
          "text": [
            "2.15.0\n"
          ]
        }
      ],
      "source": [
        "import tensorflow as tf    # tensorflow의 별명은 tf로 한다\n",
        "from tensorflow import keras\n",
        "\n",
        "print(tf.__version__)      # version 앞뒤로 두 개의 밑줄"
      ]
    },
    {
      "cell_type": "code",
      "execution_count": 2,
      "metadata": {
        "id": "VHoQRObwvDCv"
      },
      "outputs": [],
      "source": [
        "import numpy as np\n",
        "import matplotlib.pyplot as plt"
      ]
    },
    {
      "cell_type": "markdown",
      "metadata": {
        "id": "McfheE4oadoI"
      },
      "source": [
        "### 1-2. MNIST 데이터 가져오기\n",
        "\n"
      ]
    },
    {
      "cell_type": "code",
      "execution_count": null,
      "metadata": {
        "id": "HnXZtl8bDDSI",
        "colab": {
          "base_uri": "https://localhost:8080/"
        },
        "outputId": "fde952a9-3588-4692-e2c7-bfb2e8c817ee"
      },
      "outputs": [
        {
          "output_type": "stream",
          "name": "stdout",
          "text": [
            "Downloading data from https://storage.googleapis.com/tensorflow/tf-keras-datasets/mnist.npz\n",
            "11490434/11490434 [==============================] - 0s 0us/step\n"
          ]
        }
      ],
      "source": [
        "# MNIST 데이터를 학습용, 테스트 데이터로 구분하여 읽어옴\n",
        "\n",
        "(X_train, y_train), (X_test, y_test) ="
      ]
    },
    {
      "cell_type": "markdown",
      "metadata": {
        "id": "2dll79s6vI-F"
      },
      "source": [
        "### 1-3. 데이터 살펴보기"
      ]
    },
    {
      "cell_type": "code",
      "execution_count": null,
      "metadata": {
        "colab": {
          "base_uri": "https://localhost:8080/"
        },
        "id": "TZ15Q9nHKfG2",
        "outputId": "22c028fe-af03-488b-e24c-1c2b18ffb316"
      },
      "outputs": [
        {
          "output_type": "stream",
          "name": "stdout",
          "text": [
            "X_train.shape = (60000, 28, 28) y_train.shape = (60000,)\n",
            "X_test.shape  = (10000, 28, 28) y_test.shape  = (10000,)\n"
          ]
        }
      ],
      "source": [
        "print('X_train.shape =', , 'y_train.shape =', )\n",
        "print('X_test.shape  =', , 'y_test.shape  =', )"
      ]
    },
    {
      "cell_type": "code",
      "execution_count": null,
      "metadata": {
        "colab": {
          "base_uri": "https://localhost:8080/"
        },
        "id": "mMNC-3f7K3ne",
        "outputId": "2740cf13-3d33-4d32-c86c-72a9e3b168f8"
      },
      "outputs": [
        {
          "output_type": "stream",
          "name": "stdout",
          "text": [
            "   0   0   0   0   0   0   0   0   0   0   0   0   0   0   0   0   0   0   0   0   0   0   0   0   0   0   0   0\n",
            "   0   0   0   0   0   0   0   0   0   0   0   0   0   0   0   0   0   0   0   0   0   0   0   0   0   0   0   0\n",
            "   0   0   0   0   0   0   0   0   0   0   0   0   0   0   0   0   0   0   0   0   0   0   0   0   0   0   0   0\n",
            "   0   0   0   0   0   0   0   0   0   0   0   0   0   0   0   0   0   0   0   0   0   0   0   0   0   0   0   0\n",
            "   0   0   0   0   0   0   0   0   0   0   0   0   0   0   0   0   0   0   0   0   0   0   0   0   0   0   0   0\n",
            "   0   0   0   0   0   0   0   0   0   0   0   0   3  18  18  18 126 136 175  26 166 255 247 127   0   0   0   0\n",
            "   0   0   0   0   0   0   0   0  30  36  94 154 170 253 253 253 253 253 225 172 253 242 195  64   0   0   0   0\n",
            "   0   0   0   0   0   0   0  49 238 253 253 253 253 253 253 253 253 251  93  82  82  56  39   0   0   0   0   0\n",
            "   0   0   0   0   0   0   0  18 219 253 253 253 253 253 198 182 247 241   0   0   0   0   0   0   0   0   0   0\n",
            "   0   0   0   0   0   0   0   0  80 156 107 253 253 205  11   0  43 154   0   0   0   0   0   0   0   0   0   0\n",
            "   0   0   0   0   0   0   0   0   0  14   1 154 253  90   0   0   0   0   0   0   0   0   0   0   0   0   0   0\n",
            "   0   0   0   0   0   0   0   0   0   0   0 139 253 190   2   0   0   0   0   0   0   0   0   0   0   0   0   0\n",
            "   0   0   0   0   0   0   0   0   0   0   0  11 190 253  70   0   0   0   0   0   0   0   0   0   0   0   0   0\n",
            "   0   0   0   0   0   0   0   0   0   0   0   0  35 241 225 160 108   1   0   0   0   0   0   0   0   0   0   0\n",
            "   0   0   0   0   0   0   0   0   0   0   0   0   0  81 240 253 253 119  25   0   0   0   0   0   0   0   0   0\n",
            "   0   0   0   0   0   0   0   0   0   0   0   0   0   0  45 186 253 253 150  27   0   0   0   0   0   0   0   0\n",
            "   0   0   0   0   0   0   0   0   0   0   0   0   0   0   0  16  93 252 253 187   0   0   0   0   0   0   0   0\n",
            "   0   0   0   0   0   0   0   0   0   0   0   0   0   0   0   0   0 249 253 249  64   0   0   0   0   0   0   0\n",
            "   0   0   0   0   0   0   0   0   0   0   0   0   0   0  46 130 183 253 253 207   2   0   0   0   0   0   0   0\n",
            "   0   0   0   0   0   0   0   0   0   0   0   0  39 148 229 253 253 253 250 182   0   0   0   0   0   0   0   0\n",
            "   0   0   0   0   0   0   0   0   0   0  24 114 221 253 253 253 253 201  78   0   0   0   0   0   0   0   0   0\n",
            "   0   0   0   0   0   0   0   0  23  66 213 253 253 253 253 198  81   2   0   0   0   0   0   0   0   0   0   0\n",
            "   0   0   0   0   0   0  18 171 219 253 253 253 253 195  80   9   0   0   0   0   0   0   0   0   0   0   0   0\n",
            "   0   0   0   0  55 172 226 253 253 253 253 244 133  11   0   0   0   0   0   0   0   0   0   0   0   0   0   0\n",
            "   0   0   0   0 136 253 253 253 212 135 132  16   0   0   0   0   0   0   0   0   0   0   0   0   0   0   0   0\n",
            "   0   0   0   0   0   0   0   0   0   0   0   0   0   0   0   0   0   0   0   0   0   0   0   0   0   0   0   0\n",
            "   0   0   0   0   0   0   0   0   0   0   0   0   0   0   0   0   0   0   0   0   0   0   0   0   0   0   0   0\n",
            "   0   0   0   0   0   0   0   0   0   0   0   0   0   0   0   0   0   0   0   0   0   0   0   0   0   0   0   0\n"
          ]
        }
      ],
      "source": [
        "num = X_train[0]\n"
      ]
    },
    {
      "cell_type": "markdown",
      "metadata": {
        "id": "PeNqW7tpaovu"
      },
      "source": [
        " MNIST 데이터를 이미지로 살펴보기"
      ]
    },
    {
      "cell_type": "code",
      "execution_count": null,
      "metadata": {
        "colab": {
          "base_uri": "https://localhost:8080/",
          "height": 167
        },
        "id": "KIXYIaYumZ13",
        "outputId": "12fca92f-63be-4b4f-e4b1-e4c74d407216"
      },
      "outputs": [
        {
          "output_type": "display_data",
          "data": {
            "text/plain": [
              "<Figure size 640x480 with 4 Axes>"
            ],
            "image/png": "[encoded data removed]"
          },
          "metadata": {}
        }
      ],
      "source": [
        "\n"
      ]
    },
    {
      "cell_type": "markdown",
      "metadata": {
        "id": "Hp-UrfKqRP2q"
      },
      "source": [
        "### 1-4. 데이터 전처리"
      ]
    },
    {
      "cell_type": "code",
      "execution_count": null,
      "metadata": {
        "id": "x8yiJbw5zPKU"
      },
      "outputs": [],
      "source": [
        "#입력값 전처리 : 0에서 1사이의 값으로 입력 데이터를 가공함-정규화\n",
        "\n",
        "X_train, X_test ="
      ]
    },
    {
      "cell_type": "markdown",
      "metadata": {
        "id": "Typu2z9sawrk"
      },
      "source": [
        "### 1-5. 심층 신경망 모델 만들기"
      ]
    },
    {
      "cell_type": "markdown",
      "metadata": {
        "id": "gY2G1DizxPRx"
      },
      "source": [
        "#### (1) 모델 구성: Sequential(), Flatten(), Dense() ..."
      ]
    },
    {
      "cell_type": "code",
      "execution_count": null,
      "metadata": {
        "id": "YOFMvNkzMmo_"
      },
      "outputs": [],
      "source": [
        "model = keras.Sequential([\n",
        "\n",
        "])"
      ]
    },
    {
      "cell_type": "markdown",
      "metadata": {
        "id": "XdDOZeuaxSK-"
      },
      "source": [
        "#### (2) 모델 요약 보기: summary()\n",
        "\n",
        "> - 입력층 노드: 28*28 = 784\n",
        "> - 입력층-은닉층 연결: 784*256+256(편향)) = 200,960\n",
        "> - 은닉층-출력층 연결: (256+1) * 10 = 2,570\n",
        "> - 전체 파라미터 개수: 200,960 + 2,570 = 203,530"
      ]
    },
    {
      "cell_type": "code",
      "execution_count": null,
      "metadata": {
        "colab": {
          "base_uri": "https://localhost:8080/"
        },
        "id": "XsjTM8_OFRgQ",
        "outputId": "2b9ff1d9-fcf5-4f02-bdbd-ff5b9786a518"
      },
      "outputs": [
        {
          "output_type": "stream",
          "name": "stdout",
          "text": [
            "Model: \"sequential\"\n",
            "_________________________________________________________________\n",
            " Layer (type)                Output Shape              Param #   \n",
            "=================================================================\n",
            " flatten (Flatten)           (None, 784)               0         \n",
            "                                                                 \n",
            " dense (Dense)               (None, 256)               200960    \n",
            "                                                                 \n",
            " dense_1 (Dense)             (None, 10)                2570      \n",
            "                                                                 \n",
            "=================================================================\n",
            "Total params: 203530 (795.04 KB)\n",
            "Trainable params: 203530 (795.04 KB)\n",
            "Non-trainable params: 0 (0.00 Byte)\n",
            "_________________________________________________________________\n"
          ]
        }
      ],
      "source": []
    },
    {
      "cell_type": "markdown",
      "metadata": {
        "id": "adrrK2yPbEYN"
      },
      "source": [
        "#### (3) 학습 과정 설정: compile()\n"
      ]
    },
    {
      "cell_type": "code",
      "execution_count": null,
      "metadata": {
        "id": "9FOfrAATMrWq"
      },
      "outputs": [],
      "source": []
    },
    {
      "cell_type": "markdown",
      "metadata": {
        "id": "XXCxHy58x1x8"
      },
      "source": [
        "#### (4) 모델 학습: fit()"
      ]
    },
    {
      "cell_type": "code",
      "execution_count": null,
      "metadata": {
        "colab": {
          "base_uri": "https://localhost:8080/"
        },
        "id": "EYSI93CvOHY9",
        "outputId": "dd28a922-7b6f-4dc7-a643-6bae2be34e66"
      },
      "outputs": [
        {
          "output_type": "stream",
          "name": "stdout",
          "text": [
            "Epoch 1/5\n",
            "1875/1875 [==============================] - 10s 5ms/step - loss: 0.2252 - acc: 0.9346\n",
            "Epoch 2/5\n",
            "1875/1875 [==============================] - 9s 5ms/step - loss: 0.0938 - acc: 0.9717\n",
            "Epoch 3/5\n",
            "1875/1875 [==============================] - 9s 5ms/step - loss: 0.0627 - acc: 0.9811\n",
            "Epoch 4/5\n",
            "1875/1875 [==============================] - 10s 5ms/step - loss: 0.0459 - acc: 0.9857\n",
            "Epoch 5/5\n",
            "1875/1875 [==============================] - 10s 5ms/step - loss: 0.0328 - acc: 0.9896\n"
          ]
        }
      ],
      "source": [
        "# https://keras.io/api/models/model_training_apis/\n",
        "# batch_size를 입력하지 않으면 기본값은 32이다. 60000/32=1875\n",
        "\n",
        "history ="
      ]
    },
    {
      "cell_type": "markdown",
      "metadata": {
        "id": "8YTElBDHP5Sc"
      },
      "source": [
        "![12.7.JPG](data:image/jpeg;base64,/9j/4AAQSkZJRgABAQEAYABgAAD/4RDcRXhpZgAATU0AKgAAAAgABAE7AAIAAAAKAAAISodpAAQAAAABAAAIVJydAAEAAAAIAAAQzOocAAcAAAgMAAAAPgAAAAAc6gAAAAgAAAAAAAAAAAAAAAAAAAAAAAAAAAAAAAAAAAAAAAAAAAAAAAAAAAAAAAAAAAAAAAAAAAAAAAAAAAAAAAAAAAAAAAAAAAAAAAAAAAAAAAAAAAAAAAAAAAAAAAAAAAAAAAAAAAAAAAAAAAAAAAAAAAAAAAAAAAAAAAAAAAAAAAAAAAAAAAAAAAAAAAAAAAAAAAAAAAAAAAAAAAAAAAAAAAAAAAAAAAAAAAAAAAAAAAAAAAAAAAAAAAAAAAAAAAAAAAAAAAAAAAAAAAAAAAAAAAAAAAAAAAAAAAAAAAAAAAAAAAAAAAAAAAAAAAAAAAAAAAAAAAAAAAAAAAAAAAAAAAAAAAAAAAAAAAAAAAAAAAAAAAAAAAAAAAAAAAAAAAAAAAAAAAAAAAAAAAAAAAAAAAAAAAAAAAAAAAAAAAAAAAAAAAAAAAAAAAAAAAAAAAAAAAAAAAAAAAAAAAAAAAAAAAAAAAAAAAAAAAAAAAAAAAAAAAAAAAAAAAAAAAAAAAAAAAAAAAAAAAAAAAAAAAAAAAAAAAAAAAAAAAAAAAAAAAAAAAAAAAAAAAAAAAAAAAAAAAAAAAAAAAAAAAAAAAAAAAAAAAAAAAAAAAAAAAAAAAAAAAAAAAAAAAAAAAAAAAAAAAAAAAAAAAAAAAAAAAAAAAAAAAAAAAAAAAAAAAAAAAAAAAAAAAAAAAAAAAAAAAAAAAAAAAAAAAAAAAAAAAAAAAAAAAAAAAAAAAAAAAAAAAAAAAAAAAAAAAAAAAAAAAAAAAAAAAAAAAAAAAAAAAAAAAAAAAAAAAAAAAAAAAAAAAAAAAAAAAAAAAAAAAAAAAAAAAAAAAAAAAAAAAAAAAAAAAAAAAAAAAAAAAAAAAAAAAAAAAAAAAAAAAAAAAAAAAAAAAAAAAAAAAAAAAAAAAAAAAAAAAAAAAAAAAAAAAAAAAAAAAAAAAAAAAAAAAAAAAAAAAAAAAAAAAAAAAAAAAAAAAAAAAAAAAAAAAAAAAAAAAAAAAAAAAAAAAAAAAAAAAAAAAAAAAAAAAAAAAAAAAAAAAAAAAAAAAAAAAAAAAAAAAAAAAAAAAAAAAAAAAAAAAAAAAAAAAAAAAAAAAAAAAAAAAAAAAAAAAAAAAAAAAAAAAAAAAAAAAAAAAAAAAAAAAAAAAAAAAAAAAAAAAAAAAAAAAAAAAAAAAAAAAAAAAAAAAAAAAAAAAAAAAAAAAAAAAAAAAAAAAAAAAAAAAAAAAAAAAAAAAAAAAAAAAAAAAAAAAAAAAAAAAAAAAAAAAAAAAAAAAAAAAAAAAAAAAAAAAAAAAAAAAAAAAAAAAAAAAAAAAAAAAAAAAAAAAAAAAAAAAAAAAAAAAAAAAAAAAAAAAAAAAAAAAAAAAAAAAAAAAAAAAAAAAAAAAAAAAAAAAAAAAAAAAAAAAAAAAAAAAAAAAAAAAAAAAAAAAAAAAAAAAAAAAAAAAAAAAAAAAAAAAAAAAAAAAAAAAAAAAAAAAAAAAAAAAAAAAAAAAAAAAAAAAAAAAAAAAAAAAAAAAAAAAAAAAAAAAAAAAAAAAAAAAAAAAAAAAAAAAAAAAAAAAAAAAAAAAAAAAAAAAAAAAAAAAAAAAAAAAAAAAAAAAAAAAAAAAAAAAAAAAAAAAAAAAAAAAAAAAAAAAAAAAAAAAAAAAAAAAAAAAAAAAAAAAAAAAAAAAAAAAAAAAAAAAAAAAAAAAAAAAAAAAAAAAAAAAAAAAAAAAAAAAAAAAAAAAAAAAAAAAAAAAAAAAAAAAAAAAAAAAAAAAAAAAAAAAAAAAAAAAAAAAAAAAAAAAAAAAAAAAAAAAAAAAAAAAAAAAAAAAAAAAAAAAAAAAAAAAAAAAAAAAAAAAAAAAAAAAAAAAAAAAAAAAAAAAAAAAAAAAAAAAAAAAAAAAAAAAAAAAAAAAAAAAAAAAAAAAAAAAAAAAAAAAAAAAAAAAAAAAAAAAAAAAAAAAAAAAAAAAAAAAAAAAAAAAAAAAAAAAAAAAAAAAAAAAAAAAAAAAAAAAAAAAAAAAAAAAAAAAAAAAAAAAAAAAAAAAAAAAAAAAAAAAAAAAAAAAAAAAAAAAAAAAAAAAAAAAAAAAAAAAAAAAAAAAAAAAAAAAAAAAAAAAAAAAAAAAAAAAAAAAAAAAAAAAAAAAAAAAAAAAAAAAAAAAAAAAAAAAAAAAAAAAAAAAAAAAAAAAAAAAAAAAAAAAAAAAAAAAAAAAAAAAAAAAAAAAAAAAAAAAAAAAAAAAAAAAAAAAAAAAAAAAAAAAAAAAAAAAAAAAAAAAAAAAAAAAAAAAAAAAAAAAAAAAAAAAAAAAAAAAAAAAAAAAAAAAAAAAAAAAAAAAAAAAAAAAAAAAAAAAAAAAAAAAAAAAAAAAAAAAAAAAAAAAAAAAAAAAAAAAAAAAAAAAAAAAAAAAAAAAAAAAAAAAAAAAAAAAAAAAAAAAAAAAAAAAAAAAAAAAAAAAAAAAAAAAAAAAAAAAAAAAAAAAAAAAAAAAAAAAAAAAAAAAAAAAAAAAAAAAAAAAAAAAAAAAAAAAAAAAAAAAAAAAAAAAAAAAAAAAAAAAAAAAAAAAAAAAAAAAAAAAAAAAAAAAAAAAAAAAAAAAAAAAAAAAAAAAAAAAAAAAAAAAAAAAAAAAAAAAAAAAAAAAAAAAAAAAAAAAAAAAAAAAAAAAAAAAAAAAAAAAAAAAAAAAAAAAAAAAAAAAAAAAAAAAAAAAAAAAAAAAAAAAAAAAAAAAAAAAAAAAAAAAAAAOq2jOyGjOyglQAABZADAAIAAAAUAAAQopAEAAIAAAAUAAAQtpKRAAIAAAADODUAAJKSAAIAAAADODUAAOocAAcAAAgMAAAIlgAAAAAc6gAAAAgAAAAAAAAAAAAAAAAAAAAAAAAAAAAAAAAAAAAAAAAAAAAAAAAAAAAAAAAAAAAAAAAAAAAAAAAAAAAAAAAAAAAAAAAAAAAAAAAAAAAAAAAAAAAAAAAAAAAAAAAAAAAAAAAAAAAAAAAAAAAAAAAAAAAAAAAAAAAAAAAAAAAAAAAAAAAAAAAAAAAAAAAAAAAAAAAAAAAAAAAAAAAAAAAAAAAAAAAAAAAAAAAAAAAAAAAAAAAAAAAAAAAAAAAAAAAAAAAAAAAAAAAAAAAAAAAAAAAAAAAAAAAAAAAAAAAAAAAAAAAAAAAAAAAAAAAAAAAAAAAAAAAAAAAAAAAAAAAAAAAAAAAAAAAAAAAAAAAAAAAAAAAAAAAAAAAAAAAAAAAAAAAAAAAAAAAAAAAAAAAAAAAAAAAAAAAAAAAAAAAAAAAAAAAAAAAAAAAAAAAAAAAAAAAAAAAAAAAAAAAAAAAAAAAAAAAAAAAAAAAAAAAAAAAAAAAAAAAAAAAAAAAAAAAAAAAAAAAAAAAAAAAAAAAAAAAAAAAAAAAAAAAAAAAAAAAAAAAAAAAAAAAAAAAAAAAAAAAAAAAAAAAAAAAAAAAAAAAAAAAAAAAAAAAAAAAAAAAAAAAAAAAAAAAAAAAAAAAAAAAAAAAAAAAAAAAAAAAAAAAAAAAAAAAAAAAAAAAAAAAAAAAAAAAAAAAAAAAAAAAAAAAAAAAAAAAAAAAAAAAAAAAAAAAAAAAAAAAAAAAAAAAAAAAAAAAAAAAAAAAAAAAAAAAAAAAAAAAAAAAAAAAAAAAAAAAAAAAAAAAAAAAAAAAAAAAAAAAAAAAAAAAAAAAAAAAAAAAAAAAAAAAAAAAAAAAAAAAAAAAAAAAAAAAAAAAAAAAAAAAAAAAAAAAAAAAAAAAAAAAAAAAAAAAAAAAAAAAAAAAAAAAAAAAAAAAAAAAAAAAAAAAAAAAAAAAAAAAAAAAAAAAAAAAAAAAAAAAAAAAAAAAAAAAAAAAAAAAAAAAAAAAAAAAAAAAAAAAAAAAAAAAAAAAAAAAAAAAAAAAAAAAAAAAAAAAAAAAAAAAAAAAAAAAAAAAAAAAAAAAAAAAAAAAAAAAAAAAAAAAAAAAAAAAAAAAAAAAAAAAAAAAAAAAAAAAAAAAAAAAAAAAAAAAAAAAAAAAAAAAAAAAAAAAAAAAAAAAAAAAAAAAAAAAAAAAAAAAAAAAAAAAAAAAAAAAAAAAAAAAAAAAAAAAAAAAAAAAAAAAAAAAAAAAAAAAAAAAAAAAAAAAAAAAAAAAAAAAAAAAAAAAAAAAAAAAAAAAAAAAAAAAAAAAAAAAAAAAAAAAAAAAAAAAAAAAAAAAAAAAAAAAAAAAAAAAAAAAAAAAAAAAAAAAAAAAAAAAAAAAAAAAAAAAAAAAAAAAAAAAAAAAAAAAAAAAAAAAAAAAAAAAAAAAAAAAAAAAAAAAAAAAAAAAAAAAAAAAAAAAAAAAAAAAAAAAAAAAAAAAAAAAAAAAAAAAAAAAAAAAAAAAAAAAAAAAAAAAAAAAAAAAAAAAAAAAAAAAAAAAAAAAAAAAAAAAAAAAAAAAAAAAAAAAAAAAAAAAAAAAAAAAAAAAAAAAAAAAAAAAAAAAAAAAAAAAAAAAAAAAAAAAAAAAAAAAAAAAAAAAAAAAAAAAAAAAAAAAAAAAAAAAAAAAAAAAAAAAAAAAAAAAAAAAAAAAAAAAAAAAAAAAAAAAAAAAAAAAAAAAAAAAAAAAAAAAAAAAAAAAAAAAAAAAAAAAAAAAAAAAAAAAAAAAAAAAAAAAAAAAAAAAAAAAAAAAAAAAAAAAAAAAAAAAAAAAAAAAAAAAAAAAAAAAAAAAAAAAAAAAAAAAAAAAAAAAAAAAAAAAAAAAAAAAAAAAAAAAAAAAAAAAAAAAAAAAAAAAAAAAAAAAAAAAAAAAAAAAAAAAAAAAAAAAAAAAAAAAAAAAAAAAAAAAAAAAAAAAAAAAAAAAAAAAAAAAAAAAAAAAAAAAAAAAAAAAAAAAAAAAAAAAAAAAAAAAAAAAAAAAAAAAAAAAAAAAAAAAAAAAAAAAAAAAAAAAAAAAAAAAAAAAAAAAAAAAAAAAAAAAAAAAAAAAAAAAAAAAAAAAAAAAAAAAAAAAAAAAAAAAAAAAAAAAAAAAAAAAAAAAAAAAAAAAAAAAAAAAAAAAAAAAAAAAAAAAAAAAAAAAAAAAAAAAAAAAAAAAAAAAAAAAAAAAAAAAAAAAAAAAAAAAAAAAAAAAAAAAAAAAAAAAAAAAAAAAAAAAAAAAAAAAAAAAAAAAAAAAAAAAAAAAAAAAAAAAAAAAAAAAAAAAAAAAAAAAAAAAAAAAAAAAAAAAAAAAAAAAAAAAAAAAAAAAAAAAAAAAAAAAAAAAAAAAAAAAAAAAAAAAAAAAAAAAAAAAAAAAAAAAAAAAAAAAAAAAAAAAAAAAAAAAAAAAAAAAAAAAAAAAAAAAAAAAAAAAAAAAAAAAAAAAAAAAAAAAAAAAAAAAAAAAAAAAAAAAAAAAAAAAAAAAAAAAAAAAAAAAAAAAAAAAAAAAAAAAAAAAAAAAAAAAAAAAAAAAAAAAAAAAAAAAAAAAAAAAAAAAAAAAAAAAAAAAAAAAAAAAAAAAAAAAAAAAAAAAAAAAAAAAAAAAAAAAAAAAAAAAAAAAAAAAAAAAAAAAAAAAAAAAAAAAAAAAAAAAAAAAAAAAAAAAAAAAAAAAAAAAAAAAAAAAAAAAAAAAAAAAAAAAAAAAAAAAAAAAAAAAAADIwMjE6MTI6MTcgMTU6Mjk6NDUAMjAyMToxMjoxNyAxNToyOTo0NQAAAIytjMEVyAAA/+ELHGh0dHA6Ly9ucy5hZG9iZS5jb20veGFwLzEuMC8APD94cGFja2V0IGJlZ2luPSfvu78nIGlkPSdXNU0wTXBDZWhpSHpyZVN6TlRjemtjOWQnPz4NCjx4OnhtcG1ldGEgeG1sbnM6eD0iYWRvYmU6bnM6bWV0YS8iPjxyZGY6UkRGIHhtbG5zOnJkZj0iaHR0cDovL3d3dy53My5vcmcvMTk5OS8wMi8yMi1yZGYtc3ludGF4LW5zIyI+PHJkZjpEZXNjcmlwdGlvbiByZGY6YWJvdXQ9InV1aWQ6ZmFmNWJkZDUtYmEzZC0xMWRhLWFkMzEtZDMzZDc1MTgyZjFiIiB4bWxuczpkYz0iaHR0cDovL3B1cmwub3JnL2RjL2VsZW1lbnRzLzEuMS8iLz48cmRmOkRlc2NyaXB0aW9uIHJkZjphYm91dD0idXVpZDpmYWY1YmRkNS1iYTNkLTExZGEtYWQzMS1kMzNkNzUxODJmMWIiIHhtbG5zOnhtcD0iaHR0cDovL25zLmFkb2JlLmNvbS94YXAvMS4wLyI+PHhtcDpDcmVhdGVEYXRlPjIwMjEtMTItMTdUMTU6Mjk6NDUuODQ2PC94bXA6Q3JlYXRlRGF0ZT48L3JkZjpEZXNjcmlwdGlvbj48cmRmOkRlc2NyaXB0aW9uIHJkZjphYm91dD0idXVpZDpmYWY1YmRkNS1iYTNkLTExZGEtYWQzMS1kMzNkNzUxODJmMWIiIHhtbG5zOmRjPSJodHRwOi8vcHVybC5vcmcvZGMvZWxlbWVudHMvMS4xLyI+PGRjOmNyZWF0b3I+PHJkZjpTZXEgeG1sbnM6cmRmPSJodHRwOi8vd3d3LnczLm9yZy8xOTk5LzAyLzIyLXJkZi1zeW50YXgtbnMjIj48cmRmOmxpPuq2jOyGjOyglTwvcmRmOmxpPjwvcmRmOlNlcT4NCgkJCTwvZGM6Y3JlYXRvcj48L3JkZjpEZXNjcmlwdGlvbj48L3JkZjpSREY+PC94OnhtcG1ldGE+DQogICAgICAgICAgICAgICAgICAgICAgICAgICAgICAgICAgICAgICAgICAgICAgICAgICAgICAgICAgICAgICAgICAgICAgICAgICAgICAgICAgICAgICAgICAgICAgICAgICAgCiAgICAgICAgICAgICAgICAgICAgICAgICAgICAgICAgICAgICAgICAgICAgICAgICAgICAgICAgICAgICAgICAgICAgICAgICAgICAgICAgICAgICAgICAgICAgICAgICAgICAKICAgICAgICAgICAgICAgICAgICAgICAgICAgICAgICAgICAgICAgICAgICAgICAgICAgICAgICAgICAgICAgICAgICAgICAgICAgICAgICAgICAgICAgICAgICAgICAgICAgIAogICAgICAgICAgICAgICAgICAgICAgICAgICAgICAgICAgICAgICAgICAgICAgICAgICAgICAgICAgICAgICAgICAgICAgICAgICAgICAgICAgICAgICAgICAgICAgICAgICAgCiAgICAgICAgICAgICAgICAgICAgICAgICAgICAgICAgICAgICAgICAgICAgICAgICAgICAgICAgICAgICAgICAgICAgICAgICAgICAgICAgICAgICAgICAgICAgICAgICAgICAKICAgICAgICAgICAgICAgICAgICAgICAgICAgICAgICAgICAgICAgICAgICAgICAgICAgICAgICAgICAgICAgICAgICAgICAgICAgICAgICAgICAgICAgICAgICAgICAgICAgIAogICAgICAgICAgICAgICAgICAgICAgICAgICAgICAgICAgICAgICAgICAgICAgICAgICAgICAgICAgICAgICAgICAgICAgICAgICAgICAgICAgICAgICAgICAgICAgICAgICAgCiAgICAgICAgICAgICAgICAgICAgICAgICAgICAgICAgICAgICAgICAgICAgICAgICAgICAgICAgICAgICAgICAgICAgICAgICAgICAgICAgICAgICAgICAgICAgICAgICAgICAKICAgICAgICAgICAgICAgICAgICAgICAgICAgICAgICAgICAgICAgICAgICAgICAgICAgICAgICAgICAgICAgICAgICAgICAgICAgICAgICAgICAgICAgICAgICAgICAgICAgIAogICAgICAgICAgICAgICAgICAgICAgICAgICAgICAgICAgICAgICAgICAgICAgICAgICAgICAgICAgICAgICAgICAgICAgICAgICAgICAgICAgICAgICAgICAgICAgICAgICAgCiAgICAgICAgICAgICAgICAgICAgICAgICAgICAgICAgICAgICAgICAgICAgICAgICAgICAgICAgICAgICAgICAgICAgICAgICAgICAgICAgICAgICAgICAgICAgICAgICAgICAKICAgICAgICAgICAgICAgICAgICAgICAgICAgICAgICAgICAgICAgICAgICAgICAgICAgICAgICAgICAgICAgICAgICAgICAgICAgICAgICAgICAgICAgICAgICAgICAgICAgIAogICAgICAgICAgICAgICAgICAgICAgICAgICAgICAgICAgICAgICAgICAgICAgICAgICAgICAgICAgICAgICAgICAgICAgICAgICAgICAgICAgICAgICAgICAgICAgICAgICAgCiAgICAgICAgICAgICAgICAgICAgICAgICAgICAgICAgICAgICAgICAgICAgICAgICAgICAgICAgICAgICAgICAgICAgICAgICAgICAgICAgICAgICAgICAgICAgICAgICAgICAKICAgICAgICAgICAgICAgICAgICAgICAgICAgICAgICAgICAgICAgICAgICAgICAgICAgICAgICAgICAgICAgICAgICAgICAgICAgICAgICAgICAgICAgICAgICAgICAgICAgIAogICAgICAgICAgICAgICAgICAgICAgICAgICAgICAgICAgICAgICAgICAgICAgICAgICAgICAgICAgICAgICAgICAgICAgICAgICAgICAgICAgICAgICAgICAgICAgICAgICAgCiAgICAgICAgICAgICAgICAgICAgICAgICAgICAgICAgICAgICAgICAgICAgICAgICAgICAgICAgICAgICAgICAgICAgICAgICAgICAgICAgICAgICAgICAgICAgICAgICAgICAKICAgICAgICAgICAgICAgICAgICAgICAgICAgICAgICAgICAgICAgICAgICAgICAgICAgICAgICAgICAgICAgICAgICAgICAgICAgICAgICAgICAgICAgICAgICAgICAgICAgIAogICAgICAgICAgICAgICAgICAgICAgICAgICAgICAgICAgICAgICAgICAgICAgICAgICAgICAgICAgICAgICAgICAgICAgICAgICAgICAgICAgICAgICAgICAgICAgICAgICAgCiAgICAgICAgICAgICAgICAgICAgICAgICAgICAgICAgICAgICAgICAgICAgICAgICAgICAgICAgICAgICAgICAgICAgICAgICAgICAgICAgICAgICAgICAgICAgICAgICAgICAKICAgICAgICAgICAgICAgICAgICAgICAgICAgIDw/eHBhY2tldCBlbmQ9J3cnPz7/2wBDAAcFBQYFBAcGBQYIBwcIChELCgkJChUPEAwRGBUaGRgVGBcbHichGx0lHRcYIi4iJSgpKywrGiAvMy8qMicqKyr/2wBDAQcICAoJChQLCxQqHBgcKioqKioqKioqKioqKioqKioqKioqKioqKioqKioqKioqKioqKioqKioqKioqKioqKir/wAARCADFBBUDASIAAhEBAxEB/8QAHwAAAQUBAQEBAQEAAAAAAAAAAAECAwQFBgcICQoL/8QAtRAAAgEDAwIEAwUFBAQAAAF9AQIDAAQRBRIhMUEGE1FhByJxFDKBkaEII0KxwRVS0fAkM2JyggkKFhcYGRolJicoKSo0NTY3ODk6Q0RFRkdISUpTVFVWV1hZWmNkZWZnaGlqc3R1dnd4eXqDhIWGh4iJipKTlJWWl5iZmqKjpKWmp6ipqrKztLW2t7i5usLDxMXGx8jJytLT1NXW19jZ2uHi4+Tl5ufo6erx8vP09fb3+Pn6/8QAHwEAAwEBAQEBAQEBAQAAAAAAAAECAwQFBgcICQoL/8QAtREAAgECBAQDBAcFBAQAAQJ3AAECAxEEBSExBhJBUQdhcRMiMoEIFEKRobHBCSMzUvAVYnLRChYkNOEl8RcYGRomJygpKjU2Nzg5OkNERUZHSElKU1RVVldYWVpjZGVmZ2hpanN0dXZ3eHl6goOEhYaHiImKkpOUlZaXmJmaoqOkpaanqKmqsrO0tba3uLm6wsPExcbHyMnK0tPU1dbX2Nna4uPk5ebn6Onq8vP09fb3+Pn6/9oADAMBAAIRAxEAPwD6RooooAKKKKACiiigAooooAKKKKACiiigAooooAKKKKACiiigAooooAKKKKACiiigAooooAKKKKACiiigAooooAKKKKACiiigAooooAKKKKACiiigAooooAKKKKACiiigAooooAKKKKACiiigAooooAKKKKACiiigAooooAKKKKACiiigAooooAKKKKACiiigAooooAKKKKACiiigAooooAKKKKACiiigAooooAKKKKACiiigAooooAKKKKACiiigAooooAKKKKACiiigAooooAKKKKACiiigAooooAKKKKACiiigAooooAKKKKACiiigAooooAKKKKACiiigAooooAKKKKACiiigAooooAKKKKACiivONP8AC+neJPGHiVtT89vs90oj8uUrgEHPT6VlUqOLSir3OvD0IVVOVSVlFX2v1S7ruej0VyH/AArHw7/cu/8AwJaj/hWPh3+5d/8AgS1TzVf5V9//AADT2WD/AOfsv/Af/tjr6K5D/hWXh3+5d/8AgS1H/CsfDv8Acu//AAJajmq/yr7/APgB7LB/8/Zf+A//AGx19Fch/wAKx8O/3Lv/AMCWo/4Vl4d/uXf/AIEtRzVf5V9//AD2WD/5+y/8B/8Atjr6K5D/AIVj4d/uXf8A4EtR/wAKx8O/3Lv/AMCWo5qv8q+//gB7LB/8/Zf+A/8A2x19Fch/wrHw7/cu/wDwJaj/AIVj4d/uXf8A4EtRzVf5V9//AAA9lg/+fsv/AAH/AO2OvorkP+FY+Hf7l3/4EtR/wrHw7/du/wDwJajmq/yr7/8AgB7LB/8AP2X/AID/APbHX0VyH/CsfDv9y7/8CWo/4Vl4d/u3f/gS1HNV/lX3/wDAD2WD/wCfsv8AwH/7Y6+iuQ/4Vj4d/uXf/gS1H/CsfDv9y7/8CWo5qv8AKvv/AOAHssH/AM/Zf+A//bHX0VyH/CsfDv8Acu//AAJaj/hWPh3+5d/+BLUc1X+Vff8A8APZYP8A5+y/8B/+2OvorkP+FY+Hf7l3/wCBLVk6h4X07w54s8OPpnnqZ7tlfzJiwIC+/wBamVSpFXlHT1/4BdPDYaq+WFR3s38PZX/m8j0Wiiiuk80KKKKACiiigAooooAKKKKACiiigAooooAKKKKACiiigAooooAKKKKACiiigAooooAKKKKACiiigAooooAKKKKACiiigAooooAKKKKACiiigAooooAKKKKACiiigAooooAKKKKACiiigAooooAKKKKACiiigAooooAKKKKACiiigAooooAKKKKACiiigAooooAKKKKACiiigAooooAKKKKACiiigAooooAKKKKACiiigAooooAKKKKACiiigAooooAKKKKACiiigAooooAKKKKACiiigAooooAK5Dwj/wAjb4s/6+4//QTXX1yHhH/kbfFn/X3H/wCgmsKn8SHz/I78N/Arei/9KR19FFFbnAcj8QPGF34WstOttFs477WtYvFs7GCZise48s7kc7VHX61x3iX4geJrHwJ4ys9R+y6f4m0FbeRLjT8tDJFK67XQSZOfvKQa2PizDd2F54V8V21rNd2+gaiZL2OBC7rBIu13Cjrt/rXmfj+w07xxo/jnx7HbXDWNvBZ2uk3EnmQeayuPNfYcZHzgDcPXvQB6p4d1TU77x58QrGTU3jisxZizaX50tS9ruLBSQMbvmI4zXK6drXi2/wDF2saE3xSsLdtMSB1uZNFt/LuBIpPyHzf4cYPvV/TotSn8a/FCLRf7PNy7acpGpRu8BQ2o3hlTk5XNeTaidE1AWwV/Atp9nuUnP2bw7qK+btP+rfKHKHuO/rQM9m+Emva74otTq2reLYdStn82OOw/s6KCQFX2iXKOTt4IwR3pbTxf458Yajq0vge00K20nTbx7JJdW81pLqRPvkBCNi56ZzXKfDC7Fx4tY+G18DxG3iDX/wDZ+kXttcC3LDO0yADkgevSo9Q1jwEur3194U+JOq+H01OYzX1rYWcsscjn7zoDGSjHuRQB0mo+Pb3XfCfgfV7B5dNmvvEttY38Eb8cO6Sx57qSv4jFer14Vf6v4VuNF8EaN4K+1tZaX4p09TJcWssW8u0hLbnUbmJyTjua90bcVOwgNjgkZAP0oEeS6942+IOg+NND8O3LeEhPrjyi3c/aMR7Bkb+c/MTtGO9dDf3/AIks9Q8Gwa3cWkd3d6tLFdLppcQyxi2mZVO/k8qp+ornbX4f2ninWtesvHupPqfibyLeUXVpGYY9OiLOYltySSDuRiSevGc8k7c2ga/Z3HgmDVdQl16ex1aV575bby9sX2aZVLgZHdQWPUmgDlfiT8T9T0fxELK3vtU8OLFuQK9nYyi6AcgSqZZlYKcccVU8TfFm7i1a6M13d6FZ3XhK5msobkRhpLvcwikRoy3JA4w2K0viLpM3g7xNqvjCHU9D8vXYY7N7XWLKSdw6ptCwBMltwHK4x6+3BIbLw7Y+Vdwa1aWQ8JXWiRXeq6TNbq9zNI8gOcEKmWwCTx9OaBnq/iHxlrug/DnwXdaR9kuNT1q5sbF5dQV3TM0RJc7SDncB+tX/AC/iz/z9eDf/AAHuv/i6j1XwNJ4n+HnhXTV1gaXd6Q1nexXUMaTjzIoiowCcEZbOeQce9c/psHj6/wDHet+H2+JMsaaXBbSrP/Y9qTJ5ockY28Y2+vegR6low1UaRAPEDWb6jg+cbJWWEnJxtDEnpjr3zV2s/Q7W+sdGgttW1U6veR7vMvDAkJkyxI+RPlGAQOPTNaFABXJ+Lf8AkaPCv/X6/wD6CK6yuT8W/wDI0eFf+v1//QRWGI/h/d+aO7Afx/lL/wBJZ1lFFFbnCFFFFABRRRQAUUUUAFFFFABRRRQAUUUUAFFFFABRRRQAUUUUAFFFFABRRRQAUU2RtkbMP4QTXGad4i8Yarp0N9Z6HYNBOu5CbrBI+lZzqKDSZ00cNOtFyTSS7tLf19DtaK5P+0vHH/QB0/8A8C6P7S8cf9AHT/8AwLqPbLs/uZr9Sn/PH/wKP+Z1lFcn/aXjj/oA6f8A+BdH9peOP+gDp/8A4F0e2XZ/cw+pT/nj/wCBR/zOsork/wC0vHH/AEAdP/8AAuj+0vHH/QB0/wD8C6PbLs/uYfUp/wA8f/Ao/wCZ1lFcn/aXjj/oA6f/AOBdH9peOP8AoA6f/wCBdHtl2f3MPqU/54/+BR/zOsork/7S8cf9AHT/APwLo/tLxx/0AdP/APAuj2y7P7mH1Kf88f8AwKP+Z1lFcn/aXjj/AKAOn/8AgXR/aXjj/oA6f/4F0e2XZ/cw+pT/AJ4/+BR/zOsork/7S8cf9AHT/wDwLo/tLxx/0AdP/wDAuj2y7P7mH1Kf88f/AAKP+Z1lFcn/AGl44/6AOn/+BdH9peOP+gDp/wD4F0e2XZ/cw+pT/nj/AOBR/wAzrKK5P+0vHH/QB0//AMC6P7S8cf8AQB0//wAC6PbLs/uYfUp/zx/8Cj/mdZRXJ/2l44/6AOn/APgXR/aXjj/oA6f/AOBdHtl2f3MPqU/54/8AgUf8zrKK5P8AtLxx/wBAHT//AALqnq3ibxdoulzahf6HYLbw43lbkkjJAHH1IpOvFK7T+5lRwFSclGMotv8AvR/zO4oqO3kM1tFIRgugYgdsipK6Dgas7BRRRQIKKKKACiiigAooooAKKKKACiiigAooooAKKKKACiiigAooooAKKKKACszxHrDaDoNxqKW/2loSgEO/ZuLOq9cHH3vStOuc8f8A/IlXn/XSD/0clZ1ZONOTXZnThYRqYinCSum0n95W/wCEj8V/9CS3/gzj/wAKP+Ej8V/9CS3/AIM4/wDCusoqfZy/nf4f5Gv1mj/z4j98/wD5I5P/AISPxX/0JLf+DOP/AAo/4SPxX/0JLf8Agzj/APia6tmCKWchVUZJJwAKbDNHcQrLBIksbjKujAhh7EUezl/O/wAP8g+s0f8AnxH75/8AyRy3/CR+K/8AoSW/8Gcf+FH/AAkfiv8A6Elv/BnH/hXWUyWeKBGaaVI1VdzF2AAHqfaj2cv53+H+QfWaP/PiP3z/APkjlv8AhI/Ff/Qkt/4M4/8A4mj/AISPxX/0JLf+DOP/AArrKKPZy/nf4f5B9Zo/8+I/fP8A+SOT/wCEj8V/9CS3/gzj/wAKP+Ej8V/9CS3/AIM4/wDCusoo9nL+d/h/kH1mj/z4j98//kjk/wDhI/Ff/QlN/wCDOP8A+Jo/4SPxX/0JTf8Agzj/APia6l5Y45ER5FV5CQilsFjjOB68Amn0ezl/O/w/yD6zR/58R++f/wAkcn/wkfiv/oSW/wDBnH/hR/wkfiv/AKElv/BnH/hXUySxwozyyKiqpZmZsAAdSfanKyuoZCGVhkEHIIo9nL+d/h/kH1mj/wA+I/fP/wCSOU/4SPxX/wBCS3/gzj/wo/4SPxX/ANCS3/gzj/wrq2dVxuYDPTJpsM8VzCs1vKksTDKvGwZT9CKPZy/nf4f5B9Zo/wDPiP3z/wDkjlv+Ej8V/wDQkt/4M4/8KP8AhI/Ff/Qkt/4M4/8ACuspkM8VxEJLeVJYySA6MGBxweRR7OX87/D/ACD6zR/58R++f/yRy3/CR+K/+hJb/wAGcf8AhR/wkfiv/oSm/wDBnH/8TXWU2WWOCJpZnWONBlnc4Cj1Jo9nL+d/h/kH1mj/AM+I/fP/AOSOV/4SPxX/ANCS3/gzj/wo/wCEj8V/9CS3/gzj/wAK6tWV0DIwZWGQQcgilJAxk9elHs5fzv8AD/IPrNH/AJ8R++f/AMkcn/wkfiv/AKElv/BnH/hVe/8AGXiLS7GW8vvBzRW8Qy7nUUOBnHQLnvXYwzxXEQlt5UljOcOjBgccdRXPfEH/AJEHVP8Armv/AKGtRUjOMHJTei8v8jfD1aFWtCnKjGzaW8+r/wAR0lFFFdJ5QUUUUAFFFFABRRRQAUUUUAFFFFABXIeEf+Rt8Wf9fcf/AKCa6+uQ8I/8jb4s/wCvuP8A9BNYVP4kPn+R34b+BW9F/wClI6+iuP8AGnxBsvCsYhtJtJvNTEiiWxutZgsnjQqTvPmH/d4xzuzR4f8AiBZ694burtZtLXVba3lnk0601SK8KKmcMWjPQ8fTOK3OA7CsrxN4dsvFnhu70TVTKLS7VVkMLbWwGDDBwe4Fc1Y/E6yi8CaBr2vWt1HJq9v5vl2FpJcKjADI+UEgc8ZrNvfjhoD+F73V9Atr3UPsqRyBZraS3jkVp44jiRlxkGTOPY0Addo3haLRvFXiDW47l5W1trdmiK4EXlReWMHvnrW9XJaf41EnifxjZaoIbSw8N/Z2+05OSjweaxb6e1VvDfxV0LxPqken2ltqVpNcW7XNmb60MKXka9WjOTkd+3FAGnaeEI7T4jah4sF4zSX1lHZm28vAQIc7t2ec+mK6MADoMV5t4W+Kd14l1PwlENMhtYdfs7y4kHml2hMLlQAcAEHGelT6x8RfEOl+KBosPgWa5lneUWTf2tbRtdonV1RjkDGDg9M0AdJ4p8LR+J20Yy3TW/8AZWqQ6iu1N3mGPOEPoDnrW9XnujfEXxDqnig6LN4FmtZYHj+2sdWt5Dao/R2RTkjGTgdcV1XiHxPp/hldP/tHzWfUb2Oxto4U3M8r5xxnpwcntQBia98OzrHiafW7LxPrWi3FxBHBKmnyoiuqFiucqTn5zTdL+H9/puq215L478S3qQyB2trmeMxygfwsAgOKozfGGyt9Tt9On8JeLI7y6V2ggbTQHlC8sVG/JxkZrZl8YzM/hhotMubRdbvpLaSDUIjFNCFilfJUE4JMQ/A0AWPGHguw8ZWlot3cXVld2M32iyvbOTZLbyY6g8gj1BFc5efDLW9atWsPEvxB1i/02QbZrWG3htvNXurOq5IPQjvXQ+JfGD+HLyG3Twzr+sCWPf5ul2iyonONrEuuDxms7xN4+k0LxDPpEOnrI6aDc6us0kmMGLpGVA7+uaANe98DeF9SW2GpaDYXn2WBbeE3ECyFI1+6oJ5wKq/8Ky8D5z/wiWj5/wCvNP8ACq178RtO0bwtoGo6tBcy3uuQxNbWGnwmaWV2QMwRfQbupPpVaX4pWFxoWjapo9pLPHqOuQ6NNDcgwy2sjsVbcuD8y8Hb3z1oA6jRvDmjeHY5U0LS7TTkmIaRbaERhyOhOOvWtKuM0Hxpqms+H/EN9baML270rVrmwgs7eYRmdYnCg7nOAcEk9uKw7b4q+JLy3vp7X4ezTRafK8N26a1akQOgy6tzwQOtAHp9cn4t/wCRo8K/9fr/APoIp/gfxZqPi7T3vr3w8+k2jIj2sxvYrhbkHOSpjPGMDr60zxb/AMjR4V/6/X/9BFYYj+H935o7sB/H+Uv/AElmj4h8U2nht7RLu2u7h7ssIktYw5yuM8Ej1rL/AOFi2n/QC17/AMAh/wDFUeLP+R18Jf8AXxN/6CtdfS/eSnJJ2t5eRq1h6VGnKcOZyTe9urX6HIf8LFtP+gFr3/gEP/iqP+Fi2n/QC17/AMAh/wDFV19Vp9Rs7W+tbO4uYorm8LC3iZgGlKjc20d8Dk1XJV/m/Az9thf+fX/kz/yOZ/4WLaf9ALXv/AIf/FUf8LFtP+gFr3/gEP8A4qt7S9f0rWtBj1rTb2KbTZEZ1uclU2qSGJ3YwAQevpT7LXNJ1KYw6dqlldyqu4pBcI7AeuAenIo5Kn834B7bC/8APr/yZ/5HPf8ACxbT/oBa9/4BD/4qj/hYtp/0Ate/8Ah/8VXQabrmm6vcX0Om3SzyafOba6VQR5UgGSpyPftV3zE8zy967+u3PP5UclT+b8A9thf+fX/kz/yOS/4WLaf9ALXv/AIf/FUf8LFtP+gFr3/gEP8A4qujOrWK64ujm4Uag9ubpYMHJiDBS3pjJAq5RyVP5vwD22F/59f+TP8AyOQ/4WLaf9ALXv8AwCH/AMVR/wALFtP+gFr3/gEP/iq6u4uIrW2luLmRYoYULySOcBFAyST6AVnW3ifRbzUrSwtNRhmub20+22yRkkSwZA3g9McjvRyVf5vwD22F/wCfX/kz/wAjF/4WLaf9ALXv/AIf/FUf8LFtP+gFr3/gEP8A4ququbmCytJbq8mjgt4UMkssjBVRQMliTwABzmi1uoL20iurOaOe3mQSRSxsGV1IyGBHUEd6OSr/ADfgHtsL/wA+v/Jn/kcr/wALFtP+gFr3/gEP/iqP+Fi2n/QC17/wCH/xVdcSBjJAycDNLRyVP5vwD22F/wCfX/kz/wAjkP8AhYtp/wBALXv/AACH/wAVR/wsW0/6AWvf+AQ/+KrW1LxfoGkNdrqOq28L2RiW5TduaIynEe4DJG49K0by/s9Og8/ULuC1izt8yeQIufTJo5Kn834B7bC/8+v/ACZ/5HMf8LFtP+gFr3/gEP8A4qj/AIWLaf8AQC17/wAAh/8AFV0cWrafPp8t/bXtvPaQhjJNDIHVQoyeVz0FSWF9bappttf2EomtbqJZoZVBw6MMqefUEUclT+b8A9thf+fX/kz/AMjln+JFjFG0kmia4iKCzM1mAAB1JO6up0+9j1LTba9gDLFcxLKgcYIDDIz781S8U/8AIn6z/wBeE/8A6Lak8Kf8ido//XlD/wCgClFzU+WTvoOtGjPD+1px5Xe29+hrUUUVueeMn/495P8AdP8AKsPwL/yIuk/9cB/M1uT/APHvJ/un+VYfgX/kRdJ/64D+ZrJ/xV6P9Drj/usv8Ufykb9FFFanIYN7448M6d4kh0C+1uzg1WfGy1eTDZPQHsCewOCcjHWs7W/iRpWh32s2c1rdyz6PHayz7FUKwnkCLtJbkgnJyB+NeU/2fpuofBj4l6pqscbal/bN20k7Y8yOWN18pQeoAJAA/wBo+tZt3eaxf/8ACY3PiO1itb59N0QukcvmBh9oTDE4GCepHagZ7t4l8b6T4Tngi1VL5mnQuptbGWcAA45KKQPxrDPxj8LjGYta56f8Se55/wDHK5v4z+JbO+trvwgPFGh6Wk0IW+iv4J3lUkq6FGTgcYPOa88k8e3/AInvtNk1bxd4Ys/+EZ1DfZeZaXW28KoAspwTkdcfdOc0AfTem38Oq6Zb39qJBDcRiRBLGY2wRkZVsEH2NWaxPCGvweJfDFrqEF/a6gxXZNPZo6RNIPvbQ/zAZ9a5Hxv4puU8Rto1p478N+GrNYl+1STyq1+jnJ2qjMFUbSpDHnnpQI7Dw/4p03xLNqsemNIW0q+ksLjeoH7xMZxzyOevsas67rMOgaNPqVzb3VzHDtzFZwGaVssBwg5PX8q8dt7fwj4OH2v4Y/EXQ7G9kQLeQarfpPBfkEkPIQ25XyT8y/lS/EySy8Q+EvDOs6hNp0v2icWt/renSzT21gvJYqqOA3zDbubp+NAHoUnxJ0qHwqmvz2GqwWz3sdkIp7Typd7sFB2uR8uW6/WtDw74vsvEUGtTRxvaxaPqM9hO9wygFogpZwc8Lhu/pXzY2m2UWmauuiTf2jZ2+o6fDa6/GkqCQvMrPHskZkYqVU5A7ehrp7j7TZ/A34lxSXckz/8ACVzQ3FyQEZ0MlursQoAGQTkAAc0DPa9G8deGvEVtezaBq9vqIsVLTpA2WUAZzg4yDjg9D61S8MfETTPFmoWVtpttdRi90v8AtON51UYj80xbSAT82Rn0xXn/AI8sl8N/Ejw1/wAILp9o13caJeW09sJvKR7ZEUoWIBzj5iCeu0DNRfBX/kOeHP8AsTv/AG9agD2LXNbtPD2jy6lqPnfZ4SobyIWlfkgDCqCTyfSuZsPi34V1HWbLS4Zb+O6vpPKt1n06eIO3XGWUCt/xNrdxoGite2ej32sz7giWtkoLEnoSSRhfU84z0rySz1fRPFerf8JD4+8c6Tpd7Cjx6ZYaXqkYOnK33nMnO6UgbSRwBnHXgEeqWfi2zu/EniDR/Jmjk0GOCW4lIyrrKjONoHPAQ54+lc+/xs8CxRs8up3SIoyzNptwAB9fLrnvh/5Fn4l+IeoaHr39uW7Wlm9vfSX0d1KzJFNndt5GDwNwGccZxXM2HjnTPFngBLXxp8Sb+C41C2aO/sYNJjO3OQVBWAnpjoaAPYrjxrp8PiTw3pEcU0x8RQzTWs6gBFWOMSZYHnkEY4ro68ge70+9+JXwml0aWaaxW01KKCSaJo3dUgCZKsAR930Fev0AFcv8Sf8Aknup/SL/ANGpXUVy/wASf+Se6n9I/wD0alZVv4UvRnbl/wDvlL/FH80dDZf8g+3/AOuS/wAqnqCy/wCQfb/9cl/lU9aLY5J/EwooopkhRRRQAUVBNfWlvJsnuoYnxna8gB/Wmf2rp/8Az/W3/f5f8anmj3LUJvVItUVV/tXT/wDn+tv+/wAv+NH9qaf/AM/1t/3+X/Gjnj3D2c+zLVFVf7U0/wD5/rb/AL/L/jR/amn/APP9bf8Af5f8aOePcPZz7MtUVV/tXT/+f62/7/L/AI0f2rp//P8AW3/f5f8AGjnj3D2c+zLVFVf7V0//AJ/rb/v8v+NH9q6f/wA/1t/3+X/Gjnj3D2c+zLVFVf7V0/8A5/rb/v8AL/jR/aun/wDP9bf9/l/xo549w9nPsy1RVX+1dP8A+f62/wC/y/40f2pp/wDz/W3/AH+X/Gjnj3D2c+zLVFVf7U0//n+tv+/y/wCNH9qaf/z/AFt/3+X/ABo549w9nPsy1RVX+1NP/wCf62/7/L/jR/amn/8AP9bf9/l/xo549w9nPsy1XOeP/wDkSrz/AK6Qf+jkrehuYLkE280coXgmNw2PyrB8f/8AIlXn/XSD/wBHJWdZ3pSt2Z04JNYumn/MvzR0deT/ABl+3z3Gm6Zb6n541I7bbQ4tES8kmkjyWl3vIgVQGGc9Ovrj1ivOPjZb21n4JHicebDqeizRm0u4J2ieISypG/I6gq3Q8cVscZwvh6/8SaF4c8Q6RBZtdm2tZVvdGNjb6c1n5keVuQ4lcSqVVhhef0z6V8Gf+SN+Gv8Ar0/9mNcTfWnwc1Gx1Aap4qsdX1G8G77fqV+JZFcIVQjbtGFycACvRfhrY2umfDfRbGw1KDVLe3g2JeW/3JcMckfjkfhQM4PxFBqnjDxh448rxBqemReFrOJdOisbhoVM7RGUyOB97kbcHtmuMvfGUPje31TU1m8y6HgEx3o8sqFnFwu/GQARk5445r1HxN8P/ENx4i1m/wDCOt2lhB4jtkttUju7cyFNi7BJEQR82w4weO/04rxxolv4dv8AVNIsA32ax8AGCNm6kLcqMn3PU/WgR0/xrtrW68Lxxx6Bqmqaybd/7PmsrOWdIGyuQ+zgZ6DIPevO5pPCWqa1op0LwP4hays55YteSLT7iRg4jGIh8xKkOeRwQK9T8d/D7UvEN3b3/h67jhuHXbci71C8jjwAAuxIZFAPXPHPFea+Jfh34l8DeFdU15pNI8mD/SJ47XUNTVpWYhSx/fgFjkcn0oGfQmlCAaNZC0gkt7f7OnlQzKVeNdowrA8ggcEHmvKPDuhWfinxh42l8QavqqLZaw0NusWrTQJGmwHAVXA6mvS/CunQaX4YsoLQzmNoxL+/uHmbLDcfmclsZPrXmPi3TPh5pnxgC+L9O0eC2vtMa9e5vc5luPOC9ScfdzxjtQBp+JrmPSdQ8Dx+EIz4ilsdRuY0t/7RV3cm0myGmcnkBifmPQY9Ks/EHR7hPC+peLLjxN4j0O4h0/zRp1lfoIY5gmFjwEOSXIGQeSeKhsL/AOGk/iPw7H4T1vQ7GSyvZJY7KxRF+1SSQPCB8uOfnznnOMVuaz4M1LxT4rSXxJqML+HLGWO4s9LtoypnlXB3TsfvAHOFHB4J6cgHk3ia48RPr8tv4p037Fc2vgjUIVlN4LhrvEeDK2ANpJ5wcn3rrHju/FvjHwz4RbU77T9KtPDMep3IsLhoHndiI0UsvOB96sH4geHLHw/451P+zRdbbnwhqcshnuZJvmIPQux2j2GBXaP4Q1q5HhrxX4O1CztNXg0aOwmj1CJngngKq4B2kMCG5GOtAHA2Ouyz+NvDPhvUtUm1HUtA1PV7R5pwxkkhEDeWzNjDHGR1zxzXofwfuorH4CaLd3MgjhgspZZHJwFVXck/kK5nUfC8/hfxJ4Ht728/tC/ur3Vb29uQmxXmktyWwvYdAPp+FL4H8K6n4x+CvhLSv7USy8PyW8h1SKJSLi5AlYrGr9FQ87u/bvQIt/DD4iQ2fwa0W81CHWdYuGnuIJmtLaS7kRxKzDeRkj5WXGa3PgU/mfCHTHAIDT3RwwwR/pElaumeBI/D3jA6r4Zuv7P0+7XbqOliPdFMyptSRP8Anmw4zjhh71mfA3/kkmnf9fF1/wClElAGX8a7LT7TQJtQgvtUj8RXwS00u1s9RmjM0xIA2xKwBwDknHp6iuX1S6kh+DOqXXhPTrrWNP1PRv8AiZ315rjO1lKqsHTyZNxBXJJAxnj0Fdj8RV0jwd4i0Xxm0NvHe3eqW9hdXt4zOsFsVbeUBO2M4XlgPX1NUNZ1b4UX2keJINK8SaJpl74ht2hurqOUHJIIDFMgZ5JOMZ70DKvjufWbX4S6VeJp1ndaHYaXa3MznUp7WfzNm3aPKAyMMOrdT7Csmx1G5HiP4e6RfPpcUkGoNcQ2tpqcl3OsUsDuGl8z5xncMZyMH6V22oeDLvxfp+gaPNqNrN4Kt7K3lm8gsJdSdANik9Fi4VuDk9PcczdeD7rwj438EWUt1Df2UerPHYTNABcxwC3fEUrj74XgKfQfTAB1fwO/5JDpX/XW5/8ASiStz4g/8iDqn/XNf/Q1rD+B3/JIdK/663P/AKUSVufEH/kQdU/65r/6GtZVv4UvRnVgf96pf4l+aOkooorU5AooooAKKKKACiiigAooooAKKKKACuQ8I/8AI2+LP+vuP/0E119ch4R/5G3xZ/19x/8AoJrCp/Eh8/yO/DfwK3ov/SkcZ8XrNW8WaT/attJY+HLiJjf6vp+mJcXHmjhI2fYzIuMYIHt9OR0/R9VutB1qTSNM1y60i2Z00/VLYw6TczwlMuJgQpmjDAY4yeenQeu/E7R9b1jw9YDwzbi5vLPVLe8MJuBCJEjYkruPTPA71Rm8R/EW4gkhm+Gtm8cilHU+IY8EEYI/1dbnCZnh3xba+C/2cdF1a5bMy6akdrCBlp52BCIo75P6ZNcNLczab+zTrHg7VVS117QprZZbZ25Mcl3FJHIB3X58cdxXsWjeEdLutL8P3OseGrbT73Rlb7JZifz1syePlbgNwAQSOD055qn8SvAUXi3w3f8A9l2dmuuXEcEKXcw2nykuI5WUsATj5D+NAHluvwa5LoPxlj1Q2suqBdOac2EbrEVEak7QxLD92Ocn17V13iu8Gpah8Ok8FXNil+0c89m04MkaW32Rg25VIOD8oHuPaun8N+H722+Injq+1KzH9n6s9n9mZyrLOqW+xxtyTjPHI5q5oXw58KeFr24vvDuiW9ldzxshlUsxAPJC7idoz2GKBHj3wxk8m/8AhhIVaQppOqttQZZsStwB61L4mv8AxbrHiOHX7G38ZQ3emtcPpcD+FodsPmrt2M/m5YYAGSD0ziuk8GfD7xB4c1zwIt9bRyRaPYX8N5PDKCiPLIWQDOCcg9hXY6r8KvBet6pPqWp6Ks93cNvlk+0yruPrgOBQB5V4Yv8AxdpHiSXxBqNt4ymvNSNu+qwJ4Xh2TeUu3y1fzcqMZGQB64zXbX87+K/jRparbTGz8L6WdSlt3jAkNzONscZBOAwUEjJ4OfqK2o/Cuy0T4geENS8GaKbe3truVtRkW5ZgqeXhch3OeSegrtvDfh650rWfEOqajNFNc6vfCVWiz8kCRqkSHI6gAk+7UAeeXel+MfGviq38aafDHod9oQC6dol/IDJcRPu8wz7f9UXGFUc428+tSf2CY/Gfg7xFeQaxp+oahrM/n6dfaibiOAm3uD8iglQOOMdjW1qEHjLQfiPrer+HvDFvrVnqdtaxh5NTS2MZiDg8FSTnf7dKt2Wq+NNS1rTxrnw8sLe3hnDi8OsRzNa5BUuq+XnO1iOCOCRQM85+NWj+GrHxRph0/S7i61KS7/tTWxbXMxIsUP7wsobChs9Rg/LUN1YjTfFE9vbW+nwaf/whWoyWX2C9lukeNmLbi8gByST6ivbdM8IaJpOparqFpYqbvV5C95NKxkaXP8PzZwv+yOPauG1j4XtY6vcTeFLG2t9MTw3fafFaxyEMZ5mLDGeMEnqTx9KBGRprJbfEz4YT3+Vt5vDBgtHY4Xz/AC1JHPcqQPxFYmstfXPjRrzTbizbw6/xBsE2KhMjXSpEJGVgdu3IIPGSR1r1mHwTpeu/D7RNF8X6VFdGzs4FaKQ/NFIsYU4ZTkHIIyDzVDX/AIfQrovhrSvCNnbWNnpOvWuoSRbiB5cblnIPJZjnv19aAOU8N6xfaR4N8XHSbbVZby48WX8cUul2C3bwHeDuMbMoIwMdepFcYIvGtm2o2unJ4w+w6/NPLq7N4WhV90ke0sg808k4B5XHUZPFeveCPCc8Gg+KdM8S2JW31XXL6cRGQfvbeVhtOVORkZ9DS/8AClvh/wD9C8v/AIFz/wDxdAGN8KNQ1bTVh8O6jZ+JZLOKBIrSXUNDjs4rZY1PBdZGLFuBz3HvXT+Lf+Ro8K/9fr/+gisX4X+Drvwh4g8YRtYNZ6Xc30baaDLvDRBT0+Ykde/NbXi3/kaPCv8A1+v/AOgisMR/D+780d2A/j/KX/pLGeK/+R18Jf8AXxN/6CtdfXIeLP8AkdfCX/XxN/6CtdfRT+OfqvyQ8T/Aof4X/wClSPM9e1fVdK+N27R9DuNad/DqB4IbiOLYPtL/ADZcgH04rzbwz4gXSdQ8M6vq1veER+Ita8yCGMzyoWjUbQq5zgntxxmvXfEvhTxPc+OE8ReE9ZsNPkOnLYypeWrTbgJGfIwwx1H5VyWj+DdQ8H+M/BNpqF0l/PNqeq3k08EJRFMsAOMHOOa3OEsfDKy1fUf2ddBs9CXSnedZo7iPVYXkhkhMkoZdqEHJyOvGM1jfCh9T1XWNVu/C+meBtObTb5tPuZLSwmWSaEMDvQiT7rbTjPda0Ph9aeI9S/Z28Oab4VlhtJb0yw3N9I5DWkJlk3Oi/wATdhyMEg+43F+Fs3hK707UfhpdQ2N1bwJa3tteZaHUIgc7nxyJASSGHrjpQIq+ADeLd/E86UA18NbuDbBsYMnlDbnPHXFeay/8IIPhl9se6ux8SeSWWSX+0P7Q3ZwVz03cdMY969J8A/2n9v8AiT/YP2T+0P8AhIZPJ+27vKztXO7bz0z071pf2Z8S2vvtqw+BYrsjabj7NcvJj03ZBoGRaU183xk0NtXAXUD4PJugMcS+fFv6f7Wa7nXNFs/EWi3GlakJTa3AUSCKVo24YMMMpBHIHSvPtDh12H432i+Kbuyur4+HJzvsYWjjVPtMeBhiST15ruvE0Ou3Hh+4i8KXNpa6m+FjmvELJGCeWwO4HIyCMjmgR4pqvhfSdM+IWq2HhNr0W+i+HL2fVGmvJZkMssLJHH8zHDAEt/8Aqp3wt1gap8Q/Bsa2F/afYvB/2ctd25iWbDJ88ZP30PZq9Bh8EWvgz4W+IrS3llv9QvLK5mvr+YZlu5jE2WPt6Dt9SSeM8GWol8beBbW5V0D+BPLkXJVhkqDz1BoGdLrtx4t+I2mXfh/TtBuPDWl3WYLvUtVZRM0WcOsUKk8kfxMQMZqbw7ceKfAdrp3hjUdAuNd0yAra2mradIhZYs4QTRMQV2jGWBIwKzvGnws8OaP4D17U9PbVY7qz06eeFzq1wwV1jZlOC+DyKXwd8K/Der+BdB1K/bVpLq8023uJnGrXC7neJWY4D4HJPFAF68kl8WfHSHSpWP8AZfhW1S+eLJxLdy5EZI9FTJHvmvNdd1vWYfhv8SrKDRLqexbxDe79UW6jVYD56fLsJ3noOg/ir0jw6V0z9oTxXZT5RtS0yyubXcfvpEDG3PfBNZOrfCfxdeab4k0ax8SaZDo+vajPfSRSWTNKhkkD437u21e1AHnnjvVIrbXvFFjKk7TXsOhGN0iZkXYFJ3sOFznjPWvX/ivBrJ8P3161t4ZvdC0+2N29tq9rLK7SIrHja4XkYA46mvNPH9lLZal45jkViiDQIxJtIVyrAHFeq+LvDGveM/Eltpd9Jb2nhC3MdxcpG5M2oODkRMMfKgIBPrx+ABieDYNXX4Z3d4IPDNpod/pEt1Fb6NayxOsrxg/NucrwAQeM5A9K7D4b/wDJK/C3/YHtf/RK1zMfg7WfBdrrdnot7bS+ELizuZlsrgN51jIUY7ISOChJzg9O3qem+G//ACSvwt/2B7X/ANErQBoeKf8AkT9Z/wCvCf8A9FtSeFP+RO0f/ryh/wDQBS+Kf+RP1n/rwn/9FtSeFP8AkTtH/wCvKH/0AVj/AMvfl+p2/wDMF/29+hrUUUVscIyf/j3k/wB0/wAqw/Av/Ii6T/1wH8zW5P8A8e8n+6f5Vh+Bf+RF0n/rgP5msn/FXo/0OuP+6y/xR/KRv0UUVqchwWq/B7w7q+vXWoz3GpRW9/OlzfaZDc7bS7kQ5DSJjJORk4IzXM+OvCety6z4z1C102aa1v7bS4rXyBvaRo7hC4CLlvlHPTpXsdFAHP8AifwmPEzWxXW9W0gwbsnTJkj83dj7+5Wzjbx06muK8U/DnUNK8I6rf6P4x8XXV/bWkktvB9qR/MkCkqu1Y8nJ7DmvVaKAMrwt9pPg/RzfiRbtrGEziVcP5hjG7cD3znNPuvDmiX1y9xe6Np9zO+N0s1qjs2BgZJGTwK0qKAPM/h14M0+O48W/2v4btkDeIrprT7VYqMwYTaU3L9zrjHFdhrunXlp4L1Kz8GW9raX/ANmk+xxrGqRiQg44xtzn14z1rZnnitreSe4kWKGJS8kjthUUDJJPYAVHDfWtzp6X1rPHPayR+ak0TBldMZDAjqMelAHgMGnhbSKPX9K+LMurIoEj28jPEJB1MbI2wLnpXoPw+8JXs/w0vtH8dWEZ/tO5neSKRUE0kT42tOyDDTcZLdeF5yK6e18beHbrwta+Izq1vbaTdnENzdv5CsckY+fGD8p49qfpvjPwzrN8tnpHiHS766YErBbXkcjkDknaDmgDn9E+F2l+Gftt7aXeparqD2BsbeXUrkStBCAcRR8AKucf5zXN/C/wxrPh7xJokOr6dPbm28K/ZpXK7o1l+1s2zeMru2kHGelenaRrlhrsV1JpkxlW0upbOYlCu2WM7XHI5we/StCgAP3Tivm/T5PFUtir6vpGtW14WbzIrbwNbSxr8xxhyVJ4weg5NfSFFAHlHwjsZLPxLr1zc2euRz6lDAzyX+hJp0KiLcoVQjEFj5mcYHQmprTxP4n8OeNPE8ep+GvEWs6fPdo2mvZxI8ccYTkDc4xk+leo0UAedW+sReJfHGh3994F8T2V5p5mS2vLqJEhhEqbXL4kORgY6GvRaKKACuX+JP8AyT3U/pH/AOjUrqK5f4k/8k91P6R/+jUrKt/Cl6M7cv8A98pf4o/mjobL/kH2/wD1yX+VT1BZf8g+3/65L/Kp60WxyT+JhRRRTJCiiigDg7nR9P1r4sXkGqWqXMSaajqr54O4DPH1Nbf/AAgXhf8A6A8H5t/jVG0/5LBf/wDYKT/0MV19ctOnCXM2k9WetisTXp+zjCbS5Y7N9jnv+EC8L/8AQHg/Nv8AGj/hAvC//QHg/Nv8a6Gobu8trC2e4vriK2gQZaWZwiqPcngVr7Gl/KvuOT67iv8An5L72Yn/AAgXhf8A6A8H5t/jR/wgXhf/AKA8H5t/jXF3vxY2+NYr/T/Ou/AtvCba/wBVgty8MV0SSrbgNxQAAFl+UFxXpOmavp2tWS3ekX1vfW7jiW3lDqfxFHsaX8q+4PruK/5+S+9mV/wgXhf/AKA8H5t/jR/wgXhf/oDwfm3+NcxpvxHW7+N2oeGnv4zpS2whtDsG2S8XDSRiTHLBWHy57VpTa3qK/Ha20Nbphpr+Hmumt8DBlE+3dnGc44o9jS/lX3B9dxX/AD8l97NX/hAvC/8A0B4Pzb/Gj/hAvC//AEB4Pzb/ABrjvGniX4h+DtGu9WvL/wAIC2RittAbW5M07E/JGo8zlz7e56U3xB441bw94l+HT+JLg6fDqNrdPrFtbQM6mUQKVUKAz/K7dvx4o9jS/lX3B9dxX/PyX3s7P/hAvC//AEB4Pzb/ABo/4QLwv/0B4Pzb/GsfXfGOu3PiOw0HwJp9ldXNxYLqU13qbvHDBAzFU+UDeWYg8dsc+2JffEDxAnhbxrpms2cOk+JdC01rqOeyk8yGZGVtkse4ZGCvRv8AEA9jS/lX3B9dxX/PyX3s7P8A4QLwv/0B4Pzb/Gj/AIQLwv8A9AeD82/xq34Vu57/AMG6LeXchluLiwgllc9WZo1JP4k15X8UviVrGjaxFYW8moeHjC0mHjksZDepkBZAkj7lX5WxwOpz0o9jS/lX3B9dxX/PyX3s9J/4QLwv/wBAeD82/wAaP+EC8L/9AeD82/xrzXXviPrn/CnY9ZtTc2MkNzaRf2q81tILsF9sjARMyr05HGM16/pWrWGuaZFqOj3cV5ZzZ8ueFtytgkHB+oIo9jS/lX3B9dxX/PyX3syv+EC8L/8AQHg/Nv8AGj/hAvC//QHg/Nv8a6Gij2NL+VfcH13Ff8/JfezjvA1pBYax4ktbSMRQRXqqiL0UbaveP/8AkSbz/rpB/wCjkqv4R/5GPxT/ANf4/wDQaseP/wDkSrv/AK6Qf+jkrnjphpfP9Tvk28ypt94flE6OmyRRzRlJkWRD1VhkH8KdVbUVvW024GlPBHemM+Q9wpaMPjgsAQSPoa7TxQ/s2x/58rf/AL9L/hU8caRRhIkVEHRVGAK+aNYm8aeMtZvL+wsW1lLaQ20t1pgureEtHwQqG7TJHrt5r0j4e+KNW1nwVql3q2rWVvYaZbyWjm1s5kurKSJPmL+Y7hyq4PG7J7nkUDPUahurS2vbeS3vLeK4hlXZJHKgZXX0IPBFeMf2trskmiXfhfxZ4r1uO51C18xLjQzHA9szje/meQoxt756Vc8IeJtS8QfHYf2he6NOkfh6UBNF1A3MIP2hOW4GH5P4YoEew9OlV76wtNTsZbPUrWG7tZhiSCeMOjjrgqeDXL/FLxJqXhPwDc6rophW8SeCJDOm9RvlVDkZGeDXJeLvEWseHfCviS08UeOdCbUDpUps7WzX7JcrKV+VhmQse+MDOaAPW0RY41SNQiKAFVRgADsKZLa287AzwRyEDALoDj868o8K+J5NGi8aa3qMs10lhpOm3Wx5CSzfYtxAz0LN39TULa74+8M6FovjTxBrMF9p1/PD/aOkrZpGtnDMQFMbj5iV3LnOc/rQB62ljaRuGS1hVlOQRGARU9eaalqF3afGjXmgndRB4QE8aE5VXEz4bb0zxXLeFfGd7rmh6Zdaj8Y7Cyv7tEMlgbC13RuT9znBz+FAHuFxbQXdvJBdQxzwyoUkjkQMrqRgqQeCCO1OjjSGJIoUWONFCoijAUDoAOwrymXxTp2u/tB+G00DWrfULVdLuhMtpciRA3Ubgpxn61JY3/jHx1q/iOfSfFcHhy00bUJbCC0SyjnZzH1kmL8gN2Axx+oB6myK4w6hhjGCM1DZWVrp1nHaafbQ2ltEMRwwRhEQZzwo4FeN2PjHUfFf/CstTvWENxPq11Bc/ZmIinMaOu4eqnGfrmvYtQguLrTbiCyu2sriSMrHcqgcxMRw208HHoaALNQWVjaabarbadaw2lupJWKCMIgJOTgDjkkmvDT4i8UD4nXXhdfiLdS20Fq227i0u2Pm3i/MbVeNpfZzjOc8V0mga9qGs/GidRaalp8kXhYKsWqwiLzJRcf6zYrEYOcZGDwRQB6lLBFOm2eJJFznDqCM/jUP9m2P/Plb/wDfpf8ACvmvW9e8V6zq2oeII7Zb2106Ux3V7p8t3DbI0XDYjNypIGOcLz713tr4zXTvizpV34o1KELqHhaN0NlDMYJHe5YoVQgsuUxy1AHr6qEUKgCqowABgAUpAOMjp0ry9ZfFvib4o+L9J03xdLo1joxsxBDHYwzZ82AO2Swz1B/Ouk0fw14psdWgudT8c3Gp2sZPmWj6dBGJOCB8yjIwcHj0oA6WysbTTbVbXTrWG0t0JKwwRhEXJycAcckk1hfEH/kQdU/65r/6GtdJXN/EH/kQdU/65r/6GtZVv4UvRnXgf96pf4l+aOkooorU5AooooAKKKKACiiigAooooAKKKKACuOPhnxFZa5qd9ouq2cEd/KJGSWAuRgYH867Gis501O1+h0UcROjfltrvdJ+fU5T+zvG/wD0HdO/8BKP7O8b/wDQd07/AMBK6uio9iu7+9m312f8kf8AwGP+Ryn9neN/+g7p3/gJR/Z3jf8A6Dunf+AldXRR7Fd397D67P8Akj/4DH/I5T+zvG//AEHdO/8AASj+zvG//Qd07/wErq6KPYru/vYfXZ/yR/8AAY/5HKf2d43/AOg7p3/gJSHTvHG0413Ts44/0Susoo9iv5n97D67P+SP/gMf8jznRNV8X6vd3NjJq9lZ6hasRLbTWvzY/vD1HvW3/Z3jf/oO6d/4CVe8SeGY9chSe2lNnqdv81teR8Mp9Djqp9Kj8MeIJtQ83TdYRbbWbPieHtIO0i+oNYxp8suWcn5O7/q53VK6qU/bUYR03XKtPPbVfls+5V/s7xv/ANB3Tv8AwEo/s7xv/wBB3Tv/AAErq6K29iu7+9nD9dn/ACR/8Bj/AJHKf2d43/6Dunf+AlH9neN/+g7p3/gJXV0UexXd/ew+uz/kj/4DH/I5T+zvG/8A0HdO/wDASj+zvG//AEHdO/8AASuroo9iu7+9h9dn/JH/AMBj/kcp/Z3jf/oO6d/4CUf2d43/AOg7p3/gJXV0UexXd/ew+uz/AJI/+Ax/yOU/s7xv/wBB3Tv/AAEqEeGvEd5rem3mtarZzxWE3mqkUBQnIwa7Gij2EXu3941jqi+GMV6RXXTsch4r/wCR18Jf9fE3/oK119ch4s/5HXwl/wBfE3/oK119FP45+v6IMT/Aof4X/wClSCiszxJrK+HvC2qay8RmGn2ktz5YOC+xS2PbOK8ovda+ImkfDqH4iXPiayuY2iivZdEFiiwCCQjCLKPn3AMOf599zgPZba1t7K3S3s4I7eFPuxxIFVe/AHAqWvOrfVJL/wCPGmPFJMlpc+E2uRAzEAFrhcEr0zg4zXoNykslrKltKIZmQiOQruCNjg474PagBIbW3tnla3giiaZ98pRApdvU46n3NS15/wD8Iz8TP+ih2P8A4IU/+OUnw61vxFd+KvFuh+JtUh1RtFltkhuIbVYA3mRl2+UE+w69qAO9+zwm6FyYY/PCeWJdo3Bc52564yM4qSvKvGSeP/CXhXVfEE/xBtGhsomlSD+woxvPRE3bzjJIGcd81Pqd/qj658Km1GeRLu6aRr1V+QPJ9kJYFRx97PHagD06oja27Xa3RgjNwqFFmKDeFJyVz1xntXmnjPxvB4S+Muhrresvp+iy6VO0qMzeW8u/CkqM5PvitZPjV8O3dUTxRalmOAPLk5P/AHzQB280MdxC8M8ayxSKVdHUFWB4IIPUURRRwQpDBGscUahURFwqgcAADoKfXlkniX4j+Jte13/hCbfQ7XTNFvHsk/tJZGkvJUA3AFTgLk8Hjr164AO01zwnb6x4h0XW453tNQ0iYsk0ag+bEww8LZ/hI/I8it+vID8ZtSvfh1oF/pOk27eJNdvm06C0lc+QkisVZyepX7vGf4upwa0tI8T+NvD/AI90nw94/wD7JvINcSb7Fd6aroY5Y13FGDdsdDjv1oA9IubW3vITDdwRzxEglJUDLkHIOD6Gpa8b0SXxh498N6h4xtvGUuiGOa4Fhp0MMZt4ViYjE+4EsTtyT2ByPSptT8WXviXwB8N9dbdZz6j4hsRcJCxVW5kVh/ukrnBoA9dZVdCjqGVhggjIIpsMMdvCkMEaxRRqFREUBVA4AAHQVxlp4mv9M+Ll14W1qcTWup2wvdHk2gFNoxLCcAZxgsCe3c121AGV4o/5E/Wf+vCf/wBFtSeFP+RO0f8A68of/QBS+Kf+RP1n/rwn/wDRbUnhT/kTtH/68of/AEAVj/y9+R3f8wX/AG9+hrUUUVscIyf/AI95P90/yrD8C/8AIi6T/wBcB/M1uT/8e8n+6f5Vh+Bf+RF0n/rgP5msn/FXo/0OuP8Ausv8Ufykb9FFFanIFFFFABRRRQAUUUUAcp8T9ZttC+GOvXV23+sspLeJM8ySSKURR68sPwzWT8K9Wi1P4M2EKjy7nTbRrC6gbhoZYgUKsOxwAfxrc1bwXba74w0/WtXupbq201M2umuo8lJ8/wCuPdmA4AOcdRVe88DadbeKrnxTp09zY3MtrIl5bW77Yb0lSFaRMcsPUc0Acz8MrnQbP9n3QJ/FT2KWEULuxvgpQESP0DdT6Y5pnw70qPxJ48u/Hdvosej6PHa/YdHgFssL3ClsvcMoxjPQZ7fTmp4N0+3vP2XLOaWyhurm00q7ntDJCsjRSjzdrJkHDA9CK1tC+MnhaHw7pseqX2oG+S0iW5LaZcsTIEG7JEfPOeaAIvhWfEH9seJRt0z+wf7f1HndJ9q83zfTGzb+Oa9QrkPhzJoc+kanceG7u6ure61S4upWubd4SsshDsoDKp2jIwf1rr6ACiiigAooooAKKKKACuX+JP8AyT3U/pF/6NSuorl/iT/yT3U/pH/6NSsq38KXozty/wD3yl/ij+aOhsv+Qfb/APXJf5VPUFl/yD7f/rkv8qnrRbHJP4mFFFFMkKKKKAOQtP8AksF//wBgpP8A0MV19chaf8lgv/8AsFJ/6GK6+sKO0vVnfjfip/4Y/kFcB8Xo5v8AhF4rqe18OXGk2komvDrwnZI2yqxlRErE8swOR3HvXf1heNPC1v418H33h+8uJbaG8CBpYgCy7XVxjPHVa3OA4BPCvxMXxLaazbweC4UttPewjsopLlYPLZg2duzrxj0wa0NB8Ba9HBrFjqNroHhy11RFMtz4VkmiuDIrAj767VG0uOOeavj4f+JVUAfErXAAMD/R7f8A+IrpvDej32i6fJb6nrt3rcryl1nu0RWRcAbQEAGOCfxoA8c1c2FnoVx4Mt/DPhxdNsrl/ImPiqGG5WRWIExJXckpxk56dDxxWt4J18a78aLf7dZRQ31t4daGOW01pL+NohMv3yEz5mT1LfhzmtL/AIU7e2+qardad4nhgj1K/mvmin0S3uCjSNkgO+TgcD/9dbfhjwLq3h/XEvrjxHb3kIRlkgi0W3tjICOPnQbhg4OO+KAPOZtb8N+GfE/iLWPHOrXHiLxF4blQWcN9cRQq+8K2beAcArnk89M8V2d9e2XiD47eFIN0kNzpWjz6ogyCsgnHleWfQgfNnnNVvE3wYm8Qap4guIfEv2O2150e5tzpscrLtUKNsjHcPu9sVZX4M2aKNQTXtQXxKlyJ49cXaJEUDasOz7vl7ONvfr7UDKfxD1Twva+Mor1PHw8K+JLG3FtKViE6yQt84R4mGD97IPbP5cpPqvg2LwT4y+yeLp/EvibWtMn8+7ltnQOscTkKoChI1C54zzj6CvffIiLbnjRnxyxUZNZvifQl8R+E9T0Tzvso1C1e3MoTd5e5cZxkZxnpmgRD4J/5J/4e/wCwZbf+ilrzrxysvhL4t2usaTrelWF74js3gkGtwZtoxAoyRKHUoSGUbeQT17V6pounf2PoGn6YJfOFlbR2/mbdu/YoXOO2cdK5fx18PpfGOsaPqdrq6adcaUs6oJLGO6SQShQcq5xxt9D19qAPMdes/C2hfCA6EnjHTdTvLrWor2Y2DRPmR5VJCRK/yoMfh+lfQKRpEgSNVRR0VRgCvJtR+CmoavBHb6h4rtWgSZJSIPD9vAxKtkDehBHSvW6ACiiigDlPCP8AyMfin/r/AF/9Bqx4/wD+RKvP+ukH/o5Kr+Ev+Rj8U/8AX8v/AKDVjx//AMiVef8AXSD/ANHJXGv92l/29+p7L/5GNP1h+UTo6zfEEGpXGizpoupLpl2MMty1sJwoByRsJAORkda0qRlDKVYZBGCD3rsPGPmubwDqXjKLQvEmmXFvqEPiG6K3U/8AYawNbrlgZZFjkKnle55z1r1TQPh1rGkaHeaFceIbN9HubOa3+y2ejx22xpF2+ZuDHJGT16+ta6/DHwQq4XwvpgHoLcVraL4Z0Tw5539haXbWH2jb5vkRhd+3OM/TJ/OgDyrwLomt6nc6x4Zi8da1a2XhmZNPRbe3toy6heMNsJGAMc5Ndna+DDp3xeh17TLG0tdLGiPZyeQixlpjOr5KqBn5V61dv/hn4O1PUri/vtBt5bq5fzJpdzAu3qcGp9H8AeF9A1JL/R9IhtbpAVWVWYkAjB6mgZnfFjw/qfib4e3Wm6Fbrc3rTwSpE0ixhgkqsfmbgcA1yXjt9f1bwZ4iufEHgPTNNiTSrgm+e+juJ1IjO3btT19+K9gqK5toL21ltryGOeCZSkkUqBldT1BB4IoEeQ+D9ETxLb+NdFlfy1v9G0uDzMZ2FrHAb8Dg0xtL8deKvD+i+B9b8O/2dbWM1v8A2nqxuUeK4hhIKiID5tzlR9O/WvV7DQ9N0y+u7zT7RLee8WJZ2TIDCNdqDHQALxwBV+gDzDUreW7+N+v21uu+WbwcI0XOMsZpABz71Q8Fz+NfDvhDS9Gk+GDTzWNusTXMmqWqByO/UmvT10TT08QPri2wGpSWwtGuNxyYgxYLjOOpJzjNX6APIfsot/j54Od9JttJuZtFuXuLa22lUfuNygBseuKpeIdItvEutTX9x8HNXuLuVts039pJaCcDgbwsoDfUivWp9A0y58Q2uuTWivqVpE0MFxubKI33hjOOfcVo0DPGb6XUB4r+Hdne+E18MW9rqckdrardxTAr5DZ/1fC4/XNetavpq6xo91p73N1aLcRlDPaSmOWPPdWHQ0y/0PTtUv7C9v7YTXGmymW1kLEeU5XaTwcHg45zV+gR4iujy+JtO1bwN4J8NaHHoGiXhtp7jV7mXzpbpQCZFEXzhsn75PP5ir/hhdZPxUv9N1hLXTfEFp4YW2s5bOQ3NsYRL8sjB8PuDEfKx+YAnPr3es/D3wrr+oG+1PRoXu2+/cRM0Mj/AO8yEFvxzVzQPCWg+F45F0DS7eyMv+skRcySf7znLN+JoA8A8R+B9Xu/GU17qek6pe3MErh7iw8J2xguyf4yGuMP0yCwzzXb/D67uLz4sD+2BrMepweHTEV1TTYbXzIvtWVZRE5AAztAx/DnNewVQ/sTT/8AhIv7d+z/APEy+y/Y/P3t/qd+/bjOPvc5xmgDx3xpqHwtu77X9Wh8SXNvr88LK4tL24hDzRR7IwVXAONoH5+tVPh74h+HemaPomrax4uvxrcduj3MVxqFy6CUrhgUOVPU8dK968tP7i/lR5af3F/KgBwIIBHIPSub+IP/ACIOqf8AXNf/AENa6Sub+IP/ACIOqf8AXNf/AENayrfwpejOvA/71S/xL80dJRRRWpyBRRRQAUUUUAFFFFABRRRQAUUUUAFFFFABRRRQAUUUUAFFFFABRRRQAVheIfDMesPHe2czWWq2w/0e7Tt/ssO6+3vW7TZIxLE0bFgGBBKsVP4EciplFSVma0qs6U1ODszzq3+JdzFrNho+qWkUN0tyYL6UNlPQFcH1OT9Py9HrzbVvg/azSmbRtRlt2znZON4z7MMEfrXoVktwljAt6Ua4WNRKyH5S2OSM1z4f2ybVX5Hp5l9SlGE8I+91qtf68yeiiiuo8cKKKKACiiigAooooA5DxZ/yOvhL/r4m/wDQVrr643xjLHB4w8KSzyLHGs8xZ3YAD5V6k10n9uaT/wBBSy/8CE/xrnhJKpO76r8kelXhKWHo8qvo/wD0qRF4jv4dO8P3dxd6bd6nBtCSWlnb+dJKrEKQE/iHPPtmvGE0jw0YYrT/AIRD4lXekQy+bHo0sTfZFIOQNjODgHnBOK9s/tzSf+gpZf8AgQn+NH9uaT/0FLL/AMCE/wAa2549zi9lU/lf3HnGjarJrPx8sLybSrzSWbwtMotb1FWVQLtQCQpIGevWvQPEmoaLp+g3J8TXkFpp06G3lknl8tSHBG3dkYJGenNZjWnh1/HMfik6zD9tj09tPEf2mPy/LMgfOOu7I9cY7Vq3Gp6FdRGK6vdPmjJyUklRh+RNHPHuHsqn8r+48p/sr4BEYkvtHl/666rK/wDOSp/hFP4S0TxJ4mtND1TTManf7tNsLS6WVngiizkAEnP3zg88V6Ljwn6aL/5CqSCbwxbTLLbSaTDIv3XjaJWHbqKOePcPZVP5X9xxCWmqfFnWIJ9Z0670fwhp8yzRWV2myfU5lOVZ16rEP7v8R/TQ8d/8lL+Hf/X/AHX/AKTNXYnXdIUEtqlkAOpNwn+NYupw+G9e1rRNYl1qASaPNJNbiK5jCOXQod2eSMHtijnj3D2NXflf3GJq8upv8RovDkfi3Uree+tpL6BE020eGGNWxs3MpYn8D9a0/wDhEPEf/Q9Xn/gss/8A43VfxL4a8M+Jtftdak8TXWm39rbtbxzabqSQnYTkgnk9apL4N0dWB/4WR4kODnB19ef0o549w9jU/lf3He6db3Fpp8MF7evfTouHuZI1RpDnqVUAD8BXC3l1pHxP0vVbN9b1bw8dGvbiyvEtb1bdjt4LP1yhAyM+9dr/AG5pP/QUsv8AwIT/ABrjNd8AfDDxLrEmqazZ6bPeykGSVL5ovMI7sEcAnjuKOePcPZVP5X9x554O8fReEvg9p1vBYWmq6gNXuNO0PKLEkwDA+ezHgDLcnIJ456mu58JeH5b/AMUWfiTxv4nsNY16CN0sbGxkVbey3j59ig5dscbj29cAjV1Lwl8OdX0uw07ULTSZLPTlZbSBbgIsQbG7AVh1wMk1Do3gf4Z+H9Xg1TRrPS7W9tyTFMl2SVJBB6uR0Jpc8e4eyqfyv7jiPGPhWKT4mXfhzwtoU8y39gNV1G2TXZbK2uN0rRtujUEHJAzjHWrfiCfX7U+C9O8Q+ErHS9Kt9fsY7P8As/VN/lyAkICpi5UDORkHgc11niHwx4d1/wATrr6+Lb3Sr9bMWRfTdSjiDRB2fB4JPLfoKojwL4el1DT7rUfHes6kNPu47yGC91eOSPzUOVJG36/nT549w9lU/lf3EHxLB/4W38MzbYF19tuunXytib/wxXqNcjc6Z4dvPH1n4rutagkubC0e2toPtCCOPefmfrksQcemK6D+3NJ/6Cll/wCBCf40c8e4eyqfyv7iDxR/yJ+s/wDXhP8A+i2pPCn/ACJ2j/8AXjD/AOgCqniXWNMl8J6tHFqNo7tZTKqrOpJJQ4AGat+FP+RO0f8A68Yf/QBWSadXTsdcoyjg/eVve/Q1qKKK3PPGT/8AHvJ/un+Vee+F/H2h6V4XsLG8e4WeCIK4WBiAc+tei0VlOEnJSi7HXQrUoU5U6sW02no7bX8n3OQ/4Wd4c/56XX/gM1H/AAs7w5/z0uv/AAGauvoqeWr/ADL7v+Cae1wf/PqX/ga/+ROQ/wCFneHP+el1/wCAzUf8LO8Of89Lr/wGauvoo5av8y+7/gh7XB/8+pf+Br/5E5D/AIWd4c/56XX/AIDNR/ws7w5/z0uv/AZq6+ijlq/zL7v+CHtcH/z6l/4Gv/kTkP8AhZ3hz/npdf8AgM1H/CzvDn/PS6/8Bmrr6KOWr/Mvu/4Ie1wf/PqX/ga/+ROQ/wCFneHP+el1/wCAzUf8LO8Of89Lr/wGauvoo5av8y+7/gh7XB/8+pf+Br/5E49fih4aJIEtzkdQLduKX/hZ3hz/AJ6XX/gM1T674buE1Ma/4cdYNTjH76I8JdqP4W9/Q/T61peHvEVp4isTNahopY22T28nDwt6Ef1rNOrzcspJP03/ABOqcMF7JVadOTXX3tn5+7t2f6mN/wALO8Of89Lr/wABmo/4Wd4c/wCel1/4DNXX0Vpy1f5l93/BOX2uD/59S/8AA1/8ich/ws7w5/z0uv8AwGaj/hZ3hz/npdf+AzV19FHLV/mX3f8ABD2uD/59S/8AA1/8ich/ws7w5/z0uv8AwGaj/hZ3hz/npdf+AzV19FHLV/mX3f8ABD2uD/59S/8AA1/8ich/ws7w5/z0uv8AwGaj/hZ3hz/npdf+AzV19FHLV/mX3f8ABD2uD/59S/8AA1/8ich/ws7w5/z0uv8AwGasPxn460bWvCN7p9g1w1xME2BoGAOHUnn6A16XRSlTqyi4uS18v+CaUsThKVSNSNJ3TT+Lt/26QWX/ACD7f/rkv8qnoordaI81u7uFFFFMQUUUUAcJqF7PonxKutRfSNTvbeWwSFWsrYyfNuB68DtWh/wni/8AQs+I/wDwA/8Asq6uisFTkm+WW/kehLFUZqPtKd2klu+hyn/CeL/0LPiP/wAAP/sqP+E8X/oWfEf/AIAf/ZV1dFPlqfzfgT7bDf8APr/yZnKf8J4v/Qs+I/8AwA/+yo/4Txf+hZ8R/wDgB/8AZV1dFHLU/m/APbYb/n1/5MzlP+E8X/oWfEf/AIAf/ZUf8J4v/Qs+I/8AwA/+yrq6KOSp/N+Ae2w3/Pr/AMmZyn/CeL/0LPiP/wAAP/sqiuviJFa2sk8nhzXkWNclpbMIo+rbuBXYVheNv+RH1b/r2apmqkYt834GtGeFqVYwdLdpfEzOh+IMc1vHKvhvxAyuoYNHZblII6g7uR70/wD4Txf+hZ8R/wDgB/8AZVs+HP8AkVdK/wCvKH/0AVpU4xqNJ834E1KmGhNx9ls/5mcp/wAJ6v8A0LPiP/wA/wDsqP8AhPF/6FnxH/4Af/ZV1dFPkqfzfgR7bDf8+v8AyZnKf8J4v/Qs+I//AAA/+yo/4Txf+hZ8R/8AgB/9lXV0UclT+b8A9thv+fX/AJMzlP8AhPF/6FnxH/4Af/ZUf8J4v/Qs+I//AAA/+yrq6KOSp/N+Ae2w3/Pr/wAmZyPghp59Q169msbuzS7u1kiS6hMbEbfT/CrvjuGafwbeJbQS3Em+FhHChZmxKhOAOvANdDRQqVqbp37/AIkyxV8Sq6js1p6W/wAjlP8AhPF/6FnxH/4Af/ZUf8J4v/Qs+I//AAA/+yrq6KOSp/N+BXtsN/z6/wDJmcp/wni/9Cz4j/8AAD/7Kj/hPF/6FnxH/wCAH/2VdXRRyVP5vwD22G/59f8AkzOU/wCE8X/oWfEf/gB/9lR/wni/9Cz4j/8AAD/7Kuroo5Kn834B7bDf8+v/ACZnKf8ACeL/ANCz4j/8AP8A7Kj/AITxf+hZ8R/+AH/2VdXRRyVP5vwD22G/59f+TM5T/hPV/wChZ8R/+AH/ANlR/wAJ4v8A0LPiP/wA/wDsq6uijkqfzfgHtsN/z6/8mZyn/CeL/wBCz4j/APAD/wCyo/4Txf8AoWfEf/gB/wDZV1dFHJU/m/APbYb/AJ9f+TM5T/hPF/6FnxH/AOAH/wBlR/wni/8AQs+I/wDwA/8Asq6uijkqfzfgHtsN/wA+v/JmcfD8RrW4aRYPD+vytE2yQJZA7G9DhuD7VL/wni/9Cz4j/wDAD/7Kor6VvDPjyK9fjTtbCwSnoI514Vj9Rx+fpXYVEPaSunLVeR0V/q1NRlGldSV17z+a+TOU/wCE8X/oWfEf/gB/9lR/wni/9Cz4j/8AAD/7Kuroq+Sp/N+Bz+2w3/Pr/wAmZyn/AAni/wDQs+I//AD/AOyo/wCE8X/oWfEf/gB/9lXV0UctT+b8A9thv+fX/kzOU/4Txf8AoWfEf/gB/wDZUf8ACeL/ANCz4j/8AP8A7Kuroo5Kn834B7bDf8+v/Jmcp/wnq/8AQs+I/wDwA/8AsqyPFPiiTW/DN7p1p4c19JrhAqtLYkKPmB5wSe3pXoVFKVOcouLlv5F08Vh6U1ONLVO/xPoFFFFbnnBRRRQAUUUUAFFFFABRRRQAUUUUAFFFFAHkmo6x5vj3X7TVvGd7olvbSRi2iifCsCmT2P8Ak11eqeMR4dbRNNtrO61ya/tiYJYmG+Yqowx475yT25NZo0/xNo3jXXtQ0/w9DqdtqMkbRu94ke0KuOhyep/Sq/iy81ODx/4OurbS1n1D7NcE2InCgEx/MofpwCee+K9NxhUlFaNW7rdR+9a9zlu4pvz8+5uW3xCs10fVLvWrObTbnSZFjurMsJGDN9zaRw27t/k0umeN55tatNN17QrnRpb8E2byyK6y4GSDj7rY7GsO58CavrOh6/d33k2mr6tcRXEUAk3pCIvuKWxySM5PTpVy30zxL4k8UaPfeI9Ng0u10ctJtScSNcSkAZGOijAPP61DhQs7W+/bTp319Suad1/XX/IvTeOLm51K6t/Dvh661eGylMNzcpKkaK46qu77xFZGt6xqOm/FxP7N0241OWTRgFtI5QgB80ksxPAwBjP0FTaZYeK/CF7qVppWj22q2F5ePdQTG6ERi39VYEc4wOn/AOrZXRr7/haH9tNEosv7JFsX3j/WeZuxjr070v3cG7JWt339e34D96S87l/wv4ih8T6Kt/DBJbsJGilhkOTG6nBGR1+tazuscbPIwVFBLMxwAPWua8BaLfaFot5b6lEI5Jb+aZAHDZRiMHitrWdLj1rRrrTZ5ZYYrmMxu8LAMAeuCQa5aigqjUdjSLfLruebw+J9c1T4laLdRzy22g6hPNDa2+cCdI05kI9GJyPpXW+P9Xm03w01rpxJ1LU3FnaIpw25+Cw+gyc/Sua1H4Z366/oP9n6zq8tla+Ysk0l0ge0XaAvl/KMZxg8HgVs21m+s/E6S4nLSWnh+2WCEuc7riQAs31C4B98V2z9k3GcbWS/XS/4GMeezT6syPGPn+GdP8LaXBrN3p1oGeK7u4CS2AoO49Sec/nXSeCJLSXT7iSy8Sz6+rOMyTsC0XHTGARn3q9r+pazp3kf2Jon9q+ZkSf6SsXl9MdRznn8qy/Bfh/UdP1LWNa1qO3trrVpUY2ludywqoIGT3Jzz/8AXrJyUqPvb/LXX70XZqeh1tFFFcRsFFFFABRQTjrWde+INH04f6bqdrCf7rTLn8utJyS3LhCc3aCuaNFcpN8SPDyyeXZy3F/J/ctbdmJ/PAqP/hLtdu2xpfhC+YH7r3kiwfmD/jWXt6fR39NfyOtZfid5R5f8TUfzsdBqmh6ZrQiGq2cd0Is7PMH3c4z/ACFZ/wDwgvhn/oDW35H/ABrPC+Pr5vmfSNMjP90NK4/oaB4O1e7ydX8XajIG+8loBAPpxWb5Zu/s7+tjohGdGPK8QorsnJ/lp+Jbn8H+EbVN9zptjCv96Rto/U1j3EXw1tf9b/ZZPpGxf/0HNaVv8OPDkT77m2mvZP791Ozn8sgfpW3ZaFpWnD/QdNtbf3jhUE/jjNL2Tf2Ir8f8ini4R/5e1JfPl/WX5HFEeCZlJ0vwzdal6fZrKTB/FsCq8mkG54034cxID/HeXCpj/gOc/rXplFH1ZPe3yS/4IlmcofCm/WUn+TieYn4d6tfYMlroOmKf4YIWlYf99cVZtvg7poYPf6lczN1IhRYlP4c4r0WimsJRW6uDznG2tGVvT/N3f4nLWnw38L2g/wCQaJj/AHppGb9M4q1/wgvhn/oDW35H/Gt+itfY0l9lfcccsdipO7qS+9mB/wAIL4Z/6A1t+R/xo/4QXwz/ANAa2/I/41v0Uexp/wAq+4X1zE/8/JfezA/4QXwz/wBAa2/I/wCNH/CC+Gf+gNbfkf8AGt+ij2NL+VfcH1zE/wDPyX3swP8AhBfDP/QGtvyP+NH/AAgvhn/oDW35H/Gt+ij2NP8AlX3B9cxP/PyX3swP+EF8M/8AQGtvyP8AjR/wgvhn/oDW35H/ABrfoo9jT/lX3B9cxP8Az8l97MD/AIQXwz/0Brb8j/jR/wAIL4Z/6A1t+R/xrfoo9jT/AJV9wfXMT/z8l97MD/hBfDP/AEBrb8j/AI1t29vFaW0dvbII4YkCIg6KoGAKkoqowhH4VYzqV6tVWqSb9XcKKKKsxCiiigAooooAKKKKACiiigAooooAKKKKACuV8Q+HbqPUB4g8MERapGP3sPRLtP7re/v/APWNdVRUTgpqzN6FedCfNH5ro12Zi6b4p0++0iS9nlWza2GLuGY4a3burfj09a2I3WWNZI2DIwDKR3Brx34j6Hrdz4guL6DR2WzKhTLbfP5oH8TgdD9R0Aruvhzqp1PwXaiQnzrQm2kz1+Xp/wCOkVzUq8pVHTktvxPUxmX06eFjiqUrpvVaPlutr+p1VFFFdh4gUUUUAFFFFABRRRQAUUUUAFFFFABRRRQAUUUUAFFFFABRRRQAUUUUAFcz461Kxh8KapZy3tuly9sdkDSqHbPTC5ya6auA+LHh7+0NDTVrdMz2P+sx/FEev5Hn86wxDkqUnE9DLYU54unGo7K6+/odL4U1Czu/DmnQ2t3BPLDZwiRI5QzIdgGCAeORW1XGfDDQW0fwstxOu2e/ImIPZMfKPyyfxrs6qi5OmnIzx0IQxM403dJ7hRRRWpxhRRRQAUUUUAFFFFABRRRQAUUUUAFFFFABRRRQAUUUUAFFFFABRRRQBleJdFTX/D9zYN8ruu6J/wC5IOVP5/pWN4Z8a2d3Z2Wn6lP5eslzbS2+0lt68EnsM4zXR6pp6apps1nJLNCsy7S8LlGX6EV5Ppng+/8AC3xK0pbj9/ayTExXKjhvlPB9D7Vx1pThUUorfRnuYCnQxGGqUqsrON5RXy1189LryPY6KKK7DwwooooAKKKKACiiigAooooAKKKKACiiigAooooAKKKKACiiigAooooAKrTabZz6hb301tG91bBhDMR80YYYbB9xXD+J9Z8XaV4l0xmuLO20q61WK0jiij3ySxseWYsOOOOKt+PPEWoaLqmjwRXv9labdu63Oo+QJfKIHyrhsgZ9f8K6Y0J3VnvcydRa36HbUVxHhXUNc8R6TqqR6wfLhu/LsdWFqmZkH3vkI2kds47+1QWF14kj+JMOitrrajaW9v8AaL4vZxRhdwIRAVGck4P0pewabTauvX/IftFZO2531Fea6L4ivtX17UrW78ZRadNBqctvBYm3hzJGrDbgsMnPI9eK7TxRraeHfDN7qb4LQRny1P8AE54UfiSKU6MoyUOrGppq5rUVyNjZ+KbLwPZx2dzHc6zcMJLmbUHZhDv5bA/2eAB04pvgPXdV1jwLJqF/ILy/SSZVwgTeVJ2jAwKTotRck00nYFPVKx2FGK8isPG+s3LaM1nr39oaneXaxXejmyRPJXJ3/MBuAX1J9+1dX4wfWNE03UNaXxTJa2sS7orUWUTc9AgYjJyf51pLDSjJRbWvr/kSqiaujsqiubmGztnuLqVIYYxl3c4Cj615tqviLxDpOieFBq+tJp1xqLSG+ujbxnYuAy5BGAQCB2rsPD6rqGlytc65D4jt5WwH8mIIuOq4Tg/jUVKEoQ5rr8fTsXCcXKzOI174rmXVoLfRFZbKOdDNOV+eZQwyFB6Aj8T7V0w8a6leKf7I8J6nMP4WucQKfxOalv8A4ceGr6QyCxNrITndbOUwf937v6VkNp51v4sanaXl9fpBa2cEsccF08a7u+QDjmuChQrzlJ1J2W+mp7eKxeXqnTVCld9bu35PX8DS83x7fL8lvpOlqe8jtK4/LIo/4RXxDernVfF10ueqWUQhA/Ec/pWxqfizQdFuxa6rqlvaz7Q/lyPg4PQ/pTP+Ew8Pf2X/AGl/a9r9i83yfP3/AC78Z2/XHNa/VZNXd39/6HH/AGg4/wAOMY+iX5u7KEXw+0Y4+3yX2osO93du2fwGBWpa+F9CswPs2kWaEfxeQpP5kZqKx8Y+HtSleKw1e1neONpGVH6KOp+gqunj/wAKSSKia9ZlmIAAfqauOFs9IfgYzx1aa96o7euh0EcUcS7YkVB6KMU6sS/8Z+HNMvZLO/1i1guIyA8bvyvGeaWbxh4et9Pt76bV7VLW5LCGUv8ALIVODj6Vp7Kdl7r+45udX1ZtUVi2vjDw9fW9zPaavayxWqeZO6vxGvqajtfHPhm9u4ra11q0lnmcJHGr8sxOABR7Kp/K/uDnj3N6iufn8d+F7a4kgn1yzjliYo6F+VIOCKmvPGHh/T47d73VraFbqITQl3/1iHow9qPZVP5X9wc8e5tUVix+MfD0umzX8er2rWkLhJJg/wAqsegP1ptj4z8OaldC2sdYtZ5irMER+SACSfwAJo9lU/lYc0e5uUVzn/CwvCX/AEH7L/v5U97408N6ddta32s2sE6AFkd+RkZH6EUeyqXtyv7g549zcorCfxr4bjsY7x9ZtRbyu0aSF+GZcZH4ZH50628ZeHbyG4ltdYtZY7ZPMmZX4Rc4yfxo9lU35X9wc0e5t0Vg23jnwxe3UVta63aSzzOEjRX5ZicACkuPHXhi0upbe51u0jmhcpIjPyrA4IP40eyqXtyv7g549zforFu/GHh6wjt3vNXtYVuohNCWf/WIejD2oi8YeHptOmv4tXtWtLdlSWYP8qE9AfrR7Odr2Yc0e5tUVi6f4x8ParepZ6dq9rcXD52xo+ScDJ/QVWPxB8JqxB16zBBwf3lHsql7cr+4OePc6OisS+8ZeHdNufs9/rFrBLtV9jvzgjIP4inN4v8AD6aUmpNq1sLJ5fJWff8AKXxnb9cCj2c9+VhzR7mzRWLZeMPD2pGYWOr2s5giaaXY/wBxF6sfYVBF498LTzJFDrtm8kjBVUP1J4Ao9lU/lf3Bzx7nQ0VhXnjbw3p95LaXus2sM8TbZI3flT6GnXHjPw5a21vcXGsWscV0peF2fiQA4JH40eyqfyv7g5o9zborDi8a+G57O4uodZtXgttvnSB+E3HC5+posvGvhvUbyO0sdZtZ7iU4SNH5Y0eyqfyv7g549zcornD8QfCasQdessg4P7yrF74z8OadMsN7rFrDIyLIFZ+SrDIP4ij2VTblf3Bzx7m3RWKfGHh4aWNSOr2os2l8kTb/AJS+M7friix8YeHtSaVbDV7WdoYmmkCP91B1Y+wo9nO17MOaPc2qK56Lx74VmmSKLXbNndgqqH6k9BUt7418N6deS2l9rNrBcRHbJG78qfQ0eyqXtyv7g5473NyisWfxj4dtbO2u7jWLWO3ugxgkL8SBTg4+hotvGHh68tLm6tdXtpYLRQ08ivxGCcAmj2c7X5WHNHa5tUVhWfjbw3qF5FaWWs2s08rbY40flj6Cue8bWjWHirw9qNreXkcl5qkUM0YuW8opjpszjtVRoycuWWgnNWutTvqKKKxLCiiigApqoisxVVBbliB1rz3xB42mHjK60aHXbPQbSxRPOuZ4xJJM7DO1FPGAOprbvvFdv4e8N6fcS3MmvT3sghtntUQG6c5xjHygdq3eHmkvP+vQhVI6nU0Vj+HtZvdYinOo6JdaS8TABZ2DCQHuCPStispRcXZlJ3Vworz7xpq+paB9puLTxdD9s3qbbSDbRMzhmAC4++frV3xF8R4PDmpvYTaVd3M0VulzMYSNsaE4Ykn04+uRWyw85JOOt/66+pDqRV7naUVx+n/EfTb3Q9V1Se1urWHTChdJFG90cAxsBn+IEce9X/DfiW912ZxdaBeaZD5YlimnYFZATwOOhwc4qZUakU21sNTi9joaK5TxZcXl5rei6Bpl1LbNdSm4u5IHKukEfJGRyNzECpfEHjE6RrEWkafpN1q2ovB9oaGAhQkeSu4k+46UKlJ2t1DnS3OmorivFvi7VdM8Hi/sdGvIbiaBnZ2VT9jYY++D161paF4our+3mk1bRbzSobeDzWuLnbtcAc4x+dHsZ8nOHOr2OjorjLH4jQ3F/ZR32jX+n2eoyBLK9nUbJifu5HVc9uvWmaj8SFtNS1Gzs9B1G/bTZCLqSBRsjQDO7P58e1P6vVvawvaRte521FVNK1O21nSbbUbFi0FzGJEJHOD2PuOlW6xaadmabhRRmikAUVwPxViurLw9JrVhqupWdxC0cSx290yRkF+SVHU89fpXS+IvEtp4Z06K4u0lnlnkENvbwLukmc9ABW3sm4xcdb/oRzpNp9DZorm9B8Ypqt3c2OpabdaPfW8P2hoLrHzRZxvUjqAeDVbQfHM3iK/g+weH78aXOzKmoyFQvGeSvXGRih0aivdbBzxOtork9X8cmz16bR9I0W81e7tkV7kQEKIgwyOT1NbWoax/Z3huXVpbO4byoBM1sq5kHGduPUd/oal0pq11uPmTuaVNdFkjZJFDowwysMgj0NVtJvxquj2l+sMkAuYVlEcgwybhnBq2TgZPFQ1Z2ZSfVAAFUBRgDgAdqK8e1D4gayNEn8QRa5Da77t0sNJ+yo/nxI2CWb7w75OccV6rpF+NV0Wy1BV2i6gSYL6blBx+tbVcPOkk5Gcaim7IuUVR1nzP7InMOpLpbKAxvGVWESggkkN8vTI56ZrkfCXiDVtQ8R6zp8epw67Y2kCtBfCJUUykfcJTgjryPSpjScouSe39ehTkk0jvKK4Hw9rHikfEZtH8SXdq6Ppxu/s9rEAkTFwANxG44Ge/eofHWt+LtEvoLq2uLO10t76G2iVIw8swYZYtuBAHBHHNaLDyc1C61I9ouXmseiUVx3j3xZP4fOnWNjcW1pc6hIwN1d8xwRqAWYjueRgVf8I341C1nlHiaLXvmUbo4Uj8k88YXnn39Kh0ZKn7R7Fc6cuU6KiijNYlhRRVPVb9tM0ya7js7i9aMDFvbLukckgcD8c/Smk27IC5RXMeH/Gf9r6zJpGo6Td6RqCw/aEhuMESR5xkEe/aqyfEBLzVHt9G0PUtTtIZ/ImvbdB5atnBxz8wHetfYVL2sRzxOworm/EHjGLR9Si0ux0+61bU5I/N+y2oGUTONzE9KJvGCWtvoj3mmXdtLq90LYQTAK8LZIyw9OPyNJUZtJ23HzxudJRWF/wlMH9s6zp32eTfpNstxI+RhwylsD34rCsvihbXk+nu2jahBp1/KsEV/KoEZlb+H3GcjPseKaoVJapCc4rqd1RXJ6/42udBvbgP4b1K4sLUAzX0YUIBgElQeoGevHQ1Y1fxvp+mWWnS28FxqE+qLus7W1TMkgwDn2GCKPY1Hay3DnidJRXJTeOnsPDr6trGhX9gsVykEscoGVDf8tAe68gfWtLUvE1vYeIdK0dIZLi51Lcy+WRiNFGS59v8KXsZ9u/4bj54m3RWC/ihE8bx+HPsF0XktzN9qC/ux14/TGfXit6olFxtfqNNPYKCAeoziuU8aa3qNhcaRpWizRW13qlwyfaZFDCGNBudsHgnHrWZ4O8WzXvjLUNBl1ldbgigEsN4IFj+YEB0+UYYcg5FaqhJw5yfaJS5TvqKK80k8R+INV/4Sm9stZh01NDmkihsvIRjIIweXLcjdjAx3qadJ1L2YSkonpdFeczeNNS1r/hHbXTbyHSTqFk17e3bxq4hRRghQ3HUNyfan+DPEuqeLLfW9Mj1kefYzJ9n1NLVQZY2JwSh+X+E9u9aPDTUeZ9P87E+1i3ZHodFef2V74jX4kw6GviBtRtraD7RflrOJAmfuplRnJyD9KraN4hvtX17UrW68ZRafNBqk1vBYm3hy8at8uCwyc8j14o+rS3utr9f8g9otj0miiiuY1CiiigAooooAKKKKACiiigAooooAKKKKACiiigDzzxwviHVtU02PT/DdxNDpepR3YnFzGBOq9gCcjr3pfF2laxrd5oepXOiSX2nwKz3ej/aFDCQjgn+F8ccZ/nXoVFdMcQ42slp69fmZOmne73OK8C6PqWhWuszzWD2dncTedY6UJQ7QgA5Gc4G444zxir3gjSb6zs73UtciWLVdUuWnnQMGMajhEyOwH866eionWlO9+v6FKCVvI838V6RqHiyKfSrPwmunytcBv7VneMBAGzvG35iSO3vWproGr+KtD8LkmaO0C6jesRkMsfEan6tyR7V2lN2IJC4Vd5GC2OSKv27slba9vV9Rez6lLWL28sLDztO02TUptwXyI5FQ49ctxXFeA7PxHpnhu50O60eXT5WWeSK9edGVXb7owpJ6nr7V6JRURq8sHC243G8r3PHLbwbqrR6Tb2HhuTStWs7hZLjWXu1YSc/OeDltx5xjjpXZ+JtE1HxL4q0qymg2aFZH7XcSMwIuJQcLHjOcDqc8cn2rsKK0lipykpW2v8AiSqSSsYfiW5kgW3Efht9cDFshfL/AHR4/v8Ar7elZPgbw7eaVqOs6nd2cOmR6nIjxadC4YQBQQSSOMnOcCuyorJVWoOCW5XLeV2FcVpX/JZte/7B8FdrXP6l4J0PVtYOqXtvKbshQXS4dMhemQCBTpSjHmUuqsEk3axX8Q+FtS1nUxc2WtxWMYjCeU+mRTnIJ53Pz36VH/wiOqf8I5/Zv9vQ/aPtPnfaf7Lhxt242eX93rzu69q6yihVppJdvJByK9zktH8I6pptzLJca/DcrJC8YVdKhi2kjhsr1x6dDVKLwHrUcyO3iiBgrAkf2JbjPPr2ruqKf1ipe+n3L/IORf02cjrPg7VdT1ae7tvEENrFIQVhbSYZSvAH325P40668I6pcaJY2MevQxzWzOZJzpcLCXccgBDwuPbrXWUUvbzslpp5L/IORHJ6b4S1Sysb+CbXop3uovLjcaXDGIj6lRw/0PFQad4J1ey1K3uZvEkM8cMiu0Q0eCMuAeRuHIz6iuzop+3nrtr5L/IORf0zibzwPrNzfTzx+JYIklkZ1Q6NA5UE5xuPJ+pq3qvhLVNQhsUt9ehtjbW6wyFtLhl81h1YBvu5/ujiuroo9vPTbTyX+Qci/pnJweEdUi0C6sH1+F5ppVdLgaXCAgHUeWOGz6npTNI8Harp2orcXHiCG5jCOpjXSYYiSVIB3LzwTnHfGK6+il7edmtNfJf5ByI4P/hANb/6Gm3/APBHb1d1fwdq2o6nJc2/iGG2jcKBE2kwSkYUD7zcnOM119FP6xUvfT7l/kHs4/02cdL4M1Z9Ht7NfEUKyxSu7Tf2RAQ4IGBs6DGDyOufan6f4P1Wztb6KbxBDM1zD5cbjSoY/KOc7iB976Hiuuoo9vO1tPuX+QciOL0/wTq9nqVtczeJIJ44ZVdoho8EZcA5I3DkZ9RSX3gjWLvULi4i8SQQpLKzrGdGgfYCcgbjycep612tFH1ipe+n3L/IPZxtb9WcnqnhHVL+Cxjg16G3NtbrFIzaVDJ5rD+IA/d/3RxRb+EdUh0G7sH1+F5p5EdJxpcKiMDqNg4bPqeldZRS9tO1tPuX+Qcivc5LRPCGqaXq0V3da/DdxIGBhXSoYS2QR99eR61RbwDrbOW/4Si3GTnH9iW9d3RT+sVL30+5f5ByRtb9WcjrHg/VdS1D7Rb+IIbZPLRPLbSoZTkDBO5ueeuO1Pk8Jam/hyLTRr0QuEuDKbn+y4SGXBG3y/ujr97rXV0Uvbzslpp5L/IORHJ6R4S1TTmuzca9Fc+fbPCm3S4YvLY9H+X72P7p4NU7bwLrMF3DM/iaCRY3Vig0W3XcAc4yOR9a7iin7epdvTXyX+Qckf6bOO1XwZq1/qtxdW/iKG2jlfcsTaRBKUHpubk/U0+98H6rdafY28XiCGJ7aNlkkOkwuJSWzkKeF44wK66ij289NtPJf5ByI4+28G6tBpd7av4hhkkufL2SjSYFEe1snKjhs9OelGk+DdW07VoLu48Qw3McTZaJdJgiL8dNy8j8K7Cij287Naa+S/yDkX9NnCN4B1tnY/8ACU24yc4/sO3q5q3g7VdQu0lt/EENsqxJGUbSYZclRgtlueeuOgrr6KPrFS99PuX+Qckf6bOTbwjqh8Oppw1+ETrcmY3P9lQ4K7cbfL+777utGj+EdU02S5a516G6E1u8KBdLhi2McYb5fvYx908Gusope2na2n3L/IORHD2/gXWYbqKV/E8DrG4YqNFt13AHpkcj61Y1bwbq2o6tcXdv4hhto5WysLaTBKUGOm5uT+NdhRT+sVL30+5f5ByRtb9WcleeENVudKsLSLX4YpLUOJJTpULiXJyMKeEwOOOtLYeEdUtNL1C1m16GaS6VVjlGlwoIiDkkqOHz6HpXWUUvbTtbT7l/kHIr3OO0rwZq2n6rb3Vx4ihuYon3NEukQRFx6bl5H1FRfEL/AJCfhP8A7DMX8jXbVhXfg3Rb7X49ZureR72ORJEbz32hlAAO3OO3pVwrXnzz6dkv+AJw92yN2qup6bb6vps1heqzQTrtcK5UkZz1HI6VaornTad0aGHoHhDSPDM00ukxTI8yhXMk7ycD6nityiinKUpu8ndiSSVkefXWjahonjXWdTj8Opr1rqyxlNrRh4GVcFTv7H1FU4PCVxpnw/g0rV9AfWDLdSXBgtLhUazz93axIyRz04+tem0V0fWZWWnbv026mfsl/XmcX8PtN1zThqC6p9ri05mT7Bb306zTRAA7skdB0wPb8+0oorGpN1JOTLjHlVjz7xVa3XiE3tivgfzLpw0MOpzyxKE7LIGHzcdcfhVPXfCWt3F1q/lQNdmbQYrOObeo86ZXBbqc9s816bRW0cTKNlFbevl/kQ6ae559p2gX9jD4lOoaGdQhvI7REtRKg88LEFfBzxg/TpxR4F0fWNL164aO1vtM8P8AkYWyv7lZSsueqYJ2rj1r0Gik8RJpprcfs1dM4rwW8niDX9W8VyZFvORZWCsP+WMZ5b/gTc/hVbx5pUupalG9r4e1Ca8hiAttUsLtImQ8/KcnoDz+PFd4iLGgWNVVR0CjAFOpe3aqc6Qcl48rORfRdc1H4Vy6Tq0yTaxLaMjOWyGbJKgn1xgE+tLC+reJfDd9o+oaLPpDSWRhWeWZHVnK442nOO+a62ip9s+3W/oPkPJdF8HSLd6bb6p4c1jzLWWMvOdTVrdSpHzgZzjjOMZ7VbtLzVl1nxjYaRokl+13eMnn+ciRxExgfNnnjOeBXp9U7LSrPTri8ntItkl7L5053E7mwBnnpwO1bvFOV3Jfn39SPZW2KfhLRX8O+E7DSppFlktosO69CxJJx7ZNaN9Zw6hYT2dyGMNxGY5ArFSVIweRyKnorkcm5cz3NUklY5/QvBGi+HL5rzS4pkmaMxkyXDuMEg9CcdhXQUUUSnKbvJ3BJJWRwnxLg1rWtHl0XSdDnulkMcgulmjVQQ2SuCQe1L4gstc1y30XWrbSGhvNJvDK2nTzpumTAHDAlQeO9d1RW0a7jFJJaevXch07tu5xmm2urar4tl8R6hpD6fHb6e1pBaSyq0k7FtxJxwB25+tYOi6Bqdr4rs7nQND1Dw/AZ919FPdo9s8eDkKgJO4np2HtXqNFNYhq6S6W6/194ezTPNvGujXeo65NcaV4c1GLVEULbatZXiRq/HG8Z6A8dM4HWuxR9ZsPCKPJDHqGsQ2q741cIs0oHPP1rYoqZVnKMYtbDUEm2upW02a5uNLtpr+3FtdSRK0sIbd5bEcrnvg1YYBlIPQjBpaKxe5Z45a+BtY0W11bR7TQlu7m+LQwau86+XDbt1G08qeTkDrmu+1Eaz4a8I6fa+GdPj1S5tlit2SR9g2KuC3UdwPzrpaK6J4mVRpyV/1Mo01FaGXrNzPFoZf+x21N5AFls42U5B6/ewCBXK+GfD99B4wudeh0VNAsmtPJ/s9JVLXEmchiF+VfT/8AWa76iojVcYuKW5Tim02eaJJ4nPxE/wCEiPhG6ETWAszF9riyDv3bs56VY+IsHiDXBb6dpnh6eaG0vYrkXQuIwsgVTkBScjlsc+leh0Vp9YtJS5Vp6/5k+z0avucB4g03V9Yu9B8R/wBgCSbT3lW40meVGZkbgMD90kYz+VW/COjXyeK9W1+601dIgvYo4o7LcpYlertt4FdpRUuvLk5LeXyvcfs1e4VzOo/D/QNU1eTUruG4a5kYOxW5dRkY7A47V01FZRnKDvF2LaT3Cud8dW2t3fhWaLw1I6XhdS3lSbHZM/MFbsf/AK9dFRShLkkpdgaurHmHhHwvqNn4+i1RtJvLGx+wvEWvLwTyFyep54z6D096v+FIPEXg6z/sFtAbUIVuWaO+guUVWRmzlg3IIr0CiuiWJlO/Ml+PT5+ZmqaWzOI1HT9Y0Tx/ceI9N0w6tbXtotvJDFKqSQspHPzcEHFJ4pstZ1jTtA1e30llvNOv1updP85S5QE8BumcAH8fau4oqVXaadtV+Q+Rao8/0rS9evNc8U6nqWlfYv7SsEit4vOVySEZQCQevTPbmuo8P6WIPCWkWWpWsZmtbaENG6htkiqASO2Qc8itiipnWc+ltvwVhxgonk3ijw14g1bUdaW40y/1CSZn+wTJqAit4otvyjZnluuR3P51qf2Brmkjwpq9npwvZ9LsPst1Y+aqOMqBlSeDg16LRWv1qVlGysv8rE+yV7nN3CTeKvCWpWmvaa+jxzIyATzI5AxkOdvAwf5VyfwntL3Vpn8R6s4k+z2y6ZZnrlE+84+p7/Wu/wBb0HT/ABFYrZ6vC01usgk2CRkyQCOSpHHJ4q3aWlvYWcVrZQpBBEu1I0GAopKso0nBdfw/4cOS8k30Mx7/AFkeLo7FNJVtJaAu1/5wyr8/Lt/IfjmtmiiudtO2hojhviX4TuvEcOm3VlAbprCVjLarL5TTRtgMqt0B4p/hPRLj/hI21eXRRodpbWIsbSzLqzEbtzOdvTsPU8mu2orb6xL2fsyPZrm5jD03UNen8Taha6jpUdvpkIH2W6WXLS89x9Oe2PeuU8W+GG1/VbyK08HRfaZh5a6vNdKiDIx5hRTliPcdq9HopQrOEuaKt9/+Y5QUlZnl3iT4dyQ/8I/La2T6vaabbC1urOObynmUHO4E9RuySM+lb/hHR9Q0+61vXL/T1tZdQ8vyNOidS0UcSFUXP3cn8hXZUVUsTOUOR/1rclU4qV0cz4K0W6sLS91LV4vK1TVbhri4TIPljOEjyOCAP51zninSNQ8XQzaXa+Eo9Ola4Df2rO8Y2ANkuNvzEkfzr0milGvKM/aW1/Ibppx5RsSGOFEZi5VQCx6t706iiuc0CiiigAooooAKKKKACiiigAooooAKKKKACiiigAooooAKKKKACiiigAooooAKKKKACiiigAooooAKKKKACiiigAooooAKKKKACiiigAooooAKKKKACiiigAooooAKKKKACiiigAooooAKKKKACiiigAooooAKKKKACiiigAooooAKKKKACiiigAooooAKKKKACiiigAooooAKKKKACiiigAooooAKKKKACiiigAooooAKKKKACiiigAooooAKKKKACiiigAooooAKKKKACiiigAooooAKKKKACiiigAooooAKKKKACiiigAooooAKKKKACiiigAooooAKKKKACiiigAooooAKKKKACiiigAooooAKKKKACiiigAooooAKKKKACiiigAooooAKKKKACiiigAooooAKKKKACiiigAooooAKKKKACiiigAooooAKKKKACiiigAooooAKKKKACiiigAooooAKKKKACiiigAooooAKKKKACiiigAooooAKKKKACiiigAooooAKKKKACiiigAooooAKKKKACiiigAooooAKKKKACiiigAooooAKKKKACiiigAooooAKKKKACiiigAooooAKKKKACiiigAooooAKKKKACiiigAooooAKKKKACiiigAooooAKKKKACiiigAooooAKKKKACiiigAooooAKKKKACiiigAooooAKKKKACiiigAooooAKKKKACiiigAooooAKKKKACiiigAooooAKKKKACiiigAooooAKKKKACiiigAooooAKKKKACiiigAooooAKKKKACiiigAooooAKKKKACiiigAooooAKKKKACiiigAooooAKKKKACiiigAooooAKKKKACiiigAooooAKKKKACiiigAooooAKKKKACiiigAooooAKKKKACiiigAooooAKKKKACiiigAooooAKKKKACiiigAooooAKKKKACiiigAooooAKKKKACiiigAooooAKKKKACiiigAooooAKKKKACiiigAooooAKKKKACiiigAooooAKKKKACiiigAooooAKKKKACiiigAooooAKKKKACiiigD//2Q==)"
      ]
    },
    {
      "cell_type": "markdown",
      "metadata": {
        "id": "sRD9wy63x66g"
      },
      "source": [
        "#### (5) 모델 평가: evaluate()"
      ]
    },
    {
      "cell_type": "code",
      "execution_count": null,
      "metadata": {
        "colab": {
          "base_uri": "https://localhost:8080/"
        },
        "id": "2SIvVQGjsFwS",
        "outputId": "e301149e-4700-43b3-e010-1a2fa4da41ad"
      },
      "outputs": [
        {
          "output_type": "stream",
          "name": "stdout",
          "text": [
            "313/313 - 0s - loss: 0.2678 - acc: 0.9231 - 483ms/epoch - 2ms/step\n",
            "\n",
            "테스트 정확도: 0.9230999946594238\n"
          ]
        }
      ],
      "source": [
        "test_loss, test_acc =\n",
        "\n",
        "print('\\n테스트 정확도:', test_acc)"
      ]
    },
    {
      "cell_type": "markdown",
      "metadata": {
        "id": "AKOuUKur_fJx"
      },
      "source": [
        "신경망의 학습 데이터는 동일하지만 학습 때 사용되는 모델의 초기 가중치는 매번 랜덤하게 결정되므로 동일한 모델을 만들더라도 매번 정확도 값이 다르게 나타날 수 있음."
      ]
    },
    {
      "cell_type": "markdown",
      "metadata": {
        "id": "HCKKbiETyQU3"
      },
      "source": [
        "#### (6) 학습과정 살펴보기: 시각화"
      ]
    },
    {
      "cell_type": "code",
      "execution_count": null,
      "metadata": {
        "colab": {
          "base_uri": "https://localhost:8080/"
        },
        "id": "tIG-IFKHaMGo",
        "outputId": "c667dbda-ab2d-43e7-b79e-cde99df5924d"
      },
      "outputs": [
        {
          "output_type": "stream",
          "name": "stdout",
          "text": [
            "dict_keys(['loss', 'acc'])\n",
            "dict_items([('loss', [0.22518771886825562, 0.09380805492401123, 0.06266109645366669, 0.0458679124712944, 0.032804083079099655]), ('acc', [0.934583306312561, 0.971666693687439, 0.981083333492279, 0.9857000112533569, 0.9895666837692261])])\n"
          ]
        }
      ],
      "source": []
    },
    {
      "cell_type": "markdown",
      "metadata": {
        "id": "P4eMDIxBGFjK"
      },
      "source": [
        "#### * 결과 시각화 함수:draw_acc_loss()"
      ]
    },
    {
      "cell_type": "code",
      "execution_count": null,
      "metadata": {
        "id": "KBH2-DuIcb6p"
      },
      "outputs": [],
      "source": [
        "import matplotlib.pyplot as plt\n",
        "\n",
        "def draw_acc_loss(his_dict):\n"
      ]
    },
    {
      "cell_type": "code",
      "execution_count": null,
      "metadata": {
        "colab": {
          "base_uri": "https://localhost:8080/",
          "height": 487
        },
        "id": "aWsuk7vDdifP",
        "outputId": "d87ead77-6fe3-4492-b3dc-9a7ab7321815"
      },
      "outputs": [
        {
          "output_type": "display_data",
          "data": {
            "text/plain": [
              "<Figure size 500x500 with 1 Axes>"
            ],
            "image/png": "[encoded data removed]"
          },
          "metadata": {}
        }
      ],
      "source": [
        "draw_acc_loss()"
      ]
    },
    {
      "cell_type": "markdown",
      "metadata": {
        "id": "ASKmGp7GcGL0"
      },
      "source": [
        "### 1-6. 인공 신경망의 성능 개선"
      ]
    },
    {
      "cell_type": "markdown",
      "metadata": {
        "id": "vyBcj3ydAPd7"
      },
      "source": [
        "인공 신경망의 성능을 조금 더 개선하는 방법\n",
        "\n",
        "1. 데이터를 더 많이 사용하기\n",
        "2. 모델을 바꾸기 (학습을 위한 은닉층을 더 깊게 만들기, 노드의 개수 늘리기)\n",
        "3. 하이퍼파라미터(epoch, batch_size 등) 튜닝하기 등의 방법이 있을 수 있다."
      ]
    },
    {
      "cell_type": "markdown",
      "metadata": {
        "id": "F3MSA0GdzQo6"
      },
      "source": [
        "#### (1) 은닉층 추가 I"
      ]
    },
    {
      "cell_type": "code",
      "execution_count": null,
      "metadata": {
        "id": "RR4VfBDcXBrC"
      },
      "outputs": [],
      "source": [
        "# 은닉층 추가\n",
        "#    keras.layers.Dense(128, activation='relu'),\n",
        "#    keras.layers.Dense(64, activation='relu'),\n",
        "#    2의 배수\n",
        "\n",
        "model_3 = keras.Sequential([\n",
        "\n",
        "])\n",
        "\n"
      ]
    },
    {
      "cell_type": "code",
      "source": [
        "# 모델 요약하기\n"
      ],
      "metadata": {
        "id": "x_QdCNmcCgQ1"
      },
      "execution_count": null,
      "outputs": []
    },
    {
      "cell_type": "code",
      "execution_count": null,
      "metadata": {
        "colab": {
          "base_uri": "https://localhost:8080/"
        },
        "id": "LekbAo781iyv",
        "outputId": "a77e592e-e850-468f-d324-a523cfd6dddf"
      },
      "outputs": [
        {
          "output_type": "stream",
          "name": "stdout",
          "text": [
            "Epoch 1/5\n",
            "1875/1875 [==============================] - 9s 4ms/step - loss: 0.7025 - acc: 0.7737\n",
            "Epoch 2/5\n",
            "1875/1875 [==============================] - 8s 4ms/step - loss: 0.3565 - acc: 0.8931\n",
            "Epoch 3/5\n",
            "1875/1875 [==============================] - 8s 4ms/step - loss: 0.2645 - acc: 0.9209\n",
            "Epoch 4/5\n",
            "1875/1875 [==============================] - 8s 4ms/step - loss: 0.2001 - acc: 0.9395\n",
            "Epoch 5/5\n",
            "1875/1875 [==============================] - 8s 4ms/step - loss: 0.1620 - acc: 0.9508\n",
            "\n",
            "테스트 정확도: 0.9495000243186951\n"
          ]
        }
      ],
      "source": [
        "#모델 설정\n",
        "\n",
        "#모델 학습\n",
        "\n",
        "#모델 평가\n"
      ]
    },
    {
      "cell_type": "markdown",
      "metadata": {
        "id": "Zumfv9w5zXw-"
      },
      "source": [
        "#### (2) 은닉층 추가 II"
      ]
    },
    {
      "cell_type": "code",
      "execution_count": null,
      "metadata": {
        "colab": {
          "base_uri": "https://localhost:8080/"
        },
        "id": "HarurybCgp4c",
        "outputId": "b5309690-a55d-4f69-c62e-e86feac686e0"
      },
      "outputs": [
        {
          "output_type": "stream",
          "name": "stdout",
          "text": [
            "Model: \"sequential_2\"\n",
            "_________________________________________________________________\n",
            " Layer (type)                Output Shape              Param #   \n",
            "=================================================================\n",
            " flatten_2 (Flatten)         (None, 784)               0         \n",
            "                                                                 \n",
            " dense_6 (Dense)             (None, 1256)              985960    \n",
            "                                                                 \n",
            " dense_7 (Dense)             (None, 512)               643584    \n",
            "                                                                 \n",
            " dense_8 (Dense)             (None, 256)               131328    \n",
            "                                                                 \n",
            " dense_9 (Dense)             (None, 128)               32896     \n",
            "                                                                 \n",
            " dense_10 (Dense)            (None, 64)                8256      \n",
            "                                                                 \n",
            " dense_11 (Dense)            (None, 10)                650       \n",
            "                                                                 \n",
            "=================================================================\n",
            "Total params: 1,802,674\n",
            "Trainable params: 1,802,674\n",
            "Non-trainable params: 0\n",
            "_________________________________________________________________\n"
          ]
        }
      ],
      "source": [
        "# 은닉층 추가\n",
        "#    keras.layers.Dense(1256, activation='relu'),\n",
        "#    keras.layers.Dense(512, activation='relu'),\n",
        "\n",
        "model_5 = keras.Sequential([\n",
        "\n",
        "])\n",
        "\n",
        "model_5.summary()"
      ]
    },
    {
      "cell_type": "code",
      "execution_count": null,
      "metadata": {
        "colab": {
          "base_uri": "https://localhost:8080/"
        },
        "id": "yQKPva1bfnoT",
        "outputId": "066bbb91-2231-486e-9124-39f61962b883"
      },
      "outputs": [
        {
          "output_type": "stream",
          "name": "stdout",
          "text": [
            "Epoch 1/5\n",
            "1875/1875 [==============================] - 28s 15ms/step - loss: 0.2205 - acc: 0.9341\n",
            "Epoch 2/5\n",
            "1875/1875 [==============================] - 28s 15ms/step - loss: 0.1048 - acc: 0.9703\n",
            "Epoch 3/5\n",
            "1875/1875 [==============================] - 28s 15ms/step - loss: 0.0806 - acc: 0.9780\n",
            "Epoch 4/5\n",
            "1875/1875 [==============================] - 28s 15ms/step - loss: 0.0596 - acc: 0.9834\n",
            "Epoch 5/5\n",
            "1875/1875 [==============================] - 28s 15ms/step - loss: 0.0478 - acc: 0.9868\n",
            "\n",
            "테스트 정확도: 0.9736999869346619\n"
          ]
        }
      ],
      "source": [
        "#모델 설정\n",
        "\n",
        "#모델 학습\n",
        "\n",
        "#모델 평가\n"
      ]
    },
    {
      "cell_type": "markdown",
      "metadata": {
        "id": "P-x4VE6hz-9K"
      },
      "source": [
        "#### (3) 각 layer의 노드의 수 조절"
      ]
    },
    {
      "cell_type": "code",
      "execution_count": null,
      "metadata": {
        "id": "rgF0GNi50G2B"
      },
      "outputs": [],
      "source": [
        "# 각자 해보기"
      ]
    },
    {
      "cell_type": "markdown",
      "metadata": {
        "id": "IBJ0LDJzzyU8"
      },
      "source": [
        "#### (4) 하이퍼파라미터 조절\n",
        "\n",
        "epochs, batch_size, optimizer 등을 조정하며 테스트 해볼 수 있다"
      ]
    },
    {
      "cell_type": "code",
      "execution_count": null,
      "metadata": {
        "id": "5wNeacJ70Hgj"
      },
      "outputs": [],
      "source": [
        "# 각자 해보기\n",
        "\n",
        "# 하지만 이 데이터의 경우 원래의 정확도가 높아서 더 높이려고 애쓸 필요가 없다.................."
      ]
    },
    {
      "cell_type": "markdown",
      "metadata": {
        "id": "DIHR3r56d2gA"
      },
      "source": [
        "#### (5) 검증 데이터셋으로 검증하기\n",
        "\n",
        "만일 원래의 train set을 train set과 validation set으로 나누어 검증하며 학습하면 성능이 더 좋아질까?\n",
        "\n",
        "새로운 데이터 구성\n",
        "- X_train (60,000개, train 데이터) = XX_train(48,000개, train 데이터) + XX_test(12,000개, validation 데이터)\n",
        "- X_test (10,000개, test 데이터)\n",
        "\n",
        "- y_train (60,000개, train 데이터) = yy_train(48,000개, train 데이터) + yy_test(12,000개, validation 데이터)\n",
        "- y_test (10,000개, test 데이터)"
      ]
    },
    {
      "cell_type": "code",
      "execution_count": null,
      "metadata": {
        "colab": {
          "base_uri": "https://localhost:8080/"
        },
        "id": "8ZMp8_XZedpI",
        "outputId": "9f80deb0-f36d-4825-f21e-2662ca049c59"
      },
      "outputs": [
        {
          "output_type": "stream",
          "name": "stdout",
          "text": [
            "훈련 데이터:(42000, 28, 28), 레이블:(42000,)\n",
            "검증 데이터:(18000, 28, 28), 레이블:(18000,)\n"
          ]
        }
      ],
      "source": [
        "from sklearn.model_selection import train_test_split\n",
        "\n",
        "# 훈련 데이터를 7:3의 비율로 분리해서 훈련데이터와 검증데이터를 만든다\n",
        "XX_train, XX_val, yy_train, yy_val =\n",
        "# random_state = 777 seed같은 역할 숫자는 아무거나 괜찮음\n",
        "print(f'훈련 데이터:{}, 레이블:{}')\n",
        "print(f'검증 데이터:{}, 레이블:{}')"
      ]
    },
    {
      "cell_type": "markdown",
      "metadata": {
        "id": "X9yLykA5e_jH"
      },
      "source": [
        "가장 초기에 구성한 모델을 그대로 사용해서 학습을 시킨다"
      ]
    },
    {
      "cell_type": "code",
      "execution_count": null,
      "metadata": {
        "colab": {
          "base_uri": "https://localhost:8080/"
        },
        "id": "bHeBnY1me-Yq",
        "outputId": "704f7db2-85c6-489b-acf4-d3524f479833"
      },
      "outputs": [
        {
          "output_type": "stream",
          "name": "stdout",
          "text": [
            "Epoch 1/5\n",
            "1313/1313 [==============================] - 7s 5ms/step - loss: 0.2719 - acc: 0.9216 - val_loss: 0.2622 - val_acc: 0.9232\n",
            "Epoch 2/5\n",
            "1313/1313 [==============================] - 7s 5ms/step - loss: 0.2596 - acc: 0.9249 - val_loss: 0.2562 - val_acc: 0.9273\n",
            "Epoch 3/5\n",
            "1313/1313 [==============================] - 6s 5ms/step - loss: 0.2485 - acc: 0.9290 - val_loss: 0.2441 - val_acc: 0.9276\n",
            "Epoch 4/5\n",
            "1313/1313 [==============================] - 7s 5ms/step - loss: 0.2381 - acc: 0.9316 - val_loss: 0.2372 - val_acc: 0.9322\n",
            "Epoch 5/5\n",
            "1313/1313 [==============================] - 7s 5ms/step - loss: 0.2275 - acc: 0.9356 - val_loss: 0.2262 - val_acc: 0.9354\n"
          ]
        }
      ],
      "source": [
        "history =\n"
      ]
    },
    {
      "cell_type": "markdown",
      "metadata": {
        "id": "H00Tz2KbX2VB"
      },
      "source": [
        "학습 결과를 그려보자"
      ]
    },
    {
      "cell_type": "code",
      "execution_count": null,
      "metadata": {
        "colab": {
          "base_uri": "https://localhost:8080/"
        },
        "id": "EFFIv44KXRVY",
        "outputId": "43faf84d-ec22-4e65-b6e7-aeac5654449e"
      },
      "outputs": [
        {
          "output_type": "execute_result",
          "data": {
            "text/plain": [
              "dict_keys(['loss', 'acc', 'val_loss', 'val_acc'])"
            ]
          },
          "metadata": {},
          "execution_count": 32
        }
      ],
      "source": [
        "history.history.keys()"
      ]
    },
    {
      "cell_type": "markdown",
      "metadata": {
        "id": "-8Z2NpDKF13Q"
      },
      "source": [
        "#### * 결과 시각화 함수:draw_acc_loss_val()"
      ]
    },
    {
      "cell_type": "code",
      "execution_count": null,
      "metadata": {
        "id": "2DGPb61_b74k"
      },
      "outputs": [],
      "source": [
        "import matplotlib.pyplot as plt\n",
        "\n",
        "def draw_acc_loss_val(his_dict):\n",
        "\n"
      ]
    },
    {
      "cell_type": "code",
      "execution_count": null,
      "metadata": {
        "colab": {
          "base_uri": "https://localhost:8080/",
          "height": 350
        },
        "id": "38xRzexdgS8O",
        "outputId": "04e3afa1-11c5-438e-c940-d6e8df2d4b07"
      },
      "outputs": [
        {
          "output_type": "display_data",
          "data": {
            "text/plain": [
              "<Figure size 720x360 with 2 Axes>"
            ],
            "image/png": "[encoded data removed]"
          },
          "metadata": {
            "needs_background": "light"
          }
        }
      ],
      "source": [
        "draw_acc_loss_val()"
      ]
    },
    {
      "cell_type": "markdown",
      "metadata": {
        "id": "RQz_n3E9hSDu"
      },
      "source": [
        "초기의 모델에서 epochs 수만 늘려서 학습시켜 보자: fit()"
      ]
    },
    {
      "cell_type": "code",
      "execution_count": null,
      "metadata": {
        "colab": {
          "base_uri": "https://localhost:8080/"
        },
        "id": "xjaEieHghPk1",
        "outputId": "f5162eaa-9ae5-4858-e353-736d83a074ab"
      },
      "outputs": [
        {
          "output_type": "stream",
          "name": "stdout",
          "text": [
            "Epoch 1/50\n",
            "1313/1313 [==============================] - 5s 4ms/step - loss: 0.0060 - acc: 0.9980 - val_loss: 0.0102 - val_acc: 0.9964\n",
            "Epoch 2/50\n",
            "1313/1313 [==============================] - 5s 4ms/step - loss: 0.0019 - acc: 0.9994 - val_loss: 0.0116 - val_acc: 0.9960\n",
            "Epoch 3/50\n",
            "1313/1313 [==============================] - 5s 4ms/step - loss: 0.0033 - acc: 0.9990 - val_loss: 0.0247 - val_acc: 0.9919\n",
            "Epoch 4/50\n",
            "1313/1313 [==============================] - 5s 4ms/step - loss: 0.0048 - acc: 0.9983 - val_loss: 0.0101 - val_acc: 0.9967\n",
            "Epoch 5/50\n",
            "1313/1313 [==============================] - 5s 4ms/step - loss: 3.2797e-04 - acc: 1.0000 - val_loss: 0.0107 - val_acc: 0.9966\n",
            "Epoch 6/50\n",
            "1313/1313 [==============================] - 5s 4ms/step - loss: 0.0091 - acc: 0.9972 - val_loss: 0.0164 - val_acc: 0.9947\n",
            "Epoch 7/50\n",
            "1313/1313 [==============================] - 5s 4ms/step - loss: 0.0011 - acc: 0.9997 - val_loss: 0.0186 - val_acc: 0.9937\n",
            "Epoch 8/50\n",
            "1313/1313 [==============================] - 5s 4ms/step - loss: 0.0055 - acc: 0.9980 - val_loss: 0.0168 - val_acc: 0.9952\n",
            "Epoch 9/50\n",
            "1313/1313 [==============================] - 5s 4ms/step - loss: 0.0030 - acc: 0.9992 - val_loss: 0.0199 - val_acc: 0.9942\n",
            "Epoch 10/50\n",
            "1313/1313 [==============================] - 5s 4ms/step - loss: 0.0030 - acc: 0.9992 - val_loss: 0.0143 - val_acc: 0.9958\n",
            "Epoch 11/50\n",
            "1313/1313 [==============================] - 5s 4ms/step - loss: 0.0055 - acc: 0.9984 - val_loss: 0.0359 - val_acc: 0.9908\n",
            "Epoch 12/50\n",
            "1313/1313 [==============================] - 5s 4ms/step - loss: 0.0034 - acc: 0.9991 - val_loss: 0.0201 - val_acc: 0.9947\n",
            "Epoch 13/50\n",
            "1313/1313 [==============================] - 5s 4ms/step - loss: 0.0011 - acc: 0.9996 - val_loss: 0.0281 - val_acc: 0.9931\n",
            "Epoch 14/50\n",
            "1313/1313 [==============================] - 5s 4ms/step - loss: 0.0054 - acc: 0.9984 - val_loss: 0.0200 - val_acc: 0.9944\n",
            "Epoch 15/50\n",
            "1313/1313 [==============================] - 5s 4ms/step - loss: 0.0029 - acc: 0.9991 - val_loss: 0.0367 - val_acc: 0.9908\n",
            "Epoch 16/50\n",
            "1313/1313 [==============================] - 5s 4ms/step - loss: 0.0035 - acc: 0.9988 - val_loss: 0.0264 - val_acc: 0.9931\n",
            "Epoch 17/50\n",
            "1313/1313 [==============================] - 5s 4ms/step - loss: 0.0022 - acc: 0.9993 - val_loss: 0.0327 - val_acc: 0.9926\n",
            "Epoch 18/50\n",
            "1313/1313 [==============================] - 5s 4ms/step - loss: 0.0029 - acc: 0.9991 - val_loss: 0.0310 - val_acc: 0.9928\n",
            "Epoch 19/50\n",
            "1313/1313 [==============================] - 5s 4ms/step - loss: 0.0031 - acc: 0.9990 - val_loss: 0.0255 - val_acc: 0.9936\n",
            "Epoch 20/50\n",
            "1313/1313 [==============================] - 5s 4ms/step - loss: 0.0027 - acc: 0.9991 - val_loss: 0.0320 - val_acc: 0.9927\n",
            "Epoch 21/50\n",
            "1313/1313 [==============================] - 5s 4ms/step - loss: 0.0024 - acc: 0.9992 - val_loss: 0.0472 - val_acc: 0.9897\n",
            "Epoch 22/50\n",
            "1313/1313 [==============================] - 5s 4ms/step - loss: 0.0047 - acc: 0.9984 - val_loss: 0.0313 - val_acc: 0.9931\n",
            "Epoch 23/50\n",
            "1313/1313 [==============================] - 5s 4ms/step - loss: 7.7816e-04 - acc: 0.9998 - val_loss: 0.0237 - val_acc: 0.9944\n",
            "Epoch 24/50\n",
            "1313/1313 [==============================] - 5s 4ms/step - loss: 0.0032 - acc: 0.9990 - val_loss: 0.0379 - val_acc: 0.9919\n",
            "Epoch 25/50\n",
            "1313/1313 [==============================] - 5s 4ms/step - loss: 0.0027 - acc: 0.9992 - val_loss: 0.0375 - val_acc: 0.9921\n",
            "Epoch 26/50\n",
            "1313/1313 [==============================] - 5s 4ms/step - loss: 0.0019 - acc: 0.9995 - val_loss: 0.0425 - val_acc: 0.9918\n",
            "Epoch 27/50\n",
            "1313/1313 [==============================] - 5s 4ms/step - loss: 0.0015 - acc: 0.9997 - val_loss: 0.0566 - val_acc: 0.9886\n",
            "Epoch 28/50\n",
            "1313/1313 [==============================] - 5s 4ms/step - loss: 0.0043 - acc: 0.9988 - val_loss: 0.0557 - val_acc: 0.9896\n",
            "Epoch 29/50\n",
            "1313/1313 [==============================] - 5s 4ms/step - loss: 0.0035 - acc: 0.9987 - val_loss: 0.0532 - val_acc: 0.9903\n",
            "Epoch 30/50\n",
            "1313/1313 [==============================] - 5s 4ms/step - loss: 0.0018 - acc: 0.9994 - val_loss: 0.0462 - val_acc: 0.9912\n",
            "Epoch 31/50\n",
            "1313/1313 [==============================] - 5s 4ms/step - loss: 0.0022 - acc: 0.9993 - val_loss: 0.0428 - val_acc: 0.9907\n",
            "Epoch 32/50\n",
            "1313/1313 [==============================] - 5s 4ms/step - loss: 0.0020 - acc: 0.9995 - val_loss: 0.0569 - val_acc: 0.9883\n",
            "Epoch 33/50\n",
            "1313/1313 [==============================] - 5s 4ms/step - loss: 0.0028 - acc: 0.9992 - val_loss: 0.0467 - val_acc: 0.9908\n",
            "Epoch 34/50\n",
            "1313/1313 [==============================] - 5s 4ms/step - loss: 0.0023 - acc: 0.9992 - val_loss: 0.0483 - val_acc: 0.9902\n",
            "Epoch 35/50\n",
            "1313/1313 [==============================] - 5s 4ms/step - loss: 0.0022 - acc: 0.9994 - val_loss: 0.0466 - val_acc: 0.9917\n",
            "Epoch 36/50\n",
            "1313/1313 [==============================] - 5s 4ms/step - loss: 0.0019 - acc: 0.9995 - val_loss: 0.0665 - val_acc: 0.9882\n",
            "Epoch 37/50\n",
            "1313/1313 [==============================] - 5s 4ms/step - loss: 0.0027 - acc: 0.9993 - val_loss: 0.0858 - val_acc: 0.9861\n",
            "Epoch 38/50\n",
            "1313/1313 [==============================] - 5s 4ms/step - loss: 0.0027 - acc: 0.9992 - val_loss: 0.0542 - val_acc: 0.9907\n",
            "Epoch 39/50\n",
            "1313/1313 [==============================] - 5s 4ms/step - loss: 0.0038 - acc: 0.9989 - val_loss: 0.0627 - val_acc: 0.9894\n",
            "Epoch 40/50\n",
            "1313/1313 [==============================] - 5s 4ms/step - loss: 0.0020 - acc: 0.9994 - val_loss: 0.0459 - val_acc: 0.9911\n",
            "Epoch 41/50\n",
            "1313/1313 [==============================] - 5s 4ms/step - loss: 0.0022 - acc: 0.9994 - val_loss: 0.0751 - val_acc: 0.9874\n",
            "Epoch 42/50\n",
            "1313/1313 [==============================] - 5s 4ms/step - loss: 0.0030 - acc: 0.9990 - val_loss: 0.0554 - val_acc: 0.9905\n",
            "Epoch 43/50\n",
            "1313/1313 [==============================] - 5s 4ms/step - loss: 0.0012 - acc: 0.9997 - val_loss: 0.0805 - val_acc: 0.9870\n",
            "Epoch 44/50\n",
            "1313/1313 [==============================] - 5s 4ms/step - loss: 0.0038 - acc: 0.9990 - val_loss: 0.0664 - val_acc: 0.9898\n",
            "Epoch 45/50\n",
            "1313/1313 [==============================] - 5s 4ms/step - loss: 0.0019 - acc: 0.9994 - val_loss: 0.0733 - val_acc: 0.9883\n",
            "Epoch 46/50\n",
            "1313/1313 [==============================] - 5s 4ms/step - loss: 0.0027 - acc: 0.9992 - val_loss: 0.0504 - val_acc: 0.9920\n",
            "Epoch 47/50\n",
            "1313/1313 [==============================] - 5s 4ms/step - loss: 8.2334e-04 - acc: 0.9996 - val_loss: 0.0585 - val_acc: 0.9902\n",
            "Epoch 48/50\n",
            "1313/1313 [==============================] - 5s 4ms/step - loss: 0.0020 - acc: 0.9996 - val_loss: 0.0653 - val_acc: 0.9897\n",
            "Epoch 49/50\n",
            "1313/1313 [==============================] - 5s 4ms/step - loss: 0.0017 - acc: 0.9994 - val_loss: 0.0740 - val_acc: 0.9883\n",
            "Epoch 50/50\n",
            "1313/1313 [==============================] - 5s 4ms/step - loss: 0.0012 - acc: 0.9997 - val_loss: 0.0586 - val_acc: 0.9899\n"
          ]
        }
      ],
      "source": [
        "history ="
      ]
    },
    {
      "cell_type": "code",
      "execution_count": null,
      "metadata": {
        "colab": {
          "base_uri": "https://localhost:8080/"
        },
        "id": "3oT6rZMGhlfl",
        "outputId": "adce6037-bb14-45c2-b720-df291b3fcf9d"
      },
      "outputs": [
        {
          "output_type": "stream",
          "name": "stdout",
          "text": [
            "\n",
            "테스트 정확도: 0.9366999864578247\n"
          ]
        }
      ],
      "source": [
        "test_loss, test_acc =\n",
        "print('\\n테스트 정확도:', test_acc)"
      ]
    },
    {
      "cell_type": "code",
      "execution_count": null,
      "metadata": {
        "colab": {
          "base_uri": "https://localhost:8080/",
          "height": 350
        },
        "id": "xse9gDqnhXWt",
        "outputId": "52c724ed-d96b-46c6-a0df-52a0e7342eb8"
      },
      "outputs": [
        {
          "output_type": "display_data",
          "data": {
            "text/plain": [
              "<Figure size 720x360 with 2 Axes>"
            ],
            "image/png": "[encoded data removed]"
          },
          "metadata": {
            "needs_background": "light"
          }
        }
      ],
      "source": [
        "draw_acc_loss_val()"
      ]
    },
    {
      "cell_type": "markdown",
      "metadata": {
        "id": "1vMBxt0LhXY5"
      },
      "source": [
        "### 1-7. 새로운 이미지로 테스트"
      ]
    },
    {
      "cell_type": "code",
      "execution_count": null,
      "metadata": {
        "colab": {
          "base_uri": "https://localhost:8080/"
        },
        "id": "X637e7pPsB5I",
        "outputId": "96f2dd47-3f0a-4512-8433-5fdee51f28dc"
      },
      "outputs": [
        {
          "output_type": "execute_result",
          "data": {
            "text/plain": [
              "(10000, 28, 28)"
            ]
          },
          "metadata": {},
          "execution_count": 25
        }
      ],
      "source": [
        "X_test.shape"
      ]
    },
    {
      "cell_type": "code",
      "execution_count": null,
      "metadata": {
        "colab": {
          "base_uri": "https://localhost:8080/",
          "height": 283
        },
        "id": "HoZoZ6RdsEPc",
        "outputId": "a40671ca-3f0b-4147-f421-5f58f3e5e910"
      },
      "outputs": [
        {
          "output_type": "execute_result",
          "data": {
            "text/plain": [
              "<matplotlib.image.AxesImage at 0x7f4bdd5a3f90>"
            ]
          },
          "metadata": {},
          "execution_count": 27
        },
        {
          "output_type": "display_data",
          "data": {
            "text/plain": [
              "<Figure size 432x288 with 1 Axes>"
            ],
            "image/png": "[encoded data removed]"
          },
          "metadata": {
            "needs_background": "light"
          }
        }
      ],
      "source": [
        "randIdx =    # 10,000개의 테스트 이미지 중 하나를 선택\n",
        "plt.imshow()"
      ]
    },
    {
      "cell_type": "code",
      "execution_count": null,
      "metadata": {
        "id": "FSj25JdABuMW"
      },
      "outputs": [],
      "source": [
        "# 2차원 데이터를 3차원으로 수정 필요 error 발생\n",
        "y_hat ="
      ]
    },
    {
      "cell_type": "code",
      "execution_count": null,
      "metadata": {
        "colab": {
          "base_uri": "https://localhost:8080/"
        },
        "id": "eVJYZ438Dc6R",
        "outputId": "e18f16f9-1793-4fbe-cca4-2326dd204119"
      },
      "outputs": [
        {
          "output_type": "stream",
          "name": "stdout",
          "text": [
            "[[1.5661410e-04 7.8914363e-06 9.9851249e-04 2.1486232e-04 4.4300081e-04\n",
            "  4.5098430e-03 9.9316144e-01 7.8407773e-08 4.8629346e-04 2.1400514e-05]]\n",
            "손글씨 판정:  6\n"
          ]
        }
      ],
      "source": [
        "# 각각의 레이블과 일치하는 정도를 0에서 1 사이의 확률값으로 출력\n",
        "# 2차원 데이터를 3차원으로 수정 필요\n",
        "y_hat =\n",
        "print(y_hat)\n",
        "print(\"손글씨 판정: \", )"
      ]
    },
    {
      "cell_type": "markdown",
      "metadata": {
        "id": "EkECus13iVEb"
      },
      "source": [
        "### 1-8. 본인의 손글씨로 테스트 하기"
      ]
    },
    {
      "cell_type": "markdown",
      "metadata": {
        "id": "lerGhIpJ21is"
      },
      "source": [
        "#### (1) 손글씨파일 업로드"
      ]
    },
    {
      "cell_type": "code",
      "execution_count": null,
      "metadata": {
        "colab": {
          "base_uri": "https://localhost:8080/",
          "height": 287
        },
        "id": "b9IzeLWHMgob",
        "outputId": "3429d1a6-9838-45ec-d1d6-4a2db7d7ff9a"
      },
      "outputs": [
        {
          "output_type": "execute_result",
          "data": {
            "text/plain": [
              "<matplotlib.image.AxesImage at 0x7f4bda8fdf10>"
            ]
          },
          "metadata": {},
          "execution_count": 50
        },
        {
          "output_type": "display_data",
          "data": {
            "text/plain": [
              "<Figure size 432x288 with 1 Axes>"
            ],
            "image/png": "[encoded data removed]"
          },
          "metadata": {
            "needs_background": "light"
          }
        }
      ],
      "source": [
        "import matplotlib.image as mpimg\n",
        "import matplotlib.pyplot as plt\n",
        "\n",
        "img = mpimg.imread()\n",
        "plt.imshow(img, cmap='Greys')"
      ]
    },
    {
      "cell_type": "code",
      "execution_count": null,
      "metadata": {
        "colab": {
          "base_uri": "https://localhost:8080/",
          "height": 283
        },
        "id": "7De0A4ADMp3y",
        "outputId": "1fcc556f-8a73-40d0-b6af-48c793b63793"
      },
      "outputs": [
        {
          "output_type": "execute_result",
          "data": {
            "text/plain": [
              "<matplotlib.image.AxesImage at 0x7f4bda9a0910>"
            ]
          },
          "metadata": {},
          "execution_count": 51
        },
        {
          "output_type": "display_data",
          "data": {
            "text/plain": [
              "<Figure size 432x288 with 1 Axes>"
            ],
            "image/png": "[encoded data removed]"
          },
          "metadata": {
            "needs_background": "light"
          }
        }
      ],
      "source": [
        "# 이미지의 사이즈를 28X28로 맞춰주기 위해서 사용함\n",
        "import cv2\n",
        "img = cv2.imread()\n",
        "img = cv2.resize( )\n",
        "plt.imshow()"
      ]
    },
    {
      "cell_type": "markdown",
      "metadata": {
        "id": "575eoMB826hA"
      },
      "source": [
        "#### (2) 분류예측 실행"
      ]
    },
    {
      "cell_type": "code",
      "execution_count": null,
      "metadata": {
        "colab": {
          "base_uri": "https://localhost:8080/"
        },
        "id": "-kQ5tINVMyY5",
        "outputId": "3a5d65c5-c7af-45d7-c05e-223f998a531b"
      },
      "outputs": [
        {
          "output_type": "stream",
          "name": "stdout",
          "text": [
            "[[0. 0. 0. 1. 0. 0. 0. 0. 0. 0.]]\n",
            "손글씨 판정:  3\n"
          ]
        }
      ],
      "source": [
        "y_hat =\n",
        "print(y_hat)\n",
        "print(\"손글씨 판정: \", )"
      ]
    },
    {
      "cell_type": "markdown",
      "metadata": {
        "id": "5GWZM2wWidg3"
      },
      "source": [
        "#### !! 데이터의 전처리는 매우 중요하다"
      ]
    },
    {
      "cell_type": "code",
      "execution_count": null,
      "metadata": {
        "colab": {
          "base_uri": "https://localhost:8080/"
        },
        "id": "T9wFdlGT3XZX",
        "outputId": "7500ea2e-795e-459a-a399-387a7657b799"
      },
      "outputs": [
        {
          "output_type": "stream",
          "name": "stdout",
          "text": [
            " 255 255 255 255 255 255 255 255 255 255 255 255 255 255 255 255 255 255 255 255 255 255 255 255 255 255 255 255\n",
            " 255 255 255 255 255 255 255 255 255 255 255 255 255 255 255 255 255 255 255 255 255 255 255 255 255 255 255 255\n",
            " 255 255 255 255 255 255 255 255 255 255 255 255 255 255 255 255 255 255 255 255 255 255 255 255 255 255 255 255\n",
            " 255 255 255 255 255 255 255 255 208 131 131 131 131 131 131 255 255 255 255 255 255 255 255 255 255 255 255 255\n",
            " 255 255 255 255 255 255 131 131 131 131 131 131 131 131 131 131 255 255 255 255 255 255 255 255 255 255 255 255\n",
            " 255 255 255 255 255 131 131 131 131 131 186 255 255 255 131 131 131 255 255 255 255 255 255 255 255 255 255 255\n",
            " 255 255 255 255 255 131 131 255 255 255 255 255 255 255 255 131 132 255 255 255 255 255 255 255 255 255 255 255\n",
            " 255 255 255 255 255 255 255 255 255 255 255 255 255 255 225 131 131 255 255 255 255 255 255 255 255 255 255 255\n",
            " 255 255 255 255 255 255 255 255 255 255 255 255 255 131 131 131 131 255 255 255 255 255 255 255 255 255 255 255\n",
            " 255 255 255 255 255 255 255 255 255 255 105 105 105 116 131 131 255 255 255 255 255 255 255 255 255 255 255 255\n",
            " 255 255 255 255 255 255 255 255 255 255 105 105 105 105 119 131 131 255 255 255 255 255 255 255 255 255 255 255\n",
            " 255 255 255 255 255 255 255 255 255 255 105 122 131 131 131 131 131 131 138 255 255 255 255 255 255 255 255 255\n",
            " 255 255 255 255 255 255 255 255 255 255 255 255 255 255 255 255 131 131 131 131 255 255 255 255 255 255 255 255\n",
            " 255 255 255 255 255 255 255 255 255 255 255 255 255 255 255 255 255 131 131 131 131 255 255 255 255 255 255 255\n",
            " 255 255 255 255 255 255 255 255 255 255 255 255 255 255 255 255 255 255 239 131 131 254 255 255 255 255 255 255\n",
            " 255 255 255 255 255 255 255 255 255 255 255 255 255 255 255 255 255 255 255 131 132 131 255 255 255 255 255 255\n",
            " 255 255 255 255 255 255 255 255 255 255 255 255 255 255 255 255 255 255 255 255 131 131 255 255 255 255 255 255\n",
            " 255 255 255 255 255 255 255 255 255 255 255 255 255 255 255 255 255 255 255 255 132 131 255 255 255 255 255 255\n",
            " 255 255 255 255 255 131 131 255 255 255 255 255 255 255 255 255 255 255 255 255 131 131 255 255 255 255 255 255\n",
            " 255 255 255 255 255 131 131 255 255 255 255 255 255 255 255 255 255 255 255 255 131 131 255 255 255 255 255 255\n",
            " 255 255 255 255 255 131 131 255 255 255 255 255 255 255 255 255 255 255 255 131 131 131 255 255 255 255 255 255\n",
            " 255 255 255 255 255 131 131 131 131 255 255 255 255 255 255 255 255 131 131 131 131 255 255 255 255 255 255 255\n",
            " 255 255 255 255 255 242 131 131 131 131 131 131 131 131 131 131 131 131 131 131 255 255 255 255 255 255 255 255\n",
            " 255 255 255 255 255 255 255 131 131 131 131 131 131 131 131 131 131 131 142 255 255 255 255 255 255 255 255 255\n",
            " 255 255 255 255 255 255 255 255 255 255 255 255 255 255 255 255 255 255 255 255 255 255 255 255 255 255 255 255\n",
            " 255 255 255 255 255 255 255 255 255 255 255 255 255 255 255 255 255 255 255 255 255 255 255 255 255 255 255 255\n",
            " 255 255 255 255 255 255 255 255 255 255 255 255 255 255 255 255 255 255 255 255 255 255 255 255 255 255 255 255\n",
            " 255 255 255 255 255 255 255 255 255 255 255 255 255 255 255 255 255 255 255 255 255 255 255 255 255 255 255 255\n"
          ]
        }
      ],
      "source": [
        "for i in range(28):\n",
        "    for j in range(28):\n",
        "\n",
        "    print()"
      ]
    },
    {
      "cell_type": "code",
      "execution_count": null,
      "metadata": {
        "id": "tO8IG2hi3DBp"
      },
      "outputs": [],
      "source": [
        "# 이미지의 색상을 반전시키고 0에서 1사이의 실수로 만들자\n",
        "img ="
      ]
    },
    {
      "cell_type": "code",
      "execution_count": null,
      "metadata": {
        "colab": {
          "base_uri": "https://localhost:8080/",
          "height": 283
        },
        "id": "YcajoiihWk2O",
        "outputId": "4650d9b7-0309-439a-b613-f5b5bd1b0d89"
      },
      "outputs": [
        {
          "output_type": "execute_result",
          "data": {
            "text/plain": [
              "<matplotlib.image.AxesImage at 0x7f4bda89df90>"
            ]
          },
          "metadata": {},
          "execution_count": 55
        },
        {
          "output_type": "display_data",
          "data": {
            "text/plain": [
              "<Figure size 432x288 with 1 Axes>"
            ],
            "image/png": "[encoded data removed]"
          },
          "metadata": {
            "needs_background": "light"
          }
        }
      ],
      "source": [
        "plt.imshow(img, cmap='Greys')"
      ]
    },
    {
      "cell_type": "markdown",
      "metadata": {
        "id": "ExS0aNNh4G3I"
      },
      "source": [
        "#### (3) 전처리 후 분류예측 실행"
      ]
    },
    {
      "cell_type": "code",
      "execution_count": null,
      "metadata": {
        "colab": {
          "base_uri": "https://localhost:8080/"
        },
        "id": "npD36XqOVgfD",
        "outputId": "dbb33907-b927-4f2d-c15f-4677663f31b8"
      },
      "outputs": [
        {
          "output_type": "stream",
          "name": "stdout",
          "text": [
            "[[0. 0. 0. 1. 0. 0. 0. 0. 0. 0.]]\n",
            "손글씨 판정:  3\n"
          ]
        }
      ],
      "source": [
        "y_hat =\n",
        "print(y_hat)\n",
        "print(\"손글씨 판정: \",)"
      ]
    }
  ]
}
