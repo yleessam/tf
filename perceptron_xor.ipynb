{
  "nbformat": 4,
  "nbformat_minor": 0,
  "metadata": {
    "colab": {
      "provenance": [],
      "include_colab_link": true
    },
    "kernelspec": {
      "name": "python3",
      "display_name": "Python 3"
    },
    "language_info": {
      "name": "python"
    }
  },
  "cells": [
    {
      "cell_type": "markdown",
      "metadata": {
        "id": "view-in-github",
        "colab_type": "text"
      },
      "source": [
        "<a href=\"https://colab.research.google.com/github/yleessam/tf/blob/main/perceptron_xor.ipynb\" target=\"_parent\"><img src=\"https://colab.research.google.com/assets/colab-badge.svg\" alt=\"Open In Colab\"/></a>"
      ]
    },
    {
      "cell_type": "markdown",
      "source": [
        "# numpy 임포트 하기"
      ],
      "metadata": {
        "id": "gZA7EgrTbkB7"
      }
    },
    {
      "cell_type": "code",
      "execution_count": null,
      "metadata": {
        "id": "Uzm-yM1FpABS"
      },
      "outputs": [],
      "source": [
        "import numpy as np"
      ]
    },
    {
      "cell_type": "markdown",
      "source": [
        "# 퍼셉트론 클래스"
      ],
      "metadata": {
        "id": "5pTaSTJWpGpm"
      }
    },
    {
      "cell_type": "code",
      "source": [
        "class Perceptron:\n",
        "    def __init__(self, N, alpha):\n",
        "        # 가중치 초기화: N개의 입력과 1개의 바이어스를 위한 N+1 크기의 가중치 배열 생성.\n",
        "        # np.random.randn은 표준 정규 분포를 사용해 난수를 생성.\n",
        "        # np.sqrt(N)으로 나누어 초기 가중치를 정규화함.\n",
        "        self.W = np.random.randn(N+1)/np.sqrt(N)\n",
        "        # 학습률(learning rate) alpha 초기화\n",
        "        self.alpha = alpha\n",
        "        print(\"Perceptron class created\")\n",
        "\n",
        "    def step(self, x):# 활성화 함수 계단 함수(step function)\n",
        "        if x > 0:\n",
        "            return 1\n",
        "        else:\n",
        "            return 0\n",
        "\n",
        "    def fit(self, X, y, epochs = 10):\n",
        "        # X 데이터에 바이어스 항목을 추가. np.ones로 1로 채워진 열을 X에 추가함.\n",
        "        X = np.c_[X, np.ones(X.shape[0])]\n",
        "        # 지정된 에포크 수만큼 반복 학습.\n",
        "        for epoch in range(epochs):\n",
        "            for (x, target) in zip(X, y):\n",
        "                p = self.step(np.dot(x, self.W))\n",
        "                if p != target:\n",
        "                    error = p - target  # wi(t +1) = wi(t) +α(dj −yj)xj,i\n",
        "                    self.W += -self.alpha*error*x\n",
        "\n",
        "    def predict(self, X): # X = [0 1] e.g.\n",
        "        # X를 최소 2차원 배열로 변환.\n",
        "        X = np.atleast_2d(X)\n",
        "        # X에 바이어스 항목 추가.\n",
        "        X = np.c_[X, np.ones(1)]\n",
        "        p = self.step(np.dot(X, self.W))\n",
        "        print(p)\n",
        "        print('------------------')"
      ],
      "metadata": {
        "id": "zsS1vQhspDQS"
      },
      "execution_count": null,
      "outputs": []
    },
    {
      "cell_type": "markdown",
      "source": [
        "# 퍼셉트론 클래스 객체 만들기"
      ],
      "metadata": {
        "id": "hLEsJjxMpL8a"
      }
    },
    {
      "cell_type": "code",
      "source": [
        "per = Perceptron(2, 0.5)"
      ],
      "metadata": {
        "id": "nOFr52MipJZ7",
        "colab": {
          "base_uri": "https://localhost:8080/"
        },
        "outputId": "53659174-ba8b-44ae-8c21-bcbb7e939ff7"
      },
      "execution_count": null,
      "outputs": [
        {
          "output_type": "stream",
          "name": "stdout",
          "text": [
            "Perceptron class created\n"
          ]
        }
      ]
    },
    {
      "cell_type": "markdown",
      "source": [
        "# 퍼셉트론 트레이닝 하기"
      ],
      "metadata": {
        "id": "N5NS9aXhbbEh"
      }
    },
    {
      "cell_type": "code",
      "source": [
        "X =  np.array([[0, 0], [0, 1], [1, 0], [1, 1]])\n",
        "Y = np.array([[0], [1], [1], [0]])\n",
        "per.fit(X, Y) # self.W - perceptron"
      ],
      "metadata": {
        "id": "9r8tP5EFpUm5"
      },
      "execution_count": null,
      "outputs": []
    },
    {
      "cell_type": "markdown",
      "source": [
        "# 예측하기"
      ],
      "metadata": {
        "id": "I77IFfFGHWhg"
      }
    },
    {
      "cell_type": "markdown",
      "source": [
        "XOR논리: False XOR False"
      ],
      "metadata": {
        "id": "k9A52vDib2L1"
      }
    },
    {
      "cell_type": "code",
      "source": [
        "x = np.array([0,0])\n",
        "per.predict(x)"
      ],
      "metadata": {
        "colab": {
          "base_uri": "https://localhost:8080/"
        },
        "id": "5cRUEfCrpV-m",
        "outputId": "907dc620-b86d-44d6-f027-70f75976adcc"
      },
      "execution_count": null,
      "outputs": [
        {
          "output_type": "stream",
          "name": "stdout",
          "text": [
            "1\n",
            "------------------\n"
          ]
        }
      ]
    },
    {
      "cell_type": "markdown",
      "source": [
        "XOR논리: True XOR False"
      ],
      "metadata": {
        "id": "vclrYeZ7cAV9"
      }
    },
    {
      "cell_type": "code",
      "source": [
        "x = np.array([1,0])\n",
        "per.predict(x)"
      ],
      "metadata": {
        "colab": {
          "base_uri": "https://localhost:8080/"
        },
        "id": "RUPjeVG1pZRh",
        "outputId": "cb8cecd3-6759-4dc4-be9f-1f5dc3d83f2c"
      },
      "execution_count": null,
      "outputs": [
        {
          "output_type": "stream",
          "name": "stdout",
          "text": [
            "0\n",
            "------------------\n"
          ]
        }
      ]
    },
    {
      "cell_type": "markdown",
      "source": [
        "XOR논리: False XOR True"
      ],
      "metadata": {
        "id": "cF9Aqcv6cFOw"
      }
    },
    {
      "cell_type": "code",
      "source": [
        "x = np.array([0,1])\n",
        "per.predict(x)"
      ],
      "metadata": {
        "colab": {
          "base_uri": "https://localhost:8080/"
        },
        "id": "oSCjx2AcpbDX",
        "outputId": "9261f633-2ed7-4d90-b4df-cee03c8260bb"
      },
      "execution_count": null,
      "outputs": [
        {
          "output_type": "stream",
          "name": "stdout",
          "text": [
            "0\n",
            "------------------\n"
          ]
        }
      ]
    },
    {
      "cell_type": "markdown",
      "source": [
        "XOR논리: True XOR True"
      ],
      "metadata": {
        "id": "EBmQJuBxcI4s"
      }
    },
    {
      "cell_type": "code",
      "source": [
        "x = np.array([1,1])\n",
        "per.predict(x)\n"
      ],
      "metadata": {
        "colab": {
          "base_uri": "https://localhost:8080/"
        },
        "id": "oq189GgjpbyV",
        "outputId": "a3bd6de4-e0ff-47b3-cf76-3f03ac1f8c3d"
      },
      "execution_count": null,
      "outputs": [
        {
          "output_type": "stream",
          "name": "stdout",
          "text": [
            "0\n",
            "------------------\n"
          ]
        }
      ]
    }
  ]
}