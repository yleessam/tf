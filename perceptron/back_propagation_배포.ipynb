{
  "nbformat": 4,
  "nbformat_minor": 0,
  "metadata": {
    "colab": {
      "provenance": [],
      "include_colab_link": true
    },
    "kernelspec": {
      "name": "python3",
      "display_name": "Python 3"
    },
    "language_info": {
      "name": "python"
    }
  },
  "cells": [
    {
      "cell_type": "markdown",
      "metadata": {
        "id": "view-in-github",
        "colab_type": "text"
      },
      "source": [
        "<a href=\"https://colab.research.google.com/github/yleessam/tf/blob/main/back_propagation_%EB%B0%B0%ED%8F%AC.ipynb\" target=\"_parent\"><img src=\"https://colab.research.google.com/assets/colab-badge.svg\" alt=\"Open In Colab\"/></a>"
      ]
    },
    {
      "cell_type": "markdown",
      "source": [
        "# 단일노드 퍼셉트론\n",
        "\n",
        "백프로퍼게이션 클래스 추가"
      ],
      "metadata": {
        "id": "GWkZDOl9hy3d"
      }
    },
    {
      "cell_type": "code",
      "execution_count": null,
      "metadata": {
        "id": "q1wwtlSjhmSy"
      },
      "outputs": [],
      "source": [
        "class Neuron:\n",
        "    def __init__(self, w, b):\n",
        "        # 생성자에서는 가중치(w)와 바이어스(b)를 초기화합니다.\n",
        "\n",
        "\n",
        "    # 순전파\n",
        "    def feedForward(self, input):\n",
        "\n",
        "\n",
        "    # 활성화 함수를 정의하는 메서드입니다.\n",
        "    # 현재는 선형 활성화 함수(즉, 입력을 그대로 출력)를 사용합니다.\n",
        "    def getActivation(self, x):\n",
        "        pass\n",
        "\n",
        "    # 활성화 함수의 그래디언트(미분값)를 반환하는 메서드입니다.\n",
        "    # 현재는 선형 활성화 함수의 그래디언트(항상 1)를 반환합니다.\n",
        "    def getActGrad(self, x):\n",
        "        pass\n",
        "\n",
        "    # 역전파 메서드: 출력과 타겟 값 사이의 오차를 바탕으로 가중치와 바이어스를 업데이트합니다.\n",
        "    def propBackward(self, target):\n",
        "        pass\n"
      ]
    },
    {
      "cell_type": "markdown",
      "source": [
        "백프로퍼게이션 객체 생성. 계수 W 2.0 바이어스 b 1.0"
      ],
      "metadata": {
        "id": "qrX5JXKXh_jA"
      }
    },
    {
      "cell_type": "code",
      "source": [
        "neuron ="
      ],
      "metadata": {
        "id": "vLg_MApMh7Gz"
      },
      "execution_count": null,
      "outputs": []
    },
    {
      "cell_type": "markdown",
      "source": [
        "백프로퍼게이션 진행"
      ],
      "metadata": {
        "id": "81atyjhriUgz"
      }
    },
    {
      "cell_type": "code",
      "source": [
        "# 100번의 반복 학습(epoch)을 수행합니다.\n",
        "for unused in range(1, 100):\n",
        "    pass\n"
      ],
      "metadata": {
        "id": "K5mowuDuiHuy"
      },
      "execution_count": null,
      "outputs": []
    }
  ]
}
