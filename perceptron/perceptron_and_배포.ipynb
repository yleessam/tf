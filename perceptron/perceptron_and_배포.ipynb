{
  "nbformat": 4,
  "nbformat_minor": 0,
  "metadata": {
    "colab": {
      "provenance": [],
      "include_colab_link": true
    },
    "kernelspec": {
      "name": "python3",
      "display_name": "Python 3"
    },
    "language_info": {
      "name": "python"
    }
  },
  "cells": [
    {
      "cell_type": "markdown",
      "metadata": {
        "id": "view-in-github",
        "colab_type": "text"
      },
      "source": [
        "<a href=\"https://colab.research.google.com/github/yleessam/tf/blob/main/perceptron_and_%EB%B0%B0%ED%8F%AC.ipynb\" target=\"_parent\"><img src=\"https://colab.research.google.com/assets/colab-badge.svg\" alt=\"Open In Colab\"/></a>"
      ]
    },
    {
      "cell_type": "markdown",
      "source": [
        "# numpy 임포트 하기"
      ],
      "metadata": {
        "id": "fzMNt061h6Qe"
      }
    },
    {
      "cell_type": "code",
      "execution_count": null,
      "metadata": {
        "id": "4gGz_oUfhnoE"
      },
      "outputs": [],
      "source": [
        "import numpy as np"
      ]
    },
    {
      "cell_type": "markdown",
      "source": [
        "## NumPy 란?\n",
        "\n",
        "[Numpy](https://numpy.org/)\n",
        "- “Numerical Python”의 줄임 말로 수치계산을 쉽고 빠르게 다루는 파이썬 라이브러리\n",
        "- 행렬과 벡터 연산을 위한 사실상의 표준 라이브러리\n",
        "- 고성능 다차원 배열(ndarray) 객체와 이러한 배열들과 함께 작동하는 도구들을 제공\n",
        "\n",
        "- Numpy의 장점은 빠른 처리 속도와  정교한 Broadcasting\n",
        "  - C로 작성\n",
        "  - 리스트와 메모리 저장구조 다름 - 연속된 메모리에 저장\n",
        "  - 반복문을 사용하지 않고 배열로 바로 계산\n",
        "- 선형대수, 난수 생성, 푸리에 변환 기능 지원\n",
        "- 머신러닝에서 이미지,영상, 텍스트, 소리등의 모든 데이터는 실수형태의 배열로 표현, 머신러닝을 위한 데이터 처리의 핵심 도구  \n",
        "* C/C++및 포트란 등 다른 프로그래밍 언어로 쉽게 변환"
      ],
      "metadata": {
        "id": "j8hKcdSxe2OE"
      }
    },
    {
      "cell_type": "code",
      "source": [
        "## X.shape 배열의 차원을 (m,n) 튜플로 표시\n",
        "## np.ones 배열을 모두 1로 초기화\n",
        "## np.c_ 두 배열을 가로 방향(왼쪽에서 오른쪽으로)으로 합치기\n",
        "# X.shape 예제\n",
        "\n",
        "\n",
        "# np.ones 예제\n",
        "\n",
        "# np.c_ 예제\n"
      ],
      "metadata": {
        "colab": {
          "base_uri": "https://localhost:8080/"
        },
        "id": "Sra5Z3-ayFqG",
        "outputId": "201ddb76-bb07-402e-84fb-c90fb30ae57e"
      },
      "execution_count": null,
      "outputs": [
        {
          "output_type": "stream",
          "name": "stdout",
          "text": [
            "X.shape: (3, 2)\n",
            "X.shape[0]: 3\n",
            "ones_array:\n",
            " [[1. 1. 1.]\n",
            " [1. 1. 1.]]\n",
            "combined_array:\n",
            " [[1 4]\n",
            " [2 5]\n",
            " [3 6]]\n"
          ]
        }
      ]
    },
    {
      "cell_type": "markdown",
      "source": [
        "# 퍼셉트론 클래스"
      ],
      "metadata": {
        "id": "iW6Xb-pZiE6F"
      }
    },
    {
      "cell_type": "code",
      "source": [
        "class Perceptron:\n",
        "    def __init__(self, N, alpha):# 생성자\n",
        "        # 가중치 초기화: N개의 입력과 1개의 바이어스를 위한 N+1 크기의 가중치 배열 생성.\n",
        "\n",
        "\n",
        "        # 학습률(learning rate) alpha 초기화\n",
        "\n",
        "        print(\"Perceptron class created\")\n",
        "\n",
        "    def step(self, x):  # 활성화 함수 계단 함수(step function)\n",
        "\n",
        "\n",
        "    def fit(self, X, y, epochs = 10):\n",
        "        # X 데이터에 바이어스 항목을 추가. np.ones로 1로 채워진 열을 X에 추가함.\n",
        "\n",
        "\n",
        "        # 지정된 에포크 수만큼 반복 학습.\n",
        "\n",
        "\n",
        "    def predict(self, X):  # 예측 메서드\n",
        "        # X를 최소 2차원 배열로 변환.\n",
        "\n",
        "        # X에 바이어스 항목 추가.\n",
        "\n",
        "        # 예측을 수행. 가중치와 입력값의 점곱을 계산 후 활성화 함수 적용.\n",
        "\n",
        "        print('------------------')\n",
        "\n"
      ],
      "metadata": {
        "id": "IC_gF_cYh81_"
      },
      "execution_count": null,
      "outputs": []
    },
    {
      "cell_type": "markdown",
      "source": [
        "가중치 업데이트 (Weight Update):\n",
        "\n",
        "self.W += -self.alpha * error * x: 이 계산된 값을 현재 가중치 self.W에 더하여 가중치를 업데이트합니다.    \n",
        " 음(-) 기호는 오류의 방향을 반대로 하여 가중치를 조정하는 데 사용됩니다.    \n",
        "즉, 오류가 양수면 가중치를 줄이고, 오류가 음수면 가중치를 늘립니다.\n"
      ],
      "metadata": {
        "id": "yPF5aPbdaC3M"
      }
    },
    {
      "cell_type": "markdown",
      "source": [
        "# 퍼셉트론 클래스 객체 만들기"
      ],
      "metadata": {
        "id": "xAqLFQurZ_MQ"
      }
    },
    {
      "cell_type": "code",
      "source": [
        "per ="
      ],
      "metadata": {
        "id": "A6GkdYcViv4V",
        "colab": {
          "base_uri": "https://localhost:8080/"
        },
        "outputId": "dfd795c6-6e80-4d09-f226-47224bccfa08"
      },
      "execution_count": null,
      "outputs": [
        {
          "output_type": "stream",
          "name": "stdout",
          "text": [
            "Perceptron class created\n"
          ]
        }
      ]
    },
    {
      "cell_type": "markdown",
      "source": [
        "alpha가 0.9로 설정된 이유:\n",
        "\n",
        "alpha는 학습률을 의미하며, 가중치를 얼마나 큰 단계로 조정할지 결정합니다."
      ],
      "metadata": {
        "id": "6LRpbZSCF-hm"
      }
    },
    {
      "cell_type": "markdown",
      "source": [
        "# 퍼셉트론 학습(트레이닝) 하기"
      ],
      "metadata": {
        "id": "bQ8-wfBUizGl"
      }
    },
    {
      "cell_type": "code",
      "source": [
        "X =\n",
        "Y =\n",
        "per."
      ],
      "metadata": {
        "id": "PrP1OJa8Ztz9"
      },
      "execution_count": null,
      "outputs": []
    },
    {
      "cell_type": "markdown",
      "source": [
        "# 예측하기"
      ],
      "metadata": {
        "id": "HeJ_KeQbAzx8"
      }
    },
    {
      "cell_type": "markdown",
      "source": [
        "AND 논리: False AND False"
      ],
      "metadata": {
        "id": "GaB8cNsUY99Z"
      }
    },
    {
      "cell_type": "code",
      "source": [
        "x =\n"
      ],
      "metadata": {
        "id": "OzfzzhK-jDSE",
        "colab": {
          "base_uri": "https://localhost:8080/"
        },
        "outputId": "9bebf12a-fb67-41a8-bb71-621c4f9ec477"
      },
      "execution_count": null,
      "outputs": [
        {
          "output_type": "stream",
          "name": "stdout",
          "text": [
            "0\n",
            "------------------\n"
          ]
        }
      ]
    },
    {
      "cell_type": "markdown",
      "source": [
        "AND 논리: True AND False"
      ],
      "metadata": {
        "id": "JfW9HAm9ZG0G"
      }
    },
    {
      "cell_type": "code",
      "source": [
        "x =\n"
      ],
      "metadata": {
        "id": "gGR85Ee2jGNB",
        "colab": {
          "base_uri": "https://localhost:8080/"
        },
        "outputId": "477f3ea3-2fd5-4ab0-c0d7-0d405f7ccf41"
      },
      "execution_count": null,
      "outputs": [
        {
          "output_type": "stream",
          "name": "stdout",
          "text": [
            "0\n",
            "------------------\n"
          ]
        }
      ]
    },
    {
      "cell_type": "markdown",
      "source": [
        "AND 논리: False AND True"
      ],
      "metadata": {
        "id": "AGOcCI17ZTau"
      }
    },
    {
      "cell_type": "code",
      "source": [
        "x =\n"
      ],
      "metadata": {
        "id": "Um2z5w5ijIqN",
        "colab": {
          "base_uri": "https://localhost:8080/"
        },
        "outputId": "29319c04-00e9-4545-ce83-5f3911b2dd43"
      },
      "execution_count": null,
      "outputs": [
        {
          "output_type": "stream",
          "name": "stdout",
          "text": [
            "0\n",
            "------------------\n"
          ]
        }
      ]
    },
    {
      "cell_type": "markdown",
      "source": [
        "AND 논리: True AND True"
      ],
      "metadata": {
        "id": "lKmS2d42Za4h"
      }
    },
    {
      "cell_type": "code",
      "source": [
        "x =\n",
        "\n"
      ],
      "metadata": {
        "id": "-RwICq6LjMlr",
        "colab": {
          "base_uri": "https://localhost:8080/"
        },
        "outputId": "df733695-d897-46f2-8a05-819e7aa54e76"
      },
      "execution_count": null,
      "outputs": [
        {
          "output_type": "stream",
          "name": "stdout",
          "text": [
            "1\n",
            "------------------\n"
          ]
        }
      ]
    }
  ]
}
