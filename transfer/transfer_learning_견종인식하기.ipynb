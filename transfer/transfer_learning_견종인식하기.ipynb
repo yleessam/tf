{
  "cells": [
    {
      "cell_type": "markdown",
      "metadata": {
        "id": "view-in-github",
        "colab_type": "text"
      },
      "source": [
        "<a href=\"https://colab.research.google.com/github/yleessam/tf/blob/main/transfer/transfer_learning_%EA%B2%AC%EC%A2%85%EC%9D%B8%EC%8B%9D%ED%95%98%EA%B8%B0.ipynb\" target=\"_parent\"><img src=\"https://colab.research.google.com/assets/colab-badge.svg\" alt=\"Open In Colab\"/></a>"
      ]
    },
    {
      "cell_type": "markdown",
      "metadata": {
        "id": "BGWikXtQ-jZb"
      },
      "source": [
        "# 필요한 라이브러리 import"
      ]
    },
    {
      "cell_type": "code",
      "execution_count": 1,
      "metadata": {
        "id": "G2WgWRPZCH1p"
      },
      "outputs": [],
      "source": [
        "#import os\n",
        "import numpy as np\n",
        "import tensorflow as tf\n",
        "from tensorflow.keras.preprocessing.image import ImageDataGenerator\n",
        "from tensorflow.keras.applications import ResNet50\n",
        "from tensorflow.keras.applications.resnet50 import preprocess_input\n",
        "from tensorflow.keras.layers import Dense, GlobalAveragePooling2D\n",
        "from tensorflow.keras.models import Model\n",
        "from tensorflow.keras.optimizers import Adam\n"
      ]
    },
    {
      "cell_type": "markdown",
      "metadata": {
        "id": "-uzO47N9CN3L"
      },
      "source": [
        "# Stanford Dogs 데이터셋 다운로드 및 압축 해제"
      ]
    },
    {
      "cell_type": "code",
      "execution_count": 2,
      "metadata": {
        "colab": {
          "base_uri": "https://localhost:8080/"
        },
        "id": "Vl15QMLbCNQT",
        "outputId": "70af0e8b-34c1-415b-8a57-688d3060064c"
      },
      "outputs": [
        {
          "output_type": "stream",
          "name": "stdout",
          "text": [
            "--2024-02-05 19:06:35--  http://vision.stanford.edu/aditya86/ImageNetDogs/images.tar\n",
            "Resolving vision.stanford.edu (vision.stanford.edu)... 171.64.68.10\n",
            "Connecting to vision.stanford.edu (vision.stanford.edu)|171.64.68.10|:80... connected.\n",
            "HTTP request sent, awaiting response... 200 OK\n",
            "Length: 793579520 (757M) [application/x-tar]\n",
            "Saving to: ‘images.tar’\n",
            "\n",
            "images.tar          100%[===================>] 756.82M  10.9MB/s    in 77s     \n",
            "\n",
            "2024-02-05 19:07:53 (9.80 MB/s) - ‘images.tar’ saved [793579520/793579520]\n",
            "\n"
          ]
        }
      ],
      "source": [
        "!wget http://vision.stanford.edu/aditya86/ImageNetDogs/images.tar\n",
        "!tar -xf images.tar"
      ]
    },
    {
      "cell_type": "markdown",
      "metadata": {
        "id": "RYWWdmtN-yyb"
      },
      "source": [
        "# 데이터 준비"
      ]
    },
    {
      "cell_type": "markdown",
      "metadata": {
        "id": "TeciOc0Q_ABf"
      },
      "source": [
        "- Stanford Dogs 데이터셋을 학습 및 검증 데이터셋으로 나누어 줍니다.\n",
        "- Keras의 ImageDataGenerator를 사용하여 데이터를 로드하고 전처리합니다.\n"
      ]
    },
    {
      "cell_type": "code",
      "source": [
        "#훈련 데이터 증강\n",
        "\n",
        "train_datagen = ImageDataGenerator(preprocessing_function=preprocess_input,\n",
        "                                   rotation_range=20,\n",
        "                                   width_shift_range=0.2,\n",
        "                                   height_shift_range=0.2,\n",
        "                                   horizontal_flip=True,\n",
        "                                   fill_mode='nearest',\n",
        "                                   validation_split=0.2) # 검증 데이터를 위한 분할 비율\n"
      ],
      "metadata": {
        "id": "FIDNpVeXqY6o"
      },
      "execution_count": 3,
      "outputs": []
    },
    {
      "cell_type": "code",
      "source": [
        "#훈련 데이터 생성\n",
        "train_generator = train_datagen.flow_from_directory(\n",
        "    'Images', # 다운로드 및 압축 해제한 폴더\n",
        "    target_size=(224, 224),\n",
        "    batch_size=32,\n",
        "    class_mode='categorical',\n",
        "    subset='training') # 학습 데이터"
      ],
      "metadata": {
        "colab": {
          "base_uri": "https://localhost:8080/"
        },
        "id": "2OnteGwOqmlH",
        "outputId": "e2a1d83f-5ffd-4705-d3ff-34b20dca9ab3"
      },
      "execution_count": 4,
      "outputs": [
        {
          "output_type": "stream",
          "name": "stdout",
          "text": [
            "Found 16508 images belonging to 120 classes.\n"
          ]
        }
      ]
    },
    {
      "cell_type": "code",
      "execution_count": 5,
      "metadata": {
        "colab": {
          "base_uri": "https://localhost:8080/"
        },
        "id": "W-mjwTtD-47n",
        "outputId": "fa47689d-9346-4feb-fae6-068aa7c4ab65"
      },
      "outputs": [
        {
          "output_type": "stream",
          "name": "stdout",
          "text": [
            "Found 4072 images belonging to 120 classes.\n"
          ]
        }
      ],
      "source": [
        "#검증 데이터 생성\n",
        "validation_generator = train_datagen.flow_from_directory(\n",
        "    'Images', # 같은 폴더에서 검증 데이터 생성\n",
        "    target_size=(224, 224),\n",
        "    batch_size=32,\n",
        "    class_mode='categorical',\n",
        "    subset='validation') # 검증 데이터\n"
      ]
    },
    {
      "cell_type": "markdown",
      "metadata": {
        "id": "1CY1R77_DD2_"
      },
      "source": [
        "# 모델구성"
      ]
    },
    {
      "cell_type": "code",
      "source": [
        "base_model = ResNet50(weights='imagenet', include_top=False, input_shape=(224, 224, 3))"
      ],
      "metadata": {
        "colab": {
          "base_uri": "https://localhost:8080/"
        },
        "id": "UbGa_wRnq84n",
        "outputId": "358fa73f-214c-445d-c3e1-c7adb5059183"
      },
      "execution_count": 6,
      "outputs": [
        {
          "output_type": "stream",
          "name": "stdout",
          "text": [
            "Downloading data from https://storage.googleapis.com/tensorflow/keras-applications/resnet/resnet50_weights_tf_dim_ordering_tf_kernels_notop.h5\n",
            "94765736/94765736 [==============================] - 1s 0us/step\n"
          ]
        }
      ]
    },
    {
      "cell_type": "code",
      "source": [
        "\n",
        "# 기본 모델의 파라미터를 동결\n",
        "for layer in base_model.layers:\n",
        "    layer.trainable = False\n"
      ],
      "metadata": {
        "id": "O1iHC8eLrAt6"
      },
      "execution_count": 7,
      "outputs": []
    },
    {
      "cell_type": "markdown",
      "source": [
        "\n",
        "1. GlobalAveragePooling2D()는 컨볼루션 신경망(CNN)에서 사용되는 레이어 중 하나로, 특성 맵(feature map)의 글로벌 평균 값을 계산합니다. 이 레이어는 2차원 입력 맵의 각 채널에 대해 평균 값을 계산하여, 각 채널마다 단 하나의 숫자를 출력합니다. 결과적으로, 이 레이어는 2D 특성 맵을 채널별 평균값으로 축소하여 1D 벡터로 변환합니다.\n",
        "\n",
        "> 예를 들어, GlobalAveragePooling2D() 레이어가 입력으로 [height, width, channels] 형태의 특성 맵을 받으면, 각 채널의 모든 height x width 픽셀 값들의 평균을 계산하여 [channels] 형태의 벡터를 출력합니다. 이 과정은 각 채널의 공간적 정보를 단일 대표값으로 압축하여, 모델이 공간적 위치보다는 채널별 통계적 정보에 더 집중하도록 합니다.\n",
        "\n",
        "\n",
        "\n",
        "\n",
        "2. GlobalAveragePooling2D()의 주요 장점 중 하나는 모델의 파라미터 수를 크게 줄여주며, 이는 과적합(overfitting)을 줄이는 데 도움이 될 수 있습니다. 또한, 이 레이어는 입력 특성 맵의 크기에 무관하게 동작하기 때문에, 다양한 크기의 입력 이미지를 처리할 수 있는 모델을 만들 때 유용합니다.\n",
        "\n",
        "3. 이 레이어는 특히 전역적인 컨텍스트 정보를 요약하기 위해 사용되며, 분류 작업에서 마지막 컨볼루션 레이어 뒤에 배치되어 특성을 하나의 벡터로 압축하는 데 자주 사용됩니다."
      ],
      "metadata": {
        "id": "qN6jYLQBrrJL"
      }
    },
    {
      "cell_type": "code",
      "source": [
        "\n",
        "# 커스텀 레이어 추가\n",
        "x = base_model.output\n",
        "x = GlobalAveragePooling2D()(x)\n",
        "x = Dense(1024, activation='relu')(x) # 새로운 FC 레이어\n",
        "predictions = Dense(train_generator.num_classes, activation='softmax')(x) # 최종 레이어"
      ],
      "metadata": {
        "id": "6w7idsLerFH8"
      },
      "execution_count": 9,
      "outputs": []
    },
    {
      "cell_type": "code",
      "execution_count": 10,
      "metadata": {
        "id": "9xOg9mIeDISD"
      },
      "outputs": [],
      "source": [
        "# 새로운 모델 구성\n",
        "model = Model(inputs=base_model.input, outputs=predictions)\n"
      ]
    },
    {
      "cell_type": "markdown",
      "metadata": {
        "id": "YlH755BIDieD"
      },
      "source": [
        "# 모델 컴파일"
      ]
    },
    {
      "cell_type": "code",
      "execution_count": 11,
      "metadata": {
        "colab": {
          "base_uri": "https://localhost:8080/"
        },
        "id": "_2Xi2nFODlzw",
        "outputId": "36737991-da05-4923-e1e3-0a814d039f2c"
      },
      "outputs": [
        {
          "output_type": "stream",
          "name": "stderr",
          "text": [
            "WARNING:absl:`lr` is deprecated in Keras optimizer, please use `learning_rate` or use the legacy optimizer, e.g.,tf.keras.optimizers.legacy.Adam.\n"
          ]
        }
      ],
      "source": [
        "model.compile(optimizer=Adam(lr=0.0001), loss='categorical_crossentropy', metrics=['accuracy'])\n"
      ]
    },
    {
      "cell_type": "markdown",
      "metadata": {
        "id": "tMmcpjavDqWQ"
      },
      "source": [
        "# 모델 학습"
      ]
    },
    {
      "cell_type": "code",
      "execution_count": null,
      "metadata": {
        "colab": {
          "background_save": true,
          "base_uri": "https://localhost:8080/"
        },
        "id": "TtVvzQhJDslZ",
        "outputId": "57324117-159d-4fd5-b473-93250f6761d0"
      },
      "outputs": [
        {
          "output_type": "stream",
          "name": "stdout",
          "text": [
            "Epoch 1/10\n",
            " 28/515 [>.............................] - ETA: 46:46 - loss: 4.4440 - accuracy: 0.1406"
          ]
        }
      ],
      "source": [
        "history = model.fit(\n",
        "    train_generator,\n",
        "    steps_per_epoch=train_generator.samples // train_generator.batch_size,\n",
        "    validation_data=validation_generator,\n",
        "    validation_steps=validation_generator.samples // validation_generator.batch_size,\n",
        "    epochs=10)"
      ]
    },
    {
      "cell_type": "markdown",
      "metadata": {
        "id": "ZC2f8j8hDw7C"
      },
      "source": [
        "# 모델 평가"
      ]
    },
    {
      "cell_type": "code",
      "execution_count": null,
      "metadata": {
        "id": "hM5yT7v4DzB2"
      },
      "outputs": [],
      "source": [
        "# 모델 평가\n",
        "eval_result = model.evaluate(validation_generator)\n",
        "print(f'Validation loss: {eval_result[0]}, Validation accuracy: {eval_result[1]}')\n"
      ]
    }
  ],
  "metadata": {
    "colab": {
      "provenance": [],
      "include_colab_link": true
    },
    "kernelspec": {
      "display_name": "Python 3",
      "name": "python3"
    },
    "language_info": {
      "name": "python"
    }
  },
  "nbformat": 4,
  "nbformat_minor": 0
}