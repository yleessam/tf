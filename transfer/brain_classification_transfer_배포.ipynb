{
  "cells": [
    {
      "cell_type": "markdown",
      "metadata": {
        "id": "view-in-github",
        "colab_type": "text"
      },
      "source": [
        "<a href=\"https://colab.research.google.com/github/yleessam/tf/blob/main/transfer/brain_classification_transfer_%EB%B0%B0%ED%8F%AC.ipynb\" target=\"_parent\"><img src=\"https://colab.research.google.com/assets/colab-badge.svg\" alt=\"Open In Colab\"/></a>"
      ]
    },
    {
      "cell_type": "markdown",
      "metadata": {
        "id": "P0I8HGxUw97B"
      },
      "source": [
        "# 전이 학습을 통해 딥러닝의 성능 극대화하기"
      ]
    },
    {
      "cell_type": "markdown",
      "metadata": {
        "id": "J-dqKaIPw97E"
      },
      "source": [
        "## 1. 소규모 데이터셋으로 만드는 강력한 학습 모델\n",
        "\n",
        "### 이미지 증강 ImageDataGenerator\n",
        "\n",
        "1. 데이터 증강은 기존의 훈련 데이터셋을 가지고 변형을 가하여 마치 새로운 데이터셋처럼 만들어내는 기법으로, 모델의 일반화 능력을 향상시키고 과적합(overfitting)을 방지\n",
        "\n",
        "2. 회전, 크기 조절, 수평/수직 이동, 색상 변환, 플립(flip) 등 다양한 방식으로 이미지를 변형해서 신경망을 훈련시킬 때 배치 단위로 모델에 적용.\n"
      ]
    },
    {
      "cell_type": "markdown",
      "metadata": {
        "id": "HSlfKpYlw97F"
      },
      "source": [
        "### 치매 환자의 뇌인지 일반인의 뇌인지 예측하기"
      ]
    },
    {
      "cell_type": "code",
      "source": [
        "from tensorflow.keras.models import Sequential\n",
        "from tensorflow.keras.layers import Dense, Activation, Dropout, Flatten, Conv2D, MaxPooling2D\n",
        "from tensorflow.keras.preprocessing.image import ImageDataGenerator\n",
        "from tensorflow.keras.callbacks import EarlyStopping\n",
        "from tensorflow.keras import optimizers\n",
        "\n",
        "import numpy as np\n",
        "import matplotlib.pyplot as plt\n"
      ],
      "metadata": {
        "id": "CdUucUEYhjbq"
      },
      "execution_count": null,
      "outputs": []
    },
    {
      "cell_type": "code",
      "source": [
        "\n",
        "# 깃허브에 준비된 데이터를 가져옵니다.\n",
        "!git clone https://github.com/taehojo/data-ch20.git\n"
      ],
      "metadata": {
        "colab": {
          "base_uri": "https://localhost:8080/"
        },
        "id": "6iw8B1D6hpAK",
        "outputId": "dd3790f8-a01e-4cd6-cab2-db53255fd9e0"
      },
      "execution_count": null,
      "outputs": [
        {
          "output_type": "stream",
          "name": "stdout",
          "text": [
            "Cloning into 'data-ch20'...\n",
            "remote: Enumerating objects: 265, done.\u001b[K\n",
            "remote: Counting objects: 100% (265/265), done.\u001b[K\n",
            "remote: Compressing objects: 100% (265/265), done.\u001b[K\n",
            "remote: Total 265 (delta 0), reused 265 (delta 0), pack-reused 0\u001b[K\n",
            "Receiving objects: 100% (265/265), 1.86 MiB | 17.49 MiB/s, done.\n"
          ]
        }
      ]
    },
    {
      "cell_type": "markdown",
      "source": [
        "## 학습을 위한 데이터셋을 늘려줍니다."
      ],
      "metadata": {
        "id": "ef149PCYiHNx"
      }
    },
    {
      "cell_type": "code",
      "source": [
        "# 학습셋의 변형을 설정하는 부분입니다.\n",
        "train_datagen =\n"
      ],
      "metadata": {
        "id": "vq4ZZ2R6h6tZ"
      },
      "execution_count": null,
      "outputs": []
    },
    {
      "cell_type": "code",
      "source": [
        "#학습 데이터셋의 증\n",
        "train_generator = train_datagen.flow_from_directory(\n",
        "       './data-ch20/train',   # 학습셋이 있는 폴더의 위치입니다.\n",
        "\n",
        "       )\n"
      ],
      "metadata": {
        "colab": {
          "base_uri": "https://localhost:8080/"
        },
        "id": "MJcyT4mQh-JA",
        "outputId": "f5920059-3df9-422b-92a7-631e92c8fab2"
      },
      "execution_count": null,
      "outputs": [
        {
          "output_type": "stream",
          "name": "stdout",
          "text": [
            "Found 160 images belonging to 2 classes.\n"
          ]
        }
      ]
    },
    {
      "cell_type": "code",
      "source": [
        "# 테스트셋\n",
        "test_datagen =\n",
        "\n",
        "test_generator = test_datagen.flow_from_directory(\n",
        "       './data-ch20/test',   # 테스트셋이 있는 폴더의 위치입니다.\n",
        "\n",
        "\n",
        "       )\n"
      ],
      "metadata": {
        "colab": {
          "base_uri": "https://localhost:8080/"
        },
        "id": "segKEjjCiAqm",
        "outputId": "3a505bcf-a714-4fec-8ffe-60f7bf1125e9"
      },
      "execution_count": null,
      "outputs": [
        {
          "output_type": "stream",
          "name": "stdout",
          "text": [
            "Found 120 images belonging to 2 classes.\n"
          ]
        }
      ]
    },
    {
      "cell_type": "code",
      "source": [
        "# 앞서 배운 CNN 모델을 만들어 적용해 보겠습니다.\n"
      ],
      "metadata": {
        "id": "e-L2CbxjpueE"
      },
      "execution_count": null,
      "outputs": []
    },
    {
      "cell_type": "code",
      "execution_count": null,
      "metadata": {
        "id": "xP-yRE_nw97F",
        "outputId": "af9545f5-126a-424c-c3d2-13981670bea7",
        "scrolled": true,
        "colab": {
          "base_uri": "https://localhost:8080/"
        }
      },
      "outputs": [
        {
          "output_type": "stream",
          "name": "stdout",
          "text": [
            "Model: \"sequential\"\n",
            "_________________________________________________________________\n",
            " Layer (type)                Output Shape              Param #   \n",
            "=================================================================\n",
            " conv2d (Conv2D)             (None, 148, 148, 32)      896       \n",
            "                                                                 \n",
            " activation (Activation)     (None, 148, 148, 32)      0         \n",
            "                                                                 \n",
            " max_pooling2d (MaxPooling2  (None, 74, 74, 32)        0         \n",
            " D)                                                              \n",
            "                                                                 \n",
            " conv2d_1 (Conv2D)           (None, 72, 72, 32)        9248      \n",
            "                                                                 \n",
            " activation_1 (Activation)   (None, 72, 72, 32)        0         \n",
            "                                                                 \n",
            " max_pooling2d_1 (MaxPoolin  (None, 36, 36, 32)        0         \n",
            " g2D)                                                            \n",
            "                                                                 \n",
            " conv2d_2 (Conv2D)           (None, 34, 34, 64)        18496     \n",
            "                                                                 \n",
            " activation_2 (Activation)   (None, 34, 34, 64)        0         \n",
            "                                                                 \n",
            " max_pooling2d_2 (MaxPoolin  (None, 17, 17, 64)        0         \n",
            " g2D)                                                            \n",
            "                                                                 \n",
            " flatten (Flatten)           (None, 18496)             0         \n",
            "                                                                 \n",
            " dense (Dense)               (None, 64)                1183808   \n",
            "                                                                 \n",
            " activation_3 (Activation)   (None, 64)                0         \n",
            "                                                                 \n",
            " dropout (Dropout)           (None, 64)                0         \n",
            "                                                                 \n",
            " dense_1 (Dense)             (None, 1)                 65        \n",
            "                                                                 \n",
            " activation_4 (Activation)   (None, 1)                 0         \n",
            "                                                                 \n",
            "=================================================================\n",
            "Total params: 1212513 (4.63 MB)\n",
            "Trainable params: 1212513 (4.63 MB)\n",
            "Non-trainable params: 0 (0.00 Byte)\n",
            "_________________________________________________________________\n"
          ]
        }
      ],
      "source": [
        "\n",
        "\n"
      ]
    },
    {
      "cell_type": "code",
      "source": [
        "# 모델 실행의 옵션을 설정합니다.\n",
        "model.compile( )\n"
      ],
      "metadata": {
        "id": "X3oR66AUpwqp"
      },
      "execution_count": null,
      "outputs": []
    },
    {
      "cell_type": "code",
      "source": [
        "# 학습의 조기 중단을 설정합니다.\n",
        "early_stopping_callback =\n"
      ],
      "metadata": {
        "id": "l8IZTU31p0Gn"
      },
      "execution_count": null,
      "outputs": []
    },
    {
      "cell_type": "code",
      "execution_count": null,
      "metadata": {
        "id": "zK54RC2Fw97I",
        "outputId": "0f966b49-ed20-4e8a-c03a-58e1b06970a1",
        "scrolled": true,
        "colab": {
          "base_uri": "https://localhost:8080/"
        }
      },
      "outputs": [
        {
          "output_type": "stream",
          "name": "stdout",
          "text": [
            "Epoch 1/100\n",
            "32/32 [==============================] - 7s 189ms/step - loss: 0.6980 - accuracy: 0.5063 - val_loss: 0.6856 - val_accuracy: 0.7000\n",
            "Epoch 2/100\n",
            "32/32 [==============================] - 6s 175ms/step - loss: 0.6995 - accuracy: 0.4875 - val_loss: 0.6955 - val_accuracy: 0.4400\n",
            "Epoch 3/100\n",
            "32/32 [==============================] - 6s 175ms/step - loss: 0.6756 - accuracy: 0.6187 - val_loss: 0.6651 - val_accuracy: 0.6000\n",
            "Epoch 4/100\n",
            "32/32 [==============================] - 7s 212ms/step - loss: 0.6819 - accuracy: 0.5562 - val_loss: 0.6649 - val_accuracy: 0.5800\n",
            "Epoch 5/100\n",
            "32/32 [==============================] - 5s 167ms/step - loss: 0.6517 - accuracy: 0.6438 - val_loss: 0.5755 - val_accuracy: 0.7200\n",
            "Epoch 6/100\n",
            "32/32 [==============================] - 7s 211ms/step - loss: 0.5836 - accuracy: 0.7563 - val_loss: 0.5285 - val_accuracy: 0.8000\n",
            "Epoch 7/100\n",
            "32/32 [==============================] - 6s 180ms/step - loss: 0.5513 - accuracy: 0.7125 - val_loss: 0.4399 - val_accuracy: 0.8400\n",
            "Epoch 8/100\n",
            "32/32 [==============================] - 7s 211ms/step - loss: 0.6133 - accuracy: 0.6875 - val_loss: 0.5319 - val_accuracy: 0.7600\n",
            "Epoch 9/100\n",
            "32/32 [==============================] - 7s 203ms/step - loss: 0.5155 - accuracy: 0.7750 - val_loss: 0.4072 - val_accuracy: 0.8600\n",
            "Epoch 10/100\n",
            "32/32 [==============================] - 6s 175ms/step - loss: 0.4026 - accuracy: 0.8438 - val_loss: 0.3466 - val_accuracy: 0.8800\n",
            "Epoch 11/100\n",
            "32/32 [==============================] - 6s 174ms/step - loss: 0.3925 - accuracy: 0.8375 - val_loss: 0.4271 - val_accuracy: 0.8000\n",
            "Epoch 12/100\n",
            "32/32 [==============================] - 6s 171ms/step - loss: 0.3571 - accuracy: 0.8813 - val_loss: 0.2480 - val_accuracy: 0.9200\n",
            "Epoch 13/100\n",
            "32/32 [==============================] - 6s 177ms/step - loss: 0.3377 - accuracy: 0.8938 - val_loss: 0.2221 - val_accuracy: 0.9600\n",
            "Epoch 14/100\n",
            "32/32 [==============================] - 6s 185ms/step - loss: 0.2831 - accuracy: 0.9125 - val_loss: 0.1279 - val_accuracy: 1.0000\n",
            "Epoch 15/100\n",
            "32/32 [==============================] - 6s 174ms/step - loss: 0.2462 - accuracy: 0.9250 - val_loss: 0.2964 - val_accuracy: 0.8600\n",
            "Epoch 16/100\n",
            "32/32 [==============================] - 7s 197ms/step - loss: 0.1952 - accuracy: 0.9125 - val_loss: 0.1223 - val_accuracy: 0.9600\n",
            "Epoch 17/100\n",
            "32/32 [==============================] - 6s 173ms/step - loss: 0.2040 - accuracy: 0.9312 - val_loss: 0.1074 - val_accuracy: 0.9800\n",
            "Epoch 18/100\n",
            "32/32 [==============================] - 7s 207ms/step - loss: 0.1879 - accuracy: 0.9187 - val_loss: 0.1231 - val_accuracy: 0.9600\n",
            "Epoch 19/100\n",
            "32/32 [==============================] - 7s 212ms/step - loss: 0.1733 - accuracy: 0.9625 - val_loss: 0.1218 - val_accuracy: 0.9800\n",
            "Epoch 20/100\n",
            "32/32 [==============================] - 6s 174ms/step - loss: 0.1499 - accuracy: 0.9563 - val_loss: 0.2300 - val_accuracy: 0.8800\n",
            "Epoch 21/100\n",
            "32/32 [==============================] - 6s 171ms/step - loss: 0.2088 - accuracy: 0.9187 - val_loss: 0.0620 - val_accuracy: 1.0000\n",
            "Epoch 22/100\n",
            "32/32 [==============================] - 6s 174ms/step - loss: 0.1218 - accuracy: 0.9625 - val_loss: 0.1527 - val_accuracy: 0.9400\n",
            "Epoch 23/100\n",
            "32/32 [==============================] - 5s 170ms/step - loss: 0.1600 - accuracy: 0.9438 - val_loss: 0.1607 - val_accuracy: 0.9200\n",
            "Epoch 24/100\n",
            "32/32 [==============================] - 7s 223ms/step - loss: 0.1612 - accuracy: 0.9500 - val_loss: 0.1111 - val_accuracy: 0.9800\n",
            "Epoch 25/100\n",
            "32/32 [==============================] - 6s 175ms/step - loss: 0.1031 - accuracy: 0.9625 - val_loss: 0.0747 - val_accuracy: 0.9800\n",
            "Epoch 26/100\n",
            "32/32 [==============================] - 5s 164ms/step - loss: 0.1050 - accuracy: 0.9563 - val_loss: 0.0757 - val_accuracy: 0.9600\n"
          ]
        }
      ],
      "source": [
        "# 모델을 실행합니다\n",
        "history = model.fit(\n",
        "        )"
      ]
    },
    {
      "cell_type": "code",
      "source": [
        "# 검증셋과 학습셋의 오차를 저장합니다.\n",
        "y_vloss = history.history['val_loss']\n",
        "y_loss = history.history['loss']"
      ],
      "metadata": {
        "id": "7CDT5vBZp4P9"
      },
      "execution_count": null,
      "outputs": []
    },
    {
      "cell_type": "code",
      "execution_count": null,
      "metadata": {
        "id": "4-J_QCbXw97I",
        "outputId": "98cf87c3-fc72-433d-c76a-e5d3a904ebe0",
        "colab": {
          "base_uri": "https://localhost:8080/",
          "height": 449
        }
      },
      "outputs": [
        {
          "output_type": "display_data",
          "data": {
            "text/plain": [
              "<Figure size 640x480 with 1 Axes>"
            ],
            "image/png": "[encoded data removed]"
          },
          "metadata": {}
        }
      ],
      "source": [
        "# 그래프로 표현해 봅니다.\n",
        "x_len =\n",
        "\n",
        "plt.plot()\n",
        "plt.plot()\n",
        "\n",
        "# 그래프에 그리드를 주고 레이블을 표시하겠습니다.\n",
        "plt.legend(loc='upper right')\n",
        "\n",
        "plt.grid()\n",
        "plt.xlabel( )\n",
        "plt.ylabel( )\n",
        "plt.show()"
      ]
    },
    {
      "cell_type": "markdown",
      "metadata": {
        "id": "PyEFjTCww97J"
      },
      "source": [
        "## 2. 전이 학습으로 모델 성능 극대화하기"
      ]
    },
    {
      "cell_type": "markdown",
      "metadata": {
        "id": "Q0AiZr6nw97J"
      },
      "source": [
        "### 실습: 전이 학습 실습하기"
      ]
    },
    {
      "cell_type": "code",
      "source": [
        "from tensorflow.keras.preprocessing.image import ImageDataGenerator\n",
        "from tensorflow.keras import Input, models, layers, optimizers, metrics\n",
        "from tensorflow.keras.layers import Dense, Flatten, Activation, Dropout\n",
        "from tensorflow.keras.applications import VGG16\n",
        "from tensorflow.keras.callbacks import EarlyStopping\n",
        "import numpy as np\n",
        "import matplotlib.pyplot as plt"
      ],
      "metadata": {
        "id": "dgL1fywDijgQ"
      },
      "execution_count": null,
      "outputs": []
    },
    {
      "cell_type": "code",
      "source": [
        "# 학습셋의 변형을 설정하는 부분입니다.\n",
        "train_datagen =\n",
        "\n"
      ],
      "metadata": {
        "id": "Qhbsy-Y2imRc"
      },
      "execution_count": null,
      "outputs": []
    },
    {
      "cell_type": "code",
      "source": [
        "train_generator = train_datagen.flow_from_directory(\n",
        "       './data-ch20/train',\n",
        "\n",
        "       )\n"
      ],
      "metadata": {
        "id": "j3p6Ru5Ciocs",
        "colab": {
          "base_uri": "https://localhost:8080/"
        },
        "outputId": "8968d916-4d49-4f5d-86dc-200f1e3e4903"
      },
      "execution_count": null,
      "outputs": [
        {
          "output_type": "stream",
          "name": "stdout",
          "text": [
            "Found 160 images belonging to 2 classes.\n"
          ]
        }
      ]
    },
    {
      "cell_type": "code",
      "source": [
        "\n",
        "# 테스트셋의 정규화를 설정합니다.\n",
        "test_datagen =\n",
        "\n",
        "test_generator = test_datagen.flow_from_directory(\n",
        "       './data-ch20/test',\n",
        "        )"
      ],
      "metadata": {
        "id": "d4vjgo57ipu1",
        "colab": {
          "base_uri": "https://localhost:8080/"
        },
        "outputId": "0147dae1-5240-4504-d1a4-f429489ab864"
      },
      "execution_count": null,
      "outputs": [
        {
          "output_type": "stream",
          "name": "stdout",
          "text": [
            "Found 120 images belonging to 2 classes.\n"
          ]
        }
      ]
    },
    {
      "cell_type": "code",
      "source": [
        "# VGG16 모델을 불러옵니다.\n",
        "transfer_model ="
      ],
      "metadata": {
        "id": "dK5etoTlqMNW"
      },
      "execution_count": null,
      "outputs": []
    },
    {
      "cell_type": "code",
      "source": [
        "transfer_model.trainable = False\n",
        "transfer_model.summary()"
      ],
      "metadata": {
        "id": "sLjfu8abisSL",
        "colab": {
          "base_uri": "https://localhost:8080/"
        },
        "outputId": "5a874a92-a027-4eb8-83e6-9feeb3351f48"
      },
      "execution_count": null,
      "outputs": [
        {
          "output_type": "stream",
          "name": "stdout",
          "text": [
            "Downloading data from https://storage.googleapis.com/tensorflow/keras-applications/vgg16/vgg16_weights_tf_dim_ordering_tf_kernels_notop.h5\n",
            "58889256/58889256 [==============================] - 2s 0us/step\n",
            "Model: \"vgg16\"\n",
            "_________________________________________________________________\n",
            " Layer (type)                Output Shape              Param #   \n",
            "=================================================================\n",
            " input_1 (InputLayer)        [(None, 150, 150, 3)]     0         \n",
            "                                                                 \n",
            " block1_conv1 (Conv2D)       (None, 150, 150, 64)      1792      \n",
            "                                                                 \n",
            " block1_conv2 (Conv2D)       (None, 150, 150, 64)      36928     \n",
            "                                                                 \n",
            " block1_pool (MaxPooling2D)  (None, 75, 75, 64)        0         \n",
            "                                                                 \n",
            " block2_conv1 (Conv2D)       (None, 75, 75, 128)       73856     \n",
            "                                                                 \n",
            " block2_conv2 (Conv2D)       (None, 75, 75, 128)       147584    \n",
            "                                                                 \n",
            " block2_pool (MaxPooling2D)  (None, 37, 37, 128)       0         \n",
            "                                                                 \n",
            " block3_conv1 (Conv2D)       (None, 37, 37, 256)       295168    \n",
            "                                                                 \n",
            " block3_conv2 (Conv2D)       (None, 37, 37, 256)       590080    \n",
            "                                                                 \n",
            " block3_conv3 (Conv2D)       (None, 37, 37, 256)       590080    \n",
            "                                                                 \n",
            " block3_pool (MaxPooling2D)  (None, 18, 18, 256)       0         \n",
            "                                                                 \n",
            " block4_conv1 (Conv2D)       (None, 18, 18, 512)       1180160   \n",
            "                                                                 \n",
            " block4_conv2 (Conv2D)       (None, 18, 18, 512)       2359808   \n",
            "                                                                 \n",
            " block4_conv3 (Conv2D)       (None, 18, 18, 512)       2359808   \n",
            "                                                                 \n",
            " block4_pool (MaxPooling2D)  (None, 9, 9, 512)         0         \n",
            "                                                                 \n",
            " block5_conv1 (Conv2D)       (None, 9, 9, 512)         2359808   \n",
            "                                                                 \n",
            " block5_conv2 (Conv2D)       (None, 9, 9, 512)         2359808   \n",
            "                                                                 \n",
            " block5_conv3 (Conv2D)       (None, 9, 9, 512)         2359808   \n",
            "                                                                 \n",
            " block5_pool (MaxPooling2D)  (None, 4, 4, 512)         0         \n",
            "                                                                 \n",
            "=================================================================\n",
            "Total params: 14714688 (56.13 MB)\n",
            "Trainable params: 0 (0.00 Byte)\n",
            "Non-trainable params: 14714688 (56.13 MB)\n",
            "_________________________________________________________________\n"
          ]
        }
      ]
    },
    {
      "cell_type": "code",
      "source": [
        "# 모델을 설정합니다.\n",
        "finetune_model = models.Sequential()\n",
        "\n"
      ],
      "metadata": {
        "id": "BvLBr4l5qRkq"
      },
      "execution_count": null,
      "outputs": []
    },
    {
      "cell_type": "code",
      "execution_count": null,
      "metadata": {
        "id": "qKZwSZv8w97K",
        "outputId": "59a7e6fe-672d-4417-8b76-bb373207323f",
        "colab": {
          "base_uri": "https://localhost:8080/"
        }
      },
      "outputs": [
        {
          "output_type": "stream",
          "name": "stdout",
          "text": [
            "Model: \"sequential_1\"\n",
            "_________________________________________________________________\n",
            " Layer (type)                Output Shape              Param #   \n",
            "=================================================================\n",
            " vgg16 (Functional)          (None, 4, 4, 512)         14714688  \n",
            "                                                                 \n",
            " flatten_1 (Flatten)         (None, 8192)              0         \n",
            "                                                                 \n",
            " dense_2 (Dense)             (None, 64)                524352    \n",
            "                                                                 \n",
            " activation_5 (Activation)   (None, 64)                0         \n",
            "                                                                 \n",
            " dropout_1 (Dropout)         (None, 64)                0         \n",
            "                                                                 \n",
            " dense_3 (Dense)             (None, 1)                 65        \n",
            "                                                                 \n",
            " activation_6 (Activation)   (None, 1)                 0         \n",
            "                                                                 \n",
            "=================================================================\n",
            "Total params: 15239105 (58.13 MB)\n",
            "Trainable params: 524417 (2.00 MB)\n",
            "Non-trainable params: 14714688 (56.13 MB)\n",
            "_________________________________________________________________\n"
          ]
        }
      ],
      "source": [
        "\n",
        "finetune_model.summary()"
      ]
    },
    {
      "cell_type": "code",
      "source": [
        "# 모델의 실행 옵션을 설정합니다.\n",
        "finetune_model.compile( )\n"
      ],
      "metadata": {
        "id": "5V3G9KfoqWsN"
      },
      "execution_count": null,
      "outputs": []
    },
    {
      "cell_type": "code",
      "source": [
        "# 학습의 조기 중단을 설정합니다.\n",
        "early_stopping_callback =\n"
      ],
      "metadata": {
        "id": "APPexp4SqYpO"
      },
      "execution_count": null,
      "outputs": []
    },
    {
      "cell_type": "code",
      "execution_count": null,
      "metadata": {
        "id": "_jYrHsjLw97L",
        "outputId": "93e1c991-af4f-4312-8137-9200dedbe18a",
        "colab": {
          "base_uri": "https://localhost:8080/"
        }
      },
      "outputs": [
        {
          "output_type": "stream",
          "name": "stdout",
          "text": [
            "Epoch 1/20\n",
            "32/32 [==============================] - 53s 2s/step - loss: 0.7155 - accuracy: 0.5813 - val_loss: 0.5897 - val_accuracy: 0.7200\n",
            "Epoch 2/20\n",
            "32/32 [==============================] - 61s 2s/step - loss: 0.5494 - accuracy: 0.7188 - val_loss: 0.5384 - val_accuracy: 0.7200\n",
            "Epoch 3/20\n",
            "32/32 [==============================] - 60s 2s/step - loss: 0.4469 - accuracy: 0.7937 - val_loss: 0.4477 - val_accuracy: 0.8600\n",
            "Epoch 4/20\n",
            "32/32 [==============================] - 52s 2s/step - loss: 0.4409 - accuracy: 0.8250 - val_loss: 0.4016 - val_accuracy: 0.8800\n",
            "Epoch 5/20\n",
            "32/32 [==============================] - 51s 2s/step - loss: 0.3496 - accuracy: 0.9125 - val_loss: 0.3190 - val_accuracy: 0.9600\n",
            "Epoch 6/20\n",
            "32/32 [==============================] - 60s 2s/step - loss: 0.3513 - accuracy: 0.8687 - val_loss: 0.2680 - val_accuracy: 0.9400\n",
            "Epoch 7/20\n",
            "32/32 [==============================] - 60s 2s/step - loss: 0.3080 - accuracy: 0.9000 - val_loss: 0.3491 - val_accuracy: 0.8800\n",
            "Epoch 8/20\n",
            "32/32 [==============================] - 61s 2s/step - loss: 0.2875 - accuracy: 0.8938 - val_loss: 0.3152 - val_accuracy: 0.9000\n",
            "Epoch 9/20\n",
            "32/32 [==============================] - 60s 2s/step - loss: 0.2648 - accuracy: 0.9250 - val_loss: 0.2426 - val_accuracy: 0.9000\n",
            "Epoch 10/20\n",
            "32/32 [==============================] - 60s 2s/step - loss: 0.2876 - accuracy: 0.8938 - val_loss: 0.2387 - val_accuracy: 0.9600\n",
            "Epoch 11/20\n",
            "32/32 [==============================] - 60s 2s/step - loss: 0.2435 - accuracy: 0.9438 - val_loss: 0.2823 - val_accuracy: 0.9000\n",
            "Epoch 12/20\n",
            "32/32 [==============================] - 60s 2s/step - loss: 0.2610 - accuracy: 0.9000 - val_loss: 0.1688 - val_accuracy: 0.9400\n",
            "Epoch 13/20\n",
            "32/32 [==============================] - 61s 2s/step - loss: 0.2274 - accuracy: 0.9375 - val_loss: 0.1657 - val_accuracy: 0.9800\n",
            "Epoch 14/20\n",
            "32/32 [==============================] - 60s 2s/step - loss: 0.2144 - accuracy: 0.9375 - val_loss: 0.2402 - val_accuracy: 0.9200\n",
            "Epoch 15/20\n",
            "32/32 [==============================] - 60s 2s/step - loss: 0.2117 - accuracy: 0.9187 - val_loss: 0.1465 - val_accuracy: 0.9800\n",
            "Epoch 16/20\n",
            "32/32 [==============================] - 60s 2s/step - loss: 0.1992 - accuracy: 0.9500 - val_loss: 0.2109 - val_accuracy: 0.9400\n",
            "Epoch 17/20\n",
            "32/32 [==============================] - 60s 2s/step - loss: 0.1407 - accuracy: 0.9688 - val_loss: 0.2364 - val_accuracy: 0.9200\n",
            "Epoch 18/20\n",
            "32/32 [==============================] - 60s 2s/step - loss: 0.1980 - accuracy: 0.9375 - val_loss: 0.1300 - val_accuracy: 0.9800\n",
            "Epoch 19/20\n",
            "32/32 [==============================] - 51s 2s/step - loss: 0.2054 - accuracy: 0.9375 - val_loss: 0.1518 - val_accuracy: 0.9600\n",
            "Epoch 20/20\n",
            "32/32 [==============================] - 60s 2s/step - loss: 0.1719 - accuracy: 0.9500 - val_loss: 0.1395 - val_accuracy: 0.9800\n"
          ]
        }
      ],
      "source": [
        "# 모델을 실행합니다.\n",
        "history ="
      ]
    },
    {
      "cell_type": "code",
      "source": [
        "# 검증셋과 학습셋의 오차를 저장합니다.\n",
        "y_vloss =\n",
        "y_loss =\n"
      ],
      "metadata": {
        "id": "XBAKFA7-qcRj"
      },
      "execution_count": null,
      "outputs": []
    },
    {
      "cell_type": "code",
      "execution_count": null,
      "metadata": {
        "id": "awJ5ZA82w97L",
        "outputId": "1f4b568b-ce42-4e49-da3e-01e5cfc284e3"
      },
      "outputs": [
        {
          "data": {
            "image/png": "[encoded data removed]",
            "text/plain": [
              "<Figure size 432x288 with 1 Axes>"
            ]
          },
          "metadata": {
            "needs_background": "light"
          },
          "output_type": "display_data"
        }
      ],
      "source": [
        "# 그래프로 표현해 봅니다.\n",
        "x_len =\n",
        "plt.plot( )\n",
        "plt.plot( )\n",
        "\n",
        "# 그래프에 그리드를 주고 레이블을 표시하겠습니다.\n",
        "plt.legend(loc='upper right')\n",
        "plt.grid()\n",
        "plt.xlabel( )\n",
        "plt.ylabel( )\n",
        "plt.show()"
      ]
    }
  ],
  "metadata": {
    "colab": {
      "provenance": [],
      "gpuType": "T4",
      "include_colab_link": true
    },
    "kernelspec": {
      "display_name": "Python 3",
      "name": "python3"
    },
    "language_info": {
      "codemirror_mode": {
        "name": "ipython",
        "version": 3
      },
      "file_extension": ".py",
      "mimetype": "text/x-python",
      "name": "python",
      "nbconvert_exporter": "python",
      "pygments_lexer": "ipython3",
      "version": "3.9.7"
    },
    "accelerator": "GPU"
  },
  "nbformat": 4,
  "nbformat_minor": 0
}