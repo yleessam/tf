{
  "nbformat": 4,
  "nbformat_minor": 0,
  "metadata": {
    "colab": {
      "provenance": [],
      "include_colab_link": true
    },
    "kernelspec": {
      "name": "python3",
      "display_name": "Python 3"
    },
    "language_info": {
      "name": "python"
    }
  },
  "cells": [
    {
      "cell_type": "markdown",
      "metadata": {
        "id": "view-in-github",
        "colab_type": "text"
      },
      "source": [
        "<a href=\"https://colab.research.google.com/github/yleessam/tf/blob/main/mnist_tensorflow.ipynb\" target=\"_parent\"><img src=\"https://colab.research.google.com/assets/colab-badge.svg\" alt=\"Open In Colab\"/></a>"
      ]
    },
    {
      "cell_type": "code",
      "execution_count": 1,
      "metadata": {
        "id": "GDvfSvygV1Yu"
      },
      "outputs": [],
      "source": [
        "from tensorflow.keras.datasets import mnist\n",
        "from tensorflow.keras.models import Sequential\n",
        "from tensorflow.keras.layers import Dense\n",
        "from tensorflow.keras.optimizers import SGD\n",
        "from sklearn.preprocessing import LabelBinarizer\n",
        "from sklearn.metrics import classification_report\n",
        "import cv2\n",
        "import matplotlib.pyplot as plt\n",
        "import numpy as np\n",
        "from google.colab.patches import cv2_imshow"
      ]
    },
    {
      "cell_type": "markdown",
      "source": [
        "MNIST 데이터셋 딥러닝 트레이닝을 위한 필요한 파이썬 모듈 임포트"
      ],
      "metadata": {
        "id": "Cs9d22Y8WG6K"
      }
    },
    {
      "cell_type": "code",
      "source": [
        "((trainX, trainY), (testX, testY)) = mnist.load_data()\n",
        "print(trainX.shape)\n",
        "print(testX.shape)\n",
        "print(trainY[0])\n",
        "print(testY[0])"
      ],
      "metadata": {
        "colab": {
          "base_uri": "https://localhost:8080/"
        },
        "id": "Flujp1CzWiA7",
        "outputId": "4aebe041-902c-43b0-c8d0-9d7fe5d6f8ef"
      },
      "execution_count": 2,
      "outputs": [
        {
          "output_type": "stream",
          "name": "stdout",
          "text": [
            "Downloading data from https://storage.googleapis.com/tensorflow/tf-keras-datasets/mnist.npz\n",
            "11490434/11490434 [==============================] - 0s 0us/step\n",
            "(60000, 28, 28)\n",
            "(10000, 28, 28)\n",
            "5\n",
            "7\n"
          ]
        }
      ]
    },
    {
      "cell_type": "markdown",
      "source": [
        "MNIST 데이터셋을 다운로드하고 트레이닝용 데이터와 검증용 데이터로 나눈다."
      ],
      "metadata": {
        "id": "vlp0QbL3W3Qu"
      }
    },
    {
      "cell_type": "code",
      "source": [
        "img = cv2.resize(trainX[0], (100, 100))\n",
        "cv2_imshow(img)\n",
        "cv2.waitKey(0)\n",
        "cv2.destroyAllWindows()\n",
        "print(trainY[0])\n",
        "img = cv2.resize(trainX[1], (100, 100))\n",
        "cv2_imshow(img)\n",
        "cv2.waitKey(0)\n",
        "cv2.destroyAllWindows()\n",
        "print(trainY[1])"
      ],
      "metadata": {
        "colab": {
          "base_uri": "https://localhost:8080/",
          "height": 254
        },
        "id": "OXpPA77zYFkw",
        "outputId": "966bfe08-c2de-4d58-e500-0e63cdbe8167"
      },
      "execution_count": 3,
      "outputs": [
        {
          "output_type": "display_data",
          "data": {
            "text/plain": [
              "<PIL.Image.Image image mode=L size=100x100>"
            ],
            "image/png": "[encoded data removed]"
          },
          "metadata": {}
        },
        {
          "output_type": "stream",
          "name": "stdout",
          "text": [
            "5\n"
          ]
        },
        {
          "output_type": "display_data",
          "data": {
            "text/plain": [
              "<PIL.Image.Image image mode=L size=100x100>"
            ],
            "image/png": "[encoded data removed]"
          },
          "metadata": {}
        },
        {
          "output_type": "stream",
          "name": "stdout",
          "text": [
            "0\n"
          ]
        }
      ]
    },
    {
      "cell_type": "markdown",
      "source": [
        "다운로드 된 MNIST 데이터 하나를 디스플레이 해서 보기"
      ],
      "metadata": {
        "id": "63t43AodYW2E"
      }
    },
    {
      "cell_type": "code",
      "source": [
        "trainX = trainX.reshape((trainX.shape[0], 28 * 28 * 1))\n",
        "testX = testX.reshape((testX.shape[0], 28 * 28 * 1))\n",
        "print(trainX.shape)\n",
        "print(testX.shape)"
      ],
      "metadata": {
        "colab": {
          "base_uri": "https://localhost:8080/"
        },
        "id": "hSQtr3P7XBIG",
        "outputId": "3b36a1e3-9b04-4f4f-ca3f-fa5dda40f675"
      },
      "execution_count": 4,
      "outputs": [
        {
          "output_type": "stream",
          "name": "stdout",
          "text": [
            "(60000, 784)\n",
            "(10000, 784)\n"
          ]
        }
      ]
    },
    {
      "cell_type": "markdown",
      "source": [
        "50000 x 28 x 28 x 1 의 행렬 형태의 입력 데이터를 50000 x 784 x 1의 행렬로 만든다. Flattening.  "
      ],
      "metadata": {
        "id": "P-F3CgkQXPXV"
      }
    },
    {
      "cell_type": "code",
      "source": [
        "print(\"Before normalizing: \", trainX[0])\n",
        "trainX = trainX.astype(\"float32\") / 255.0\n",
        "testX = testX.astype(\"float32\") / 255.0\n",
        "print(\"After normalizing: \", trainX[0])"
      ],
      "metadata": {
        "id": "z25Ha2ETacX6",
        "colab": {
          "base_uri": "https://localhost:8080/"
        },
        "outputId": "74209be2-2d55-42b3-9d70-7ac985ee924d"
      },
      "execution_count": 5,
      "outputs": [
        {
          "output_type": "stream",
          "name": "stdout",
          "text": [
            "Before normalizing:  [  0   0   0   0   0   0   0   0   0   0   0   0   0   0   0   0   0   0\n",
            "   0   0   0   0   0   0   0   0   0   0   0   0   0   0   0   0   0   0\n",
            "   0   0   0   0   0   0   0   0   0   0   0   0   0   0   0   0   0   0\n",
            "   0   0   0   0   0   0   0   0   0   0   0   0   0   0   0   0   0   0\n",
            "   0   0   0   0   0   0   0   0   0   0   0   0   0   0   0   0   0   0\n",
            "   0   0   0   0   0   0   0   0   0   0   0   0   0   0   0   0   0   0\n",
            "   0   0   0   0   0   0   0   0   0   0   0   0   0   0   0   0   0   0\n",
            "   0   0   0   0   0   0   0   0   0   0   0   0   0   0   0   0   0   0\n",
            "   0   0   0   0   0   0   0   0   3  18  18  18 126 136 175  26 166 255\n",
            " 247 127   0   0   0   0   0   0   0   0   0   0   0   0  30  36  94 154\n",
            " 170 253 253 253 253 253 225 172 253 242 195  64   0   0   0   0   0   0\n",
            "   0   0   0   0   0  49 238 253 253 253 253 253 253 253 253 251  93  82\n",
            "  82  56  39   0   0   0   0   0   0   0   0   0   0   0   0  18 219 253\n",
            " 253 253 253 253 198 182 247 241   0   0   0   0   0   0   0   0   0   0\n",
            "   0   0   0   0   0   0   0   0  80 156 107 253 253 205  11   0  43 154\n",
            "   0   0   0   0   0   0   0   0   0   0   0   0   0   0   0   0   0   0\n",
            "   0  14   1 154 253  90   0   0   0   0   0   0   0   0   0   0   0   0\n",
            "   0   0   0   0   0   0   0   0   0   0   0   0   0 139 253 190   2   0\n",
            "   0   0   0   0   0   0   0   0   0   0   0   0   0   0   0   0   0   0\n",
            "   0   0   0   0   0  11 190 253  70   0   0   0   0   0   0   0   0   0\n",
            "   0   0   0   0   0   0   0   0   0   0   0   0   0   0   0   0  35 241\n",
            " 225 160 108   1   0   0   0   0   0   0   0   0   0   0   0   0   0   0\n",
            "   0   0   0   0   0   0   0   0   0  81 240 253 253 119  25   0   0   0\n",
            "   0   0   0   0   0   0   0   0   0   0   0   0   0   0   0   0   0   0\n",
            "   0   0  45 186 253 253 150  27   0   0   0   0   0   0   0   0   0   0\n",
            "   0   0   0   0   0   0   0   0   0   0   0   0   0  16  93 252 253 187\n",
            "   0   0   0   0   0   0   0   0   0   0   0   0   0   0   0   0   0   0\n",
            "   0   0   0   0   0   0   0 249 253 249  64   0   0   0   0   0   0   0\n",
            "   0   0   0   0   0   0   0   0   0   0   0   0   0   0  46 130 183 253\n",
            " 253 207   2   0   0   0   0   0   0   0   0   0   0   0   0   0   0   0\n",
            "   0   0   0   0  39 148 229 253 253 253 250 182   0   0   0   0   0   0\n",
            "   0   0   0   0   0   0   0   0   0   0   0   0  24 114 221 253 253 253\n",
            " 253 201  78   0   0   0   0   0   0   0   0   0   0   0   0   0   0   0\n",
            "   0   0  23  66 213 253 253 253 253 198  81   2   0   0   0   0   0   0\n",
            "   0   0   0   0   0   0   0   0   0   0  18 171 219 253 253 253 253 195\n",
            "  80   9   0   0   0   0   0   0   0   0   0   0   0   0   0   0   0   0\n",
            "  55 172 226 253 253 253 253 244 133  11   0   0   0   0   0   0   0   0\n",
            "   0   0   0   0   0   0   0   0   0   0 136 253 253 253 212 135 132  16\n",
            "   0   0   0   0   0   0   0   0   0   0   0   0   0   0   0   0   0   0\n",
            "   0   0   0   0   0   0   0   0   0   0   0   0   0   0   0   0   0   0\n",
            "   0   0   0   0   0   0   0   0   0   0   0   0   0   0   0   0   0   0\n",
            "   0   0   0   0   0   0   0   0   0   0   0   0   0   0   0   0   0   0\n",
            "   0   0   0   0   0   0   0   0   0   0   0   0   0   0   0   0   0   0\n",
            "   0   0   0   0   0   0   0   0   0   0]\n",
            "After normalizing:  [0.         0.         0.         0.         0.         0.\n",
            " 0.         0.         0.         0.         0.         0.\n",
            " 0.         0.         0.         0.         0.         0.\n",
            " 0.         0.         0.         0.         0.         0.\n",
            " 0.         0.         0.         0.         0.         0.\n",
            " 0.         0.         0.         0.         0.         0.\n",
            " 0.         0.         0.         0.         0.         0.\n",
            " 0.         0.         0.         0.         0.         0.\n",
            " 0.         0.         0.         0.         0.         0.\n",
            " 0.         0.         0.         0.         0.         0.\n",
            " 0.         0.         0.         0.         0.         0.\n",
            " 0.         0.         0.         0.         0.         0.\n",
            " 0.         0.         0.         0.         0.         0.\n",
            " 0.         0.         0.         0.         0.         0.\n",
            " 0.         0.         0.         0.         0.         0.\n",
            " 0.         0.         0.         0.         0.         0.\n",
            " 0.         0.         0.         0.         0.         0.\n",
            " 0.         0.         0.         0.         0.         0.\n",
            " 0.         0.         0.         0.         0.         0.\n",
            " 0.         0.         0.         0.         0.         0.\n",
            " 0.         0.         0.         0.         0.         0.\n",
            " 0.         0.         0.         0.         0.         0.\n",
            " 0.         0.         0.         0.         0.         0.\n",
            " 0.         0.         0.         0.         0.         0.\n",
            " 0.         0.         0.         0.         0.         0.\n",
            " 0.         0.         0.01176471 0.07058824 0.07058824 0.07058824\n",
            " 0.49411765 0.53333336 0.6862745  0.10196079 0.6509804  1.\n",
            " 0.96862745 0.49803922 0.         0.         0.         0.\n",
            " 0.         0.         0.         0.         0.         0.\n",
            " 0.         0.         0.11764706 0.14117648 0.36862746 0.6039216\n",
            " 0.6666667  0.99215686 0.99215686 0.99215686 0.99215686 0.99215686\n",
            " 0.88235295 0.6745098  0.99215686 0.9490196  0.7647059  0.2509804\n",
            " 0.         0.         0.         0.         0.         0.\n",
            " 0.         0.         0.         0.         0.         0.19215687\n",
            " 0.93333334 0.99215686 0.99215686 0.99215686 0.99215686 0.99215686\n",
            " 0.99215686 0.99215686 0.99215686 0.9843137  0.3647059  0.32156864\n",
            " 0.32156864 0.21960784 0.15294118 0.         0.         0.\n",
            " 0.         0.         0.         0.         0.         0.\n",
            " 0.         0.         0.         0.07058824 0.85882354 0.99215686\n",
            " 0.99215686 0.99215686 0.99215686 0.99215686 0.7764706  0.7137255\n",
            " 0.96862745 0.94509804 0.         0.         0.         0.\n",
            " 0.         0.         0.         0.         0.         0.\n",
            " 0.         0.         0.         0.         0.         0.\n",
            " 0.         0.         0.3137255  0.6117647  0.41960785 0.99215686\n",
            " 0.99215686 0.8039216  0.04313726 0.         0.16862746 0.6039216\n",
            " 0.         0.         0.         0.         0.         0.\n",
            " 0.         0.         0.         0.         0.         0.\n",
            " 0.         0.         0.         0.         0.         0.\n",
            " 0.         0.05490196 0.00392157 0.6039216  0.99215686 0.3529412\n",
            " 0.         0.         0.         0.         0.         0.\n",
            " 0.         0.         0.         0.         0.         0.\n",
            " 0.         0.         0.         0.         0.         0.\n",
            " 0.         0.         0.         0.         0.         0.\n",
            " 0.         0.54509807 0.99215686 0.74509805 0.00784314 0.\n",
            " 0.         0.         0.         0.         0.         0.\n",
            " 0.         0.         0.         0.         0.         0.\n",
            " 0.         0.         0.         0.         0.         0.\n",
            " 0.         0.         0.         0.         0.         0.04313726\n",
            " 0.74509805 0.99215686 0.27450982 0.         0.         0.\n",
            " 0.         0.         0.         0.         0.         0.\n",
            " 0.         0.         0.         0.         0.         0.\n",
            " 0.         0.         0.         0.         0.         0.\n",
            " 0.         0.         0.         0.         0.13725491 0.94509804\n",
            " 0.88235295 0.627451   0.42352942 0.00392157 0.         0.\n",
            " 0.         0.         0.         0.         0.         0.\n",
            " 0.         0.         0.         0.         0.         0.\n",
            " 0.         0.         0.         0.         0.         0.\n",
            " 0.         0.         0.         0.31764707 0.9411765  0.99215686\n",
            " 0.99215686 0.46666667 0.09803922 0.         0.         0.\n",
            " 0.         0.         0.         0.         0.         0.\n",
            " 0.         0.         0.         0.         0.         0.\n",
            " 0.         0.         0.         0.         0.         0.\n",
            " 0.         0.         0.1764706  0.7294118  0.99215686 0.99215686\n",
            " 0.5882353  0.10588235 0.         0.         0.         0.\n",
            " 0.         0.         0.         0.         0.         0.\n",
            " 0.         0.         0.         0.         0.         0.\n",
            " 0.         0.         0.         0.         0.         0.\n",
            " 0.         0.0627451  0.3647059  0.9882353  0.99215686 0.73333335\n",
            " 0.         0.         0.         0.         0.         0.\n",
            " 0.         0.         0.         0.         0.         0.\n",
            " 0.         0.         0.         0.         0.         0.\n",
            " 0.         0.         0.         0.         0.         0.\n",
            " 0.         0.9764706  0.99215686 0.9764706  0.2509804  0.\n",
            " 0.         0.         0.         0.         0.         0.\n",
            " 0.         0.         0.         0.         0.         0.\n",
            " 0.         0.         0.         0.         0.         0.\n",
            " 0.         0.         0.18039216 0.50980395 0.7176471  0.99215686\n",
            " 0.99215686 0.8117647  0.00784314 0.         0.         0.\n",
            " 0.         0.         0.         0.         0.         0.\n",
            " 0.         0.         0.         0.         0.         0.\n",
            " 0.         0.         0.         0.         0.15294118 0.5803922\n",
            " 0.8980392  0.99215686 0.99215686 0.99215686 0.98039216 0.7137255\n",
            " 0.         0.         0.         0.         0.         0.\n",
            " 0.         0.         0.         0.         0.         0.\n",
            " 0.         0.         0.         0.         0.         0.\n",
            " 0.09411765 0.44705883 0.8666667  0.99215686 0.99215686 0.99215686\n",
            " 0.99215686 0.7882353  0.30588236 0.         0.         0.\n",
            " 0.         0.         0.         0.         0.         0.\n",
            " 0.         0.         0.         0.         0.         0.\n",
            " 0.         0.         0.09019608 0.25882354 0.8352941  0.99215686\n",
            " 0.99215686 0.99215686 0.99215686 0.7764706  0.31764707 0.00784314\n",
            " 0.         0.         0.         0.         0.         0.\n",
            " 0.         0.         0.         0.         0.         0.\n",
            " 0.         0.         0.         0.         0.07058824 0.67058825\n",
            " 0.85882354 0.99215686 0.99215686 0.99215686 0.99215686 0.7647059\n",
            " 0.3137255  0.03529412 0.         0.         0.         0.\n",
            " 0.         0.         0.         0.         0.         0.\n",
            " 0.         0.         0.         0.         0.         0.\n",
            " 0.21568628 0.6745098  0.8862745  0.99215686 0.99215686 0.99215686\n",
            " 0.99215686 0.95686275 0.52156866 0.04313726 0.         0.\n",
            " 0.         0.         0.         0.         0.         0.\n",
            " 0.         0.         0.         0.         0.         0.\n",
            " 0.         0.         0.         0.         0.53333336 0.99215686\n",
            " 0.99215686 0.99215686 0.83137256 0.5294118  0.5176471  0.0627451\n",
            " 0.         0.         0.         0.         0.         0.\n",
            " 0.         0.         0.         0.         0.         0.\n",
            " 0.         0.         0.         0.         0.         0.\n",
            " 0.         0.         0.         0.         0.         0.\n",
            " 0.         0.         0.         0.         0.         0.\n",
            " 0.         0.         0.         0.         0.         0.\n",
            " 0.         0.         0.         0.         0.         0.\n",
            " 0.         0.         0.         0.         0.         0.\n",
            " 0.         0.         0.         0.         0.         0.\n",
            " 0.         0.         0.         0.         0.         0.\n",
            " 0.         0.         0.         0.         0.         0.\n",
            " 0.         0.         0.         0.         0.         0.\n",
            " 0.         0.         0.         0.         0.         0.\n",
            " 0.         0.         0.         0.         0.         0.\n",
            " 0.         0.         0.         0.         0.         0.\n",
            " 0.         0.         0.         0.         0.         0.\n",
            " 0.         0.         0.         0.        ]\n"
          ]
        }
      ]
    },
    {
      "cell_type": "markdown",
      "source": [
        "입력 데이터의 flattening 이후에는 입력 데이터를 normalizing한다. Normalizing이전에는 입력데이터 하나하나의 값이 0 ~ 255인데, normalizing이후에는 0~1로 변경된다."
      ],
      "metadata": {
        "id": "esfdS4s6bMp_"
      }
    },
    {
      "cell_type": "code",
      "source": [
        "print(\"Before label binarizing (trainY[0]): \", trainY[0])\n",
        "lb = LabelBinarizer()\n",
        "trainY = lb.fit_transform(trainY)\n",
        "testY = lb.transform(testY)\n",
        "print(\"Before label binarizing (trainY[0]): \", trainY[0])"
      ],
      "metadata": {
        "colab": {
          "base_uri": "https://localhost:8080/"
        },
        "id": "SVW9FFkkbh7f",
        "outputId": "4d134ce5-c35b-47a7-f272-4a0a8ac506bb"
      },
      "execution_count": 6,
      "outputs": [
        {
          "output_type": "stream",
          "name": "stdout",
          "text": [
            "Before label binarizing (trainY[0]):  5\n",
            "Before label binarizing (trainY[0]):  [0 0 0 0 0 1 0 0 0 0]\n"
          ]
        }
      ]
    },
    {
      "cell_type": "code",
      "source": [
        "sgd = SGD(0.01)\n",
        "model = Sequential()\n",
        "model.add(Dense(256, input_shape=(784,), activation=\"sigmoid\"))\n",
        "model.add(Dense(128, activation=\"sigmoid\"))\n",
        "model.add(Dense(10, activation=\"softmax\"))"
      ],
      "metadata": {
        "id": "lSUEexoLW38H"
      },
      "execution_count": 7,
      "outputs": []
    },
    {
      "cell_type": "markdown",
      "source": [
        "역전파를 수행하는 경사강하법을 효율적으로 하기 위해서 옵티마이저를 SGD를 사용한다.\n",
        "텐서플로의 Sequencial 모듈을 사용해서 신경망을 구성한다.\n",
        "신경망은 입력을 제외하고 2개의 레이어 (256, 128, 10) 3개의 레이어로 구성된다. 마지막 레이어는 출력 레이어로 출력은 10개이다.\n"
      ],
      "metadata": {
        "id": "_GHPCbVxc-22"
      }
    },
    {
      "cell_type": "code",
      "source": [
        "model.compile(loss=\"categorical_crossentropy\", optimizer=sgd,\n",
        "\tmetrics=[\"accuracy\"])"
      ],
      "metadata": {
        "id": "gMzFQFWgoMcQ"
      },
      "execution_count": 8,
      "outputs": []
    },
    {
      "cell_type": "markdown",
      "source": [
        "Sequential로 구성한 신경망 모델은 compile 명령을 통해서 만들어진다. 이때 로스함수(에러함수), 경사강하법에 사용되는 옵티마이저, metrics를 입력한다."
      ],
      "metadata": {
        "id": "TAbWaxhSoOxI"
      }
    },
    {
      "cell_type": "code",
      "source": [
        "H = model.fit(trainX, trainY, validation_data=(testX, testY),\n",
        "\tepochs=100, batch_size=128)"
      ],
      "metadata": {
        "id": "KQqobOiLpKTb",
        "colab": {
          "base_uri": "https://localhost:8080/"
        },
        "outputId": "892f9694-9982-4539-bf13-07a4eae4a16a"
      },
      "execution_count": 9,
      "outputs": [
        {
          "output_type": "stream",
          "name": "stdout",
          "text": [
            "Epoch 1/100\n",
            "469/469 [==============================] - 7s 15ms/step - loss: 2.2790 - accuracy: 0.1893 - val_loss: 2.2442 - val_accuracy: 0.1813\n",
            "Epoch 2/100\n",
            "469/469 [==============================] - 5s 12ms/step - loss: 2.2098 - accuracy: 0.3753 - val_loss: 2.1706 - val_accuracy: 0.4570\n",
            "Epoch 3/100\n",
            "469/469 [==============================] - 6s 14ms/step - loss: 2.1258 - accuracy: 0.5363 - val_loss: 2.0697 - val_accuracy: 0.5483\n",
            "Epoch 4/100\n",
            "469/469 [==============================] - 4s 8ms/step - loss: 2.0055 - accuracy: 0.6046 - val_loss: 1.9222 - val_accuracy: 0.6428\n",
            "Epoch 5/100\n",
            "469/469 [==============================] - 3s 6ms/step - loss: 1.8361 - accuracy: 0.6518 - val_loss: 1.7250 - val_accuracy: 0.6774\n",
            "Epoch 6/100\n",
            "469/469 [==============================] - 3s 6ms/step - loss: 1.6255 - accuracy: 0.6895 - val_loss: 1.5003 - val_accuracy: 0.7054\n",
            "Epoch 7/100\n",
            "469/469 [==============================] - 4s 8ms/step - loss: 1.4064 - accuracy: 0.7218 - val_loss: 1.2874 - val_accuracy: 0.7404\n",
            "Epoch 8/100\n",
            "469/469 [==============================] - 3s 6ms/step - loss: 1.2124 - accuracy: 0.7490 - val_loss: 1.1122 - val_accuracy: 0.7655\n",
            "Epoch 9/100\n",
            "469/469 [==============================] - 4s 9ms/step - loss: 1.0586 - accuracy: 0.7707 - val_loss: 0.9776 - val_accuracy: 0.7850\n",
            "Epoch 10/100\n",
            "469/469 [==============================] - 3s 6ms/step - loss: 0.9411 - accuracy: 0.7875 - val_loss: 0.8757 - val_accuracy: 0.8035\n",
            "Epoch 11/100\n",
            "469/469 [==============================] - 4s 8ms/step - loss: 0.8509 - accuracy: 0.8025 - val_loss: 0.7958 - val_accuracy: 0.8148\n",
            "Epoch 12/100\n",
            "469/469 [==============================] - 3s 6ms/step - loss: 0.7800 - accuracy: 0.8145 - val_loss: 0.7334 - val_accuracy: 0.8228\n",
            "Epoch 13/100\n",
            "469/469 [==============================] - 3s 6ms/step - loss: 0.7233 - accuracy: 0.8241 - val_loss: 0.6827 - val_accuracy: 0.8315\n",
            "Epoch 14/100\n",
            "469/469 [==============================] - 3s 6ms/step - loss: 0.6770 - accuracy: 0.8311 - val_loss: 0.6404 - val_accuracy: 0.8395\n",
            "Epoch 15/100\n",
            "469/469 [==============================] - 4s 8ms/step - loss: 0.6385 - accuracy: 0.8378 - val_loss: 0.6059 - val_accuracy: 0.8450\n",
            "Epoch 16/100\n",
            "469/469 [==============================] - 3s 6ms/step - loss: 0.6062 - accuracy: 0.8446 - val_loss: 0.5760 - val_accuracy: 0.8509\n",
            "Epoch 17/100\n",
            "469/469 [==============================] - 3s 6ms/step - loss: 0.5786 - accuracy: 0.8502 - val_loss: 0.5502 - val_accuracy: 0.8556\n",
            "Epoch 18/100\n",
            "469/469 [==============================] - 3s 6ms/step - loss: 0.5548 - accuracy: 0.8544 - val_loss: 0.5286 - val_accuracy: 0.8595\n",
            "Epoch 19/100\n",
            "469/469 [==============================] - 4s 8ms/step - loss: 0.5341 - accuracy: 0.8589 - val_loss: 0.5086 - val_accuracy: 0.8646\n",
            "Epoch 20/100\n",
            "469/469 [==============================] - 3s 6ms/step - loss: 0.5158 - accuracy: 0.8625 - val_loss: 0.4918 - val_accuracy: 0.8691\n",
            "Epoch 21/100\n",
            "469/469 [==============================] - 3s 6ms/step - loss: 0.4995 - accuracy: 0.8662 - val_loss: 0.4768 - val_accuracy: 0.8723\n",
            "Epoch 22/100\n",
            "469/469 [==============================] - 3s 7ms/step - loss: 0.4849 - accuracy: 0.8699 - val_loss: 0.4631 - val_accuracy: 0.8747\n",
            "Epoch 23/100\n",
            "469/469 [==============================] - 3s 7ms/step - loss: 0.4719 - accuracy: 0.8726 - val_loss: 0.4504 - val_accuracy: 0.8774\n",
            "Epoch 24/100\n",
            "469/469 [==============================] - 3s 6ms/step - loss: 0.4601 - accuracy: 0.8754 - val_loss: 0.4398 - val_accuracy: 0.8805\n",
            "Epoch 25/100\n",
            "469/469 [==============================] - 3s 6ms/step - loss: 0.4493 - accuracy: 0.8774 - val_loss: 0.4290 - val_accuracy: 0.8832\n",
            "Epoch 26/100\n",
            "469/469 [==============================] - 3s 6ms/step - loss: 0.4394 - accuracy: 0.8797 - val_loss: 0.4196 - val_accuracy: 0.8847\n",
            "Epoch 27/100\n",
            "469/469 [==============================] - 4s 8ms/step - loss: 0.4305 - accuracy: 0.8826 - val_loss: 0.4116 - val_accuracy: 0.8857\n",
            "Epoch 28/100\n",
            "469/469 [==============================] - 4s 8ms/step - loss: 0.4223 - accuracy: 0.8846 - val_loss: 0.4040 - val_accuracy: 0.8875\n",
            "Epoch 29/100\n",
            "469/469 [==============================] - 3s 6ms/step - loss: 0.4148 - accuracy: 0.8861 - val_loss: 0.3966 - val_accuracy: 0.8913\n",
            "Epoch 30/100\n",
            "469/469 [==============================] - 4s 8ms/step - loss: 0.4079 - accuracy: 0.8880 - val_loss: 0.3897 - val_accuracy: 0.8914\n",
            "Epoch 31/100\n",
            "469/469 [==============================] - 3s 7ms/step - loss: 0.4015 - accuracy: 0.8892 - val_loss: 0.3837 - val_accuracy: 0.8934\n",
            "Epoch 32/100\n",
            "469/469 [==============================] - 3s 7ms/step - loss: 0.3956 - accuracy: 0.8904 - val_loss: 0.3780 - val_accuracy: 0.8942\n",
            "Epoch 33/100\n",
            "469/469 [==============================] - 3s 6ms/step - loss: 0.3900 - accuracy: 0.8918 - val_loss: 0.3728 - val_accuracy: 0.8948\n",
            "Epoch 34/100\n",
            "469/469 [==============================] - 4s 8ms/step - loss: 0.3849 - accuracy: 0.8924 - val_loss: 0.3694 - val_accuracy: 0.8968\n",
            "Epoch 35/100\n",
            "469/469 [==============================] - 3s 6ms/step - loss: 0.3801 - accuracy: 0.8937 - val_loss: 0.3642 - val_accuracy: 0.8972\n",
            "Epoch 36/100\n",
            "469/469 [==============================] - 3s 6ms/step - loss: 0.3756 - accuracy: 0.8947 - val_loss: 0.3595 - val_accuracy: 0.8994\n",
            "Epoch 37/100\n",
            "469/469 [==============================] - 3s 6ms/step - loss: 0.3715 - accuracy: 0.8957 - val_loss: 0.3554 - val_accuracy: 0.9001\n",
            "Epoch 38/100\n",
            "469/469 [==============================] - 4s 8ms/step - loss: 0.3674 - accuracy: 0.8963 - val_loss: 0.3520 - val_accuracy: 0.9000\n",
            "Epoch 39/100\n",
            "469/469 [==============================] - 3s 6ms/step - loss: 0.3638 - accuracy: 0.8973 - val_loss: 0.3487 - val_accuracy: 0.9015\n",
            "Epoch 40/100\n",
            "469/469 [==============================] - 3s 6ms/step - loss: 0.3603 - accuracy: 0.8981 - val_loss: 0.3449 - val_accuracy: 0.9025\n",
            "Epoch 41/100\n",
            "469/469 [==============================] - 3s 6ms/step - loss: 0.3569 - accuracy: 0.8992 - val_loss: 0.3423 - val_accuracy: 0.9022\n",
            "Epoch 42/100\n",
            "469/469 [==============================] - 4s 8ms/step - loss: 0.3538 - accuracy: 0.8997 - val_loss: 0.3390 - val_accuracy: 0.9037\n",
            "Epoch 43/100\n",
            "469/469 [==============================] - 3s 6ms/step - loss: 0.3508 - accuracy: 0.9006 - val_loss: 0.3363 - val_accuracy: 0.9036\n",
            "Epoch 44/100\n",
            "469/469 [==============================] - 3s 6ms/step - loss: 0.3480 - accuracy: 0.9011 - val_loss: 0.3335 - val_accuracy: 0.9044\n",
            "Epoch 45/100\n",
            "469/469 [==============================] - 3s 6ms/step - loss: 0.3452 - accuracy: 0.9018 - val_loss: 0.3309 - val_accuracy: 0.9044\n",
            "Epoch 46/100\n",
            "469/469 [==============================] - 4s 8ms/step - loss: 0.3426 - accuracy: 0.9026 - val_loss: 0.3288 - val_accuracy: 0.9063\n",
            "Epoch 47/100\n",
            "469/469 [==============================] - 3s 6ms/step - loss: 0.3401 - accuracy: 0.9033 - val_loss: 0.3262 - val_accuracy: 0.9057\n",
            "Epoch 48/100\n",
            "469/469 [==============================] - 3s 6ms/step - loss: 0.3378 - accuracy: 0.9036 - val_loss: 0.3244 - val_accuracy: 0.9058\n",
            "Epoch 49/100\n",
            "469/469 [==============================] - 3s 6ms/step - loss: 0.3354 - accuracy: 0.9041 - val_loss: 0.3219 - val_accuracy: 0.9060\n",
            "Epoch 50/100\n",
            "469/469 [==============================] - 4s 8ms/step - loss: 0.3332 - accuracy: 0.9047 - val_loss: 0.3202 - val_accuracy: 0.9071\n",
            "Epoch 51/100\n",
            "469/469 [==============================] - 3s 6ms/step - loss: 0.3310 - accuracy: 0.9053 - val_loss: 0.3180 - val_accuracy: 0.9082\n",
            "Epoch 52/100\n",
            "469/469 [==============================] - 3s 6ms/step - loss: 0.3289 - accuracy: 0.9057 - val_loss: 0.3163 - val_accuracy: 0.9077\n",
            "Epoch 53/100\n",
            "469/469 [==============================] - 3s 6ms/step - loss: 0.3270 - accuracy: 0.9059 - val_loss: 0.3143 - val_accuracy: 0.9094\n",
            "Epoch 54/100\n",
            "469/469 [==============================] - 4s 8ms/step - loss: 0.3250 - accuracy: 0.9067 - val_loss: 0.3126 - val_accuracy: 0.9093\n",
            "Epoch 55/100\n",
            "469/469 [==============================] - 3s 6ms/step - loss: 0.3232 - accuracy: 0.9069 - val_loss: 0.3109 - val_accuracy: 0.9098\n",
            "Epoch 56/100\n",
            "469/469 [==============================] - 3s 6ms/step - loss: 0.3213 - accuracy: 0.9075 - val_loss: 0.3089 - val_accuracy: 0.9106\n",
            "Epoch 57/100\n",
            "469/469 [==============================] - 3s 7ms/step - loss: 0.3195 - accuracy: 0.9082 - val_loss: 0.3078 - val_accuracy: 0.9113\n",
            "Epoch 58/100\n",
            "469/469 [==============================] - 3s 7ms/step - loss: 0.3177 - accuracy: 0.9089 - val_loss: 0.3060 - val_accuracy: 0.9108\n",
            "Epoch 59/100\n",
            "469/469 [==============================] - 3s 6ms/step - loss: 0.3162 - accuracy: 0.9090 - val_loss: 0.3047 - val_accuracy: 0.9122\n",
            "Epoch 60/100\n",
            "469/469 [==============================] - 3s 6ms/step - loss: 0.3146 - accuracy: 0.9093 - val_loss: 0.3027 - val_accuracy: 0.9124\n",
            "Epoch 61/100\n",
            "469/469 [==============================] - 3s 7ms/step - loss: 0.3129 - accuracy: 0.9098 - val_loss: 0.3017 - val_accuracy: 0.9129\n",
            "Epoch 62/100\n",
            "469/469 [==============================] - 4s 8ms/step - loss: 0.3114 - accuracy: 0.9104 - val_loss: 0.3004 - val_accuracy: 0.9134\n",
            "Epoch 63/100\n",
            "469/469 [==============================] - 3s 6ms/step - loss: 0.3099 - accuracy: 0.9106 - val_loss: 0.2990 - val_accuracy: 0.9133\n",
            "Epoch 64/100\n",
            "469/469 [==============================] - 3s 6ms/step - loss: 0.3084 - accuracy: 0.9109 - val_loss: 0.2979 - val_accuracy: 0.9139\n",
            "Epoch 65/100\n",
            "469/469 [==============================] - 5s 11ms/step - loss: 0.3070 - accuracy: 0.9115 - val_loss: 0.2960 - val_accuracy: 0.9146\n",
            "Epoch 66/100\n",
            "469/469 [==============================] - 3s 7ms/step - loss: 0.3056 - accuracy: 0.9122 - val_loss: 0.2948 - val_accuracy: 0.9150\n",
            "Epoch 67/100\n",
            "469/469 [==============================] - 3s 7ms/step - loss: 0.3041 - accuracy: 0.9125 - val_loss: 0.2937 - val_accuracy: 0.9149\n",
            "Epoch 68/100\n",
            "469/469 [==============================] - 3s 7ms/step - loss: 0.3027 - accuracy: 0.9124 - val_loss: 0.2922 - val_accuracy: 0.9152\n",
            "Epoch 69/100\n",
            "469/469 [==============================] - 4s 8ms/step - loss: 0.3014 - accuracy: 0.9128 - val_loss: 0.2908 - val_accuracy: 0.9165\n",
            "Epoch 70/100\n",
            "469/469 [==============================] - 3s 6ms/step - loss: 0.3001 - accuracy: 0.9137 - val_loss: 0.2905 - val_accuracy: 0.9155\n",
            "Epoch 71/100\n",
            "469/469 [==============================] - 3s 6ms/step - loss: 0.2989 - accuracy: 0.9138 - val_loss: 0.2888 - val_accuracy: 0.9161\n",
            "Epoch 72/100\n",
            "469/469 [==============================] - 3s 6ms/step - loss: 0.2976 - accuracy: 0.9140 - val_loss: 0.2880 - val_accuracy: 0.9167\n",
            "Epoch 73/100\n",
            "469/469 [==============================] - 4s 8ms/step - loss: 0.2963 - accuracy: 0.9145 - val_loss: 0.2866 - val_accuracy: 0.9163\n",
            "Epoch 74/100\n",
            "469/469 [==============================] - 3s 6ms/step - loss: 0.2951 - accuracy: 0.9147 - val_loss: 0.2856 - val_accuracy: 0.9173\n",
            "Epoch 75/100\n",
            "469/469 [==============================] - 3s 6ms/step - loss: 0.2939 - accuracy: 0.9152 - val_loss: 0.2846 - val_accuracy: 0.9175\n",
            "Epoch 76/100\n",
            "469/469 [==============================] - 3s 6ms/step - loss: 0.2927 - accuracy: 0.9154 - val_loss: 0.2834 - val_accuracy: 0.9180\n",
            "Epoch 77/100\n",
            "469/469 [==============================] - 4s 8ms/step - loss: 0.2916 - accuracy: 0.9155 - val_loss: 0.2826 - val_accuracy: 0.9178\n",
            "Epoch 78/100\n",
            "469/469 [==============================] - 3s 6ms/step - loss: 0.2904 - accuracy: 0.9156 - val_loss: 0.2813 - val_accuracy: 0.9191\n",
            "Epoch 79/100\n",
            "469/469 [==============================] - 3s 7ms/step - loss: 0.2893 - accuracy: 0.9163 - val_loss: 0.2803 - val_accuracy: 0.9190\n",
            "Epoch 80/100\n",
            "469/469 [==============================] - 3s 6ms/step - loss: 0.2882 - accuracy: 0.9167 - val_loss: 0.2795 - val_accuracy: 0.9190\n",
            "Epoch 81/100\n",
            "469/469 [==============================] - 4s 8ms/step - loss: 0.2871 - accuracy: 0.9170 - val_loss: 0.2784 - val_accuracy: 0.9189\n",
            "Epoch 82/100\n",
            "469/469 [==============================] - 3s 6ms/step - loss: 0.2860 - accuracy: 0.9172 - val_loss: 0.2774 - val_accuracy: 0.9196\n",
            "Epoch 83/100\n",
            "469/469 [==============================] - 3s 6ms/step - loss: 0.2848 - accuracy: 0.9176 - val_loss: 0.2769 - val_accuracy: 0.9203\n",
            "Epoch 84/100\n",
            "469/469 [==============================] - 3s 6ms/step - loss: 0.2839 - accuracy: 0.9179 - val_loss: 0.2759 - val_accuracy: 0.9197\n",
            "Epoch 85/100\n",
            "469/469 [==============================] - 4s 8ms/step - loss: 0.2828 - accuracy: 0.9181 - val_loss: 0.2750 - val_accuracy: 0.9201\n",
            "Epoch 86/100\n",
            "469/469 [==============================] - 3s 6ms/step - loss: 0.2818 - accuracy: 0.9183 - val_loss: 0.2743 - val_accuracy: 0.9204\n",
            "Epoch 87/100\n",
            "469/469 [==============================] - 3s 7ms/step - loss: 0.2808 - accuracy: 0.9186 - val_loss: 0.2727 - val_accuracy: 0.9213\n",
            "Epoch 88/100\n",
            "469/469 [==============================] - 3s 7ms/step - loss: 0.2798 - accuracy: 0.9189 - val_loss: 0.2722 - val_accuracy: 0.9220\n",
            "Epoch 89/100\n",
            "469/469 [==============================] - 4s 8ms/step - loss: 0.2788 - accuracy: 0.9194 - val_loss: 0.2709 - val_accuracy: 0.9212\n",
            "Epoch 90/100\n",
            "469/469 [==============================] - 3s 6ms/step - loss: 0.2778 - accuracy: 0.9192 - val_loss: 0.2702 - val_accuracy: 0.9220\n",
            "Epoch 91/100\n",
            "469/469 [==============================] - 3s 6ms/step - loss: 0.2769 - accuracy: 0.9197 - val_loss: 0.2693 - val_accuracy: 0.9218\n",
            "Epoch 92/100\n",
            "469/469 [==============================] - 3s 6ms/step - loss: 0.2759 - accuracy: 0.9201 - val_loss: 0.2688 - val_accuracy: 0.9223\n",
            "Epoch 93/100\n",
            "469/469 [==============================] - 4s 8ms/step - loss: 0.2750 - accuracy: 0.9202 - val_loss: 0.2678 - val_accuracy: 0.9225\n",
            "Epoch 94/100\n",
            "469/469 [==============================] - 3s 6ms/step - loss: 0.2740 - accuracy: 0.9207 - val_loss: 0.2669 - val_accuracy: 0.9227\n",
            "Epoch 95/100\n",
            "469/469 [==============================] - 3s 6ms/step - loss: 0.2730 - accuracy: 0.9207 - val_loss: 0.2661 - val_accuracy: 0.9225\n",
            "Epoch 96/100\n",
            "469/469 [==============================] - 3s 7ms/step - loss: 0.2722 - accuracy: 0.9209 - val_loss: 0.2653 - val_accuracy: 0.9225\n",
            "Epoch 97/100\n",
            "469/469 [==============================] - 3s 7ms/step - loss: 0.2713 - accuracy: 0.9211 - val_loss: 0.2646 - val_accuracy: 0.9237\n",
            "Epoch 98/100\n",
            "469/469 [==============================] - 4s 8ms/step - loss: 0.2704 - accuracy: 0.9216 - val_loss: 0.2638 - val_accuracy: 0.9232\n",
            "Epoch 99/100\n",
            "469/469 [==============================] - 3s 6ms/step - loss: 0.2694 - accuracy: 0.9221 - val_loss: 0.2628 - val_accuracy: 0.9246\n",
            "Epoch 100/100\n",
            "469/469 [==============================] - 4s 9ms/step - loss: 0.2685 - accuracy: 0.9225 - val_loss: 0.2626 - val_accuracy: 0.9233\n"
          ]
        }
      ]
    },
    {
      "cell_type": "markdown",
      "source": [
        "fit 명령을 통해서 신경망 트레이닝을 진행한다. epochs에 지정된 회수만큼 트레이닝을 반복진행한다. batch_size는 한번에 신경망에 투입되는 입력값의 갯수이다."
      ],
      "metadata": {
        "id": "FOti1eiBWudN"
      }
    },
    {
      "cell_type": "code",
      "source": [
        "#img = cv2.imread('2_1.png')\n",
        "img= cv2.imread('mynumber2.png')\n",
        "cv2_imshow(img)\n",
        "cv2.waitKey(0)\n",
        "cv2.destroyAllWindows()"
      ],
      "metadata": {
        "colab": {
          "base_uri": "https://localhost:8080/",
          "height": 665
        },
        "id": "qBRfEbbfXwK6",
        "outputId": "90e59784-614e-48a1-d8e4-7a7d676b9d5e"
      },
      "execution_count": 17,
      "outputs": [
        {
          "output_type": "display_data",
          "data": {
            "text/plain": [
              "<PIL.Image.Image image mode=RGB size=1152x648>"
            ],
            "image/png": "[encoded data removed]"
          },
          "metadata": {}
        }
      ]
    },
    {
      "cell_type": "markdown",
      "source": [
        "신경망 트레이닝이 끝이나면 테스트를 위해서 숫자 이미지를 로드한다."
      ],
      "metadata": {
        "id": "zH3kRfwHbNkP"
      }
    },
    {
      "cell_type": "code",
      "source": [
        "img = cv2.resize(img, (28,28))\n",
        "img = cv2.cvtColor(img, cv2.COLOR_BGR2GRAY)\n",
        "img = np.reshape(img, (784, ))\n",
        "\n",
        "X = np.asarray([img])\n",
        "predictions = model(X, training=False)\n",
        "print(predictions)\n",
        "print(np.argmax(predictions))"
      ],
      "metadata": {
        "colab": {
          "base_uri": "https://localhost:8080/"
        },
        "id": "0UoyD3jsfugO",
        "outputId": "272870e0-1722-4faf-bd0c-452aac110666"
      },
      "execution_count": 18,
      "outputs": [
        {
          "output_type": "stream",
          "name": "stdout",
          "text": [
            "tf.Tensor(\n",
            "[[7.9924330e-02 1.2376933e-06 3.9153367e-01 2.6597491e-01 1.3376044e-06\n",
            "  2.3313105e-02 1.3534603e-05 1.0266393e-05 2.3921730e-01 1.0361577e-05]], shape=(1, 10), dtype=float32)\n",
            "2\n"
          ]
        }
      ]
    },
    {
      "cell_type": "markdown",
      "source": [
        "로드된 숫자 이미지를 신경망에 통과시켜서 숫자값을 예측해 본다. 트레이닝 데이터와 로드한 숫자 이미지 데이터를 비교해서 데이터가 제대로 학습이 되었는지 비교해볼 수 있다."
      ],
      "metadata": {
        "id": "VYxqqtLYjzO4"
      }
    },
    {
      "cell_type": "code",
      "source": [
        "print(\"[INFO] evaluating network...\")\n",
        "predictions = model.predict(testX, batch_size=128)\n",
        "print(classification_report(testY.argmax(axis=1),\n",
        "\tpredictions.argmax(axis=1),\n",
        "\ttarget_names=[str(x) for x in lb.classes_]))"
      ],
      "metadata": {
        "colab": {
          "base_uri": "https://localhost:8080/"
        },
        "id": "IG4NaZg4kh9A",
        "outputId": "7ecafee6-640c-460e-abaf-ee64fe03eb05"
      },
      "execution_count": 19,
      "outputs": [
        {
          "output_type": "stream",
          "name": "stdout",
          "text": [
            "[INFO] evaluating network...\n",
            "79/79 [==============================] - 0s 5ms/step\n",
            "              precision    recall  f1-score   support\n",
            "\n",
            "           0       0.94      0.98      0.96       980\n",
            "           1       0.97      0.98      0.97      1135\n",
            "           2       0.93      0.90      0.91      1032\n",
            "           3       0.92      0.90      0.91      1010\n",
            "           4       0.91      0.93      0.92       982\n",
            "           5       0.89      0.87      0.88       892\n",
            "           6       0.93      0.94      0.94       958\n",
            "           7       0.94      0.92      0.93      1028\n",
            "           8       0.89      0.89      0.89       974\n",
            "           9       0.91      0.90      0.90      1009\n",
            "\n",
            "    accuracy                           0.92     10000\n",
            "   macro avg       0.92      0.92      0.92     10000\n",
            "weighted avg       0.92      0.92      0.92     10000\n",
            "\n"
          ]
        }
      ]
    },
    {
      "cell_type": "markdown",
      "source": [
        "트레이닝된 신경망이 얼마나 정확한지 테스트 데이터셋으로 검증을 해본다."
      ],
      "metadata": {
        "id": "Bqtxs2_IklbC"
      }
    },
    {
      "cell_type": "code",
      "source": [
        "plt.style.use(\"ggplot\")\n",
        "plt.figure()\n",
        "plt.plot(np.arange(0, 100), H.history[\"loss\"], label=\"train_loss\")\n",
        "plt.plot(np.arange(0, 100), H.history[\"val_loss\"], label=\"val_loss\")\n",
        "plt.plot(np.arange(0, 100), H.history[\"accuracy\"], label=\"train_acc\")\n",
        "plt.plot(np.arange(0, 100), H.history[\"val_accuracy\"], label=\"val_acc\")\n",
        "plt.title(\"Training Loss and Accuracy\")\n",
        "plt.xlabel(\"Epoch #\")\n",
        "plt.ylabel(\"Loss/Accuracy\")\n",
        "plt.legend()\n",
        "plt.savefig('kera_mnist.png')\n",
        "plt.show()"
      ],
      "metadata": {
        "colab": {
          "base_uri": "https://localhost:8080/",
          "height": 477
        },
        "id": "FTYr-nI0kqfR",
        "outputId": "8fba467f-8ac0-4c29-a41c-c9ed892a8b3a"
      },
      "execution_count": 20,
      "outputs": [
        {
          "output_type": "display_data",
          "data": {
            "text/plain": [
              "<Figure size 640x480 with 1 Axes>"
            ],
            "image/png": "[encoded data removed]"
          },
          "metadata": {}
        }
      ]
    },
    {
      "cell_type": "markdown",
      "source": [
        "신경망의 학습 정확도를 그래픽으로 플로팅 해본다."
      ],
      "metadata": {
        "id": "6RmJjq6nlJun"
      }
    }
  ]
}