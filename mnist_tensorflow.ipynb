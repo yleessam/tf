{
  "nbformat": 4,
  "nbformat_minor": 0,
  "metadata": {
    "colab": {
      "provenance": [],
      "gpuType": "T4",
      "include_colab_link": true
    },
    "kernelspec": {
      "name": "python3",
      "display_name": "Python 3"
    },
    "language_info": {
      "name": "python"
    },
    "accelerator": "GPU"
  },
  "cells": [
    {
      "cell_type": "markdown",
      "metadata": {
        "id": "view-in-github",
        "colab_type": "text"
      },
      "source": [
        "<a href=\"https://colab.research.google.com/github/yleessam/tf/blob/main/mnist_tensorflow.ipynb\" target=\"_parent\"><img src=\"https://colab.research.google.com/assets/colab-badge.svg\" alt=\"Open In Colab\"/></a>"
      ]
    },
    {
      "cell_type": "code",
      "execution_count": 1,
      "metadata": {
        "id": "GDvfSvygV1Yu"
      },
      "outputs": [],
      "source": [
        "from tensorflow.keras.datasets import mnist\n",
        "from tensorflow.keras.models import Sequential\n",
        "from tensorflow.keras.layers import Dense\n",
        "from tensorflow.keras.optimizers import SGD\n",
        "from sklearn.preprocessing import LabelBinarizer\n",
        "from sklearn.metrics import classification_report\n",
        "import cv2\n",
        "import matplotlib.pyplot as plt\n",
        "import numpy as np\n",
        "from google.colab.patches import cv2_imshow"
      ]
    },
    {
      "cell_type": "markdown",
      "source": [
        "MNIST 데이터셋 딥러닝 트레이닝을 위한 필요한 파이썬 모듈 임포트"
      ],
      "metadata": {
        "id": "Cs9d22Y8WG6K"
      }
    },
    {
      "cell_type": "code",
      "source": [
        "((trainX, trainY), (testX, testY)) = mnist.load_data()\n",
        "print(trainX.shape)\n",
        "print(testX.shape)\n",
        "print(trainY[0])\n",
        "print(testY[0])"
      ],
      "metadata": {
        "colab": {
          "base_uri": "https://localhost:8080/"
        },
        "id": "Flujp1CzWiA7",
        "outputId": "e859f11b-f3d0-4eb6-85e0-a5d4f1ba7e49"
      },
      "execution_count": 2,
      "outputs": [
        {
          "output_type": "stream",
          "name": "stdout",
          "text": [
            "Downloading data from https://storage.googleapis.com/tensorflow/tf-keras-datasets/mnist.npz\n",
            "11490434/11490434 [==============================] - 0s 0us/step\n",
            "(60000, 28, 28)\n",
            "(10000, 28, 28)\n",
            "5\n",
            "7\n"
          ]
        }
      ]
    },
    {
      "cell_type": "markdown",
      "source": [
        "MNIST 데이터셋을 다운로드하고 트레이닝용 데이터와 검증용 데이터로 나눈다."
      ],
      "metadata": {
        "id": "vlp0QbL3W3Qu"
      }
    },
    {
      "cell_type": "code",
      "source": [
        "img = cv2.resize(trainX[0], (100, 100))\n",
        "cv2_imshow(img)\n",
        "cv2.waitKey(0)\n",
        "cv2.destroyAllWindows()\n",
        "print(trainY[0])\n",
        "img = cv2.resize(trainX[1], (100, 100))\n",
        "cv2_imshow(img)\n",
        "cv2.waitKey(0)\n",
        "cv2.destroyAllWindows()\n",
        "print(trainY[1])"
      ],
      "metadata": {
        "colab": {
          "base_uri": "https://localhost:8080/",
          "height": 254
        },
        "id": "OXpPA77zYFkw",
        "outputId": "89c65aae-5c50-4775-9d24-c8cd7b271c38"
      },
      "execution_count": 3,
      "outputs": [
        {
          "output_type": "display_data",
          "data": {
            "text/plain": [
              "<PIL.Image.Image image mode=L size=100x100>"
            ],
            "image/png": "[encoded data removed]"
          },
          "metadata": {}
        },
        {
          "output_type": "stream",
          "name": "stdout",
          "text": [
            "5\n"
          ]
        },
        {
          "output_type": "display_data",
          "data": {
            "text/plain": [
              "<PIL.Image.Image image mode=L size=100x100>"
            ],
            "image/png": "[encoded data removed]"
          },
          "metadata": {}
        },
        {
          "output_type": "stream",
          "name": "stdout",
          "text": [
            "0\n"
          ]
        }
      ]
    },
    {
      "cell_type": "markdown",
      "source": [
        "다운로드 된 MNIST 데이터 하나를 디스플레이 해서 보기"
      ],
      "metadata": {
        "id": "63t43AodYW2E"
      }
    },
    {
      "cell_type": "code",
      "source": [
        "trainX = trainX.reshape((trainX.shape[0], 28 * 28 * 1))\n",
        "testX = testX.reshape((testX.shape[0], 28 * 28 * 1))\n",
        "print(trainX.shape)\n",
        "print(testX.shape)"
      ],
      "metadata": {
        "colab": {
          "base_uri": "https://localhost:8080/"
        },
        "id": "hSQtr3P7XBIG",
        "outputId": "db691f1d-166e-4218-db71-26881ab74961"
      },
      "execution_count": 4,
      "outputs": [
        {
          "output_type": "stream",
          "name": "stdout",
          "text": [
            "(60000, 784)\n",
            "(10000, 784)\n"
          ]
        }
      ]
    },
    {
      "cell_type": "markdown",
      "source": [
        "50000 x 28 x 28 x 1 의 행렬 형태의 입력 데이터를 50000 x 784 x 1의 행렬로 만든다. Flattening.  "
      ],
      "metadata": {
        "id": "P-F3CgkQXPXV"
      }
    },
    {
      "cell_type": "code",
      "source": [
        "print(\"Before normalizing: \", trainX[0])\n",
        "trainX = trainX.astype(\"float32\") / 255.0\n",
        "testX = testX.astype(\"float32\") / 255.0\n",
        "print(\"After normalizing: \", trainX[0])"
      ],
      "metadata": {
        "id": "z25Ha2ETacX6",
        "colab": {
          "base_uri": "https://localhost:8080/"
        },
        "outputId": "7f25f7c9-b465-4d77-fe25-49e1e4303053"
      },
      "execution_count": 5,
      "outputs": [
        {
          "output_type": "stream",
          "name": "stdout",
          "text": [
            "Before normalizing:  [  0   0   0   0   0   0   0   0   0   0   0   0   0   0   0   0   0   0\n",
            "   0   0   0   0   0   0   0   0   0   0   0   0   0   0   0   0   0   0\n",
            "   0   0   0   0   0   0   0   0   0   0   0   0   0   0   0   0   0   0\n",
            "   0   0   0   0   0   0   0   0   0   0   0   0   0   0   0   0   0   0\n",
            "   0   0   0   0   0   0   0   0   0   0   0   0   0   0   0   0   0   0\n",
            "   0   0   0   0   0   0   0   0   0   0   0   0   0   0   0   0   0   0\n",
            "   0   0   0   0   0   0   0   0   0   0   0   0   0   0   0   0   0   0\n",
            "   0   0   0   0   0   0   0   0   0   0   0   0   0   0   0   0   0   0\n",
            "   0   0   0   0   0   0   0   0   3  18  18  18 126 136 175  26 166 255\n",
            " 247 127   0   0   0   0   0   0   0   0   0   0   0   0  30  36  94 154\n",
            " 170 253 253 253 253 253 225 172 253 242 195  64   0   0   0   0   0   0\n",
            "   0   0   0   0   0  49 238 253 253 253 253 253 253 253 253 251  93  82\n",
            "  82  56  39   0   0   0   0   0   0   0   0   0   0   0   0  18 219 253\n",
            " 253 253 253 253 198 182 247 241   0   0   0   0   0   0   0   0   0   0\n",
            "   0   0   0   0   0   0   0   0  80 156 107 253 253 205  11   0  43 154\n",
            "   0   0   0   0   0   0   0   0   0   0   0   0   0   0   0   0   0   0\n",
            "   0  14   1 154 253  90   0   0   0   0   0   0   0   0   0   0   0   0\n",
            "   0   0   0   0   0   0   0   0   0   0   0   0   0 139 253 190   2   0\n",
            "   0   0   0   0   0   0   0   0   0   0   0   0   0   0   0   0   0   0\n",
            "   0   0   0   0   0  11 190 253  70   0   0   0   0   0   0   0   0   0\n",
            "   0   0   0   0   0   0   0   0   0   0   0   0   0   0   0   0  35 241\n",
            " 225 160 108   1   0   0   0   0   0   0   0   0   0   0   0   0   0   0\n",
            "   0   0   0   0   0   0   0   0   0  81 240 253 253 119  25   0   0   0\n",
            "   0   0   0   0   0   0   0   0   0   0   0   0   0   0   0   0   0   0\n",
            "   0   0  45 186 253 253 150  27   0   0   0   0   0   0   0   0   0   0\n",
            "   0   0   0   0   0   0   0   0   0   0   0   0   0  16  93 252 253 187\n",
            "   0   0   0   0   0   0   0   0   0   0   0   0   0   0   0   0   0   0\n",
            "   0   0   0   0   0   0   0 249 253 249  64   0   0   0   0   0   0   0\n",
            "   0   0   0   0   0   0   0   0   0   0   0   0   0   0  46 130 183 253\n",
            " 253 207   2   0   0   0   0   0   0   0   0   0   0   0   0   0   0   0\n",
            "   0   0   0   0  39 148 229 253 253 253 250 182   0   0   0   0   0   0\n",
            "   0   0   0   0   0   0   0   0   0   0   0   0  24 114 221 253 253 253\n",
            " 253 201  78   0   0   0   0   0   0   0   0   0   0   0   0   0   0   0\n",
            "   0   0  23  66 213 253 253 253 253 198  81   2   0   0   0   0   0   0\n",
            "   0   0   0   0   0   0   0   0   0   0  18 171 219 253 253 253 253 195\n",
            "  80   9   0   0   0   0   0   0   0   0   0   0   0   0   0   0   0   0\n",
            "  55 172 226 253 253 253 253 244 133  11   0   0   0   0   0   0   0   0\n",
            "   0   0   0   0   0   0   0   0   0   0 136 253 253 253 212 135 132  16\n",
            "   0   0   0   0   0   0   0   0   0   0   0   0   0   0   0   0   0   0\n",
            "   0   0   0   0   0   0   0   0   0   0   0   0   0   0   0   0   0   0\n",
            "   0   0   0   0   0   0   0   0   0   0   0   0   0   0   0   0   0   0\n",
            "   0   0   0   0   0   0   0   0   0   0   0   0   0   0   0   0   0   0\n",
            "   0   0   0   0   0   0   0   0   0   0   0   0   0   0   0   0   0   0\n",
            "   0   0   0   0   0   0   0   0   0   0]\n",
            "After normalizing:  [0.         0.         0.         0.         0.         0.\n",
            " 0.         0.         0.         0.         0.         0.\n",
            " 0.         0.         0.         0.         0.         0.\n",
            " 0.         0.         0.         0.         0.         0.\n",
            " 0.         0.         0.         0.         0.         0.\n",
            " 0.         0.         0.         0.         0.         0.\n",
            " 0.         0.         0.         0.         0.         0.\n",
            " 0.         0.         0.         0.         0.         0.\n",
            " 0.         0.         0.         0.         0.         0.\n",
            " 0.         0.         0.         0.         0.         0.\n",
            " 0.         0.         0.         0.         0.         0.\n",
            " 0.         0.         0.         0.         0.         0.\n",
            " 0.         0.         0.         0.         0.         0.\n",
            " 0.         0.         0.         0.         0.         0.\n",
            " 0.         0.         0.         0.         0.         0.\n",
            " 0.         0.         0.         0.         0.         0.\n",
            " 0.         0.         0.         0.         0.         0.\n",
            " 0.         0.         0.         0.         0.         0.\n",
            " 0.         0.         0.         0.         0.         0.\n",
            " 0.         0.         0.         0.         0.         0.\n",
            " 0.         0.         0.         0.         0.         0.\n",
            " 0.         0.         0.         0.         0.         0.\n",
            " 0.         0.         0.         0.         0.         0.\n",
            " 0.         0.         0.         0.         0.         0.\n",
            " 0.         0.         0.         0.         0.         0.\n",
            " 0.         0.         0.01176471 0.07058824 0.07058824 0.07058824\n",
            " 0.49411765 0.53333336 0.6862745  0.10196079 0.6509804  1.\n",
            " 0.96862745 0.49803922 0.         0.         0.         0.\n",
            " 0.         0.         0.         0.         0.         0.\n",
            " 0.         0.         0.11764706 0.14117648 0.36862746 0.6039216\n",
            " 0.6666667  0.99215686 0.99215686 0.99215686 0.99215686 0.99215686\n",
            " 0.88235295 0.6745098  0.99215686 0.9490196  0.7647059  0.2509804\n",
            " 0.         0.         0.         0.         0.         0.\n",
            " 0.         0.         0.         0.         0.         0.19215687\n",
            " 0.93333334 0.99215686 0.99215686 0.99215686 0.99215686 0.99215686\n",
            " 0.99215686 0.99215686 0.99215686 0.9843137  0.3647059  0.32156864\n",
            " 0.32156864 0.21960784 0.15294118 0.         0.         0.\n",
            " 0.         0.         0.         0.         0.         0.\n",
            " 0.         0.         0.         0.07058824 0.85882354 0.99215686\n",
            " 0.99215686 0.99215686 0.99215686 0.99215686 0.7764706  0.7137255\n",
            " 0.96862745 0.94509804 0.         0.         0.         0.\n",
            " 0.         0.         0.         0.         0.         0.\n",
            " 0.         0.         0.         0.         0.         0.\n",
            " 0.         0.         0.3137255  0.6117647  0.41960785 0.99215686\n",
            " 0.99215686 0.8039216  0.04313726 0.         0.16862746 0.6039216\n",
            " 0.         0.         0.         0.         0.         0.\n",
            " 0.         0.         0.         0.         0.         0.\n",
            " 0.         0.         0.         0.         0.         0.\n",
            " 0.         0.05490196 0.00392157 0.6039216  0.99215686 0.3529412\n",
            " 0.         0.         0.         0.         0.         0.\n",
            " 0.         0.         0.         0.         0.         0.\n",
            " 0.         0.         0.         0.         0.         0.\n",
            " 0.         0.         0.         0.         0.         0.\n",
            " 0.         0.54509807 0.99215686 0.74509805 0.00784314 0.\n",
            " 0.         0.         0.         0.         0.         0.\n",
            " 0.         0.         0.         0.         0.         0.\n",
            " 0.         0.         0.         0.         0.         0.\n",
            " 0.         0.         0.         0.         0.         0.04313726\n",
            " 0.74509805 0.99215686 0.27450982 0.         0.         0.\n",
            " 0.         0.         0.         0.         0.         0.\n",
            " 0.         0.         0.         0.         0.         0.\n",
            " 0.         0.         0.         0.         0.         0.\n",
            " 0.         0.         0.         0.         0.13725491 0.94509804\n",
            " 0.88235295 0.627451   0.42352942 0.00392157 0.         0.\n",
            " 0.         0.         0.         0.         0.         0.\n",
            " 0.         0.         0.         0.         0.         0.\n",
            " 0.         0.         0.         0.         0.         0.\n",
            " 0.         0.         0.         0.31764707 0.9411765  0.99215686\n",
            " 0.99215686 0.46666667 0.09803922 0.         0.         0.\n",
            " 0.         0.         0.         0.         0.         0.\n",
            " 0.         0.         0.         0.         0.         0.\n",
            " 0.         0.         0.         0.         0.         0.\n",
            " 0.         0.         0.1764706  0.7294118  0.99215686 0.99215686\n",
            " 0.5882353  0.10588235 0.         0.         0.         0.\n",
            " 0.         0.         0.         0.         0.         0.\n",
            " 0.         0.         0.         0.         0.         0.\n",
            " 0.         0.         0.         0.         0.         0.\n",
            " 0.         0.0627451  0.3647059  0.9882353  0.99215686 0.73333335\n",
            " 0.         0.         0.         0.         0.         0.\n",
            " 0.         0.         0.         0.         0.         0.\n",
            " 0.         0.         0.         0.         0.         0.\n",
            " 0.         0.         0.         0.         0.         0.\n",
            " 0.         0.9764706  0.99215686 0.9764706  0.2509804  0.\n",
            " 0.         0.         0.         0.         0.         0.\n",
            " 0.         0.         0.         0.         0.         0.\n",
            " 0.         0.         0.         0.         0.         0.\n",
            " 0.         0.         0.18039216 0.50980395 0.7176471  0.99215686\n",
            " 0.99215686 0.8117647  0.00784314 0.         0.         0.\n",
            " 0.         0.         0.         0.         0.         0.\n",
            " 0.         0.         0.         0.         0.         0.\n",
            " 0.         0.         0.         0.         0.15294118 0.5803922\n",
            " 0.8980392  0.99215686 0.99215686 0.99215686 0.98039216 0.7137255\n",
            " 0.         0.         0.         0.         0.         0.\n",
            " 0.         0.         0.         0.         0.         0.\n",
            " 0.         0.         0.         0.         0.         0.\n",
            " 0.09411765 0.44705883 0.8666667  0.99215686 0.99215686 0.99215686\n",
            " 0.99215686 0.7882353  0.30588236 0.         0.         0.\n",
            " 0.         0.         0.         0.         0.         0.\n",
            " 0.         0.         0.         0.         0.         0.\n",
            " 0.         0.         0.09019608 0.25882354 0.8352941  0.99215686\n",
            " 0.99215686 0.99215686 0.99215686 0.7764706  0.31764707 0.00784314\n",
            " 0.         0.         0.         0.         0.         0.\n",
            " 0.         0.         0.         0.         0.         0.\n",
            " 0.         0.         0.         0.         0.07058824 0.67058825\n",
            " 0.85882354 0.99215686 0.99215686 0.99215686 0.99215686 0.7647059\n",
            " 0.3137255  0.03529412 0.         0.         0.         0.\n",
            " 0.         0.         0.         0.         0.         0.\n",
            " 0.         0.         0.         0.         0.         0.\n",
            " 0.21568628 0.6745098  0.8862745  0.99215686 0.99215686 0.99215686\n",
            " 0.99215686 0.95686275 0.52156866 0.04313726 0.         0.\n",
            " 0.         0.         0.         0.         0.         0.\n",
            " 0.         0.         0.         0.         0.         0.\n",
            " 0.         0.         0.         0.         0.53333336 0.99215686\n",
            " 0.99215686 0.99215686 0.83137256 0.5294118  0.5176471  0.0627451\n",
            " 0.         0.         0.         0.         0.         0.\n",
            " 0.         0.         0.         0.         0.         0.\n",
            " 0.         0.         0.         0.         0.         0.\n",
            " 0.         0.         0.         0.         0.         0.\n",
            " 0.         0.         0.         0.         0.         0.\n",
            " 0.         0.         0.         0.         0.         0.\n",
            " 0.         0.         0.         0.         0.         0.\n",
            " 0.         0.         0.         0.         0.         0.\n",
            " 0.         0.         0.         0.         0.         0.\n",
            " 0.         0.         0.         0.         0.         0.\n",
            " 0.         0.         0.         0.         0.         0.\n",
            " 0.         0.         0.         0.         0.         0.\n",
            " 0.         0.         0.         0.         0.         0.\n",
            " 0.         0.         0.         0.         0.         0.\n",
            " 0.         0.         0.         0.         0.         0.\n",
            " 0.         0.         0.         0.         0.         0.\n",
            " 0.         0.         0.         0.        ]\n"
          ]
        }
      ]
    },
    {
      "cell_type": "markdown",
      "source": [
        "입력 데이터의 flattening 이후에는 입력 데이터를 normalizing한다. Normalizing이전에는 입력데이터 하나하나의 값이 0 ~ 255인데, normalizing이후에는 0~1로 변경된다."
      ],
      "metadata": {
        "id": "esfdS4s6bMp_"
      }
    },
    {
      "cell_type": "code",
      "source": [
        "print(\"Before label binarizing (trainY[0]): \", trainY[0])\n",
        "lb = LabelBinarizer()\n",
        "trainY = lb.fit_transform(trainY)\n",
        "testY = lb.transform(testY)\n",
        "print(\"Before label binarizing (trainY[0]): \", trainY[0])"
      ],
      "metadata": {
        "colab": {
          "base_uri": "https://localhost:8080/"
        },
        "id": "SVW9FFkkbh7f",
        "outputId": "9c73b0cc-f57f-44ad-ee3c-ce4cb3537aa8"
      },
      "execution_count": 6,
      "outputs": [
        {
          "output_type": "stream",
          "name": "stdout",
          "text": [
            "Before label binarizing (trainY[0]):  5\n",
            "Before label binarizing (trainY[0]):  [0 0 0 0 0 1 0 0 0 0]\n"
          ]
        }
      ]
    },
    {
      "cell_type": "code",
      "source": [
        "sgd = SGD(0.01)\n",
        "model = Sequential()\n",
        "model.add(Dense(256, input_shape=(784,), activation=\"sigmoid\"))\n",
        "model.add(Dense(128, activation=\"sigmoid\"))\n",
        "model.add(Dense(10, activation=\"softmax\"))"
      ],
      "metadata": {
        "id": "lSUEexoLW38H"
      },
      "execution_count": 7,
      "outputs": []
    },
    {
      "cell_type": "markdown",
      "source": [
        "역전파를 수행하는 경사강하법을 효율적으로 하기 위해서 옵티마이저를 SGD를 사용한다.\n",
        "텐서플로의 Sequencial 모듈을 사용해서 신경망을 구성한다.\n",
        "신경망은 입력을 제외하고 2개의 레이어 (256, 128, 10) 3개의 레이어로 구성된다. 마지막 레이어는 출력 레이어로 출력은 10개이다.\n"
      ],
      "metadata": {
        "id": "_GHPCbVxc-22"
      }
    },
    {
      "cell_type": "code",
      "source": [
        "model.compile(loss=\"categorical_crossentropy\", optimizer=sgd,\n",
        "\tmetrics=[\"accuracy\"])"
      ],
      "metadata": {
        "id": "gMzFQFWgoMcQ"
      },
      "execution_count": 8,
      "outputs": []
    },
    {
      "cell_type": "markdown",
      "source": [
        "Sequential로 구성한 신경망 모델은 compile 명령을 통해서 만들어진다. 이때 로스함수(에러함수), 경사강하법에 사용되는 옵티마이저, metrics를 입력한다."
      ],
      "metadata": {
        "id": "TAbWaxhSoOxI"
      }
    },
    {
      "cell_type": "code",
      "source": [
        "H = model.fit(trainX, trainY, validation_data=(testX, testY),\n",
        "\tepochs=100, batch_size=128)"
      ],
      "metadata": {
        "id": "KQqobOiLpKTb",
        "colab": {
          "base_uri": "https://localhost:8080/"
        },
        "outputId": "d7df84f6-20bb-402c-eeb2-4bb51bf2d5d7"
      },
      "execution_count": 9,
      "outputs": [
        {
          "output_type": "stream",
          "name": "stdout",
          "text": [
            "Epoch 1/100\n",
            "469/469 [==============================] - 6s 8ms/step - loss: 2.2811 - accuracy: 0.2020 - val_loss: 2.2409 - val_accuracy: 0.3724\n",
            "Epoch 2/100\n",
            "469/469 [==============================] - 3s 7ms/step - loss: 2.2040 - accuracy: 0.4057 - val_loss: 2.1600 - val_accuracy: 0.5272\n",
            "Epoch 3/100\n",
            "469/469 [==============================] - 3s 7ms/step - loss: 2.1115 - accuracy: 0.5352 - val_loss: 2.0471 - val_accuracy: 0.5712\n",
            "Epoch 4/100\n",
            "469/469 [==============================] - 3s 6ms/step - loss: 1.9774 - accuracy: 0.5940 - val_loss: 1.8857 - val_accuracy: 0.6194\n",
            "Epoch 5/100\n",
            "469/469 [==============================] - 2s 5ms/step - loss: 1.7946 - accuracy: 0.6406 - val_loss: 1.6797 - val_accuracy: 0.6830\n",
            "Epoch 6/100\n",
            "469/469 [==============================] - 2s 3ms/step - loss: 1.5839 - accuracy: 0.6808 - val_loss: 1.4657 - val_accuracy: 0.7117\n",
            "Epoch 7/100\n",
            "469/469 [==============================] - 2s 4ms/step - loss: 1.3823 - accuracy: 0.7186 - val_loss: 1.2758 - val_accuracy: 0.7369\n",
            "Epoch 8/100\n",
            "469/469 [==============================] - 2s 3ms/step - loss: 1.2088 - accuracy: 0.7458 - val_loss: 1.1170 - val_accuracy: 0.7668\n",
            "Epoch 9/100\n",
            "469/469 [==============================] - 2s 4ms/step - loss: 1.0657 - accuracy: 0.7690 - val_loss: 0.9882 - val_accuracy: 0.7878\n",
            "Epoch 10/100\n",
            "469/469 [==============================] - 2s 4ms/step - loss: 0.9508 - accuracy: 0.7882 - val_loss: 0.8855 - val_accuracy: 0.8003\n",
            "Epoch 11/100\n",
            "469/469 [==============================] - 2s 3ms/step - loss: 0.8592 - accuracy: 0.8016 - val_loss: 0.8046 - val_accuracy: 0.8153\n",
            "Epoch 12/100\n",
            "469/469 [==============================] - 2s 4ms/step - loss: 0.7864 - accuracy: 0.8148 - val_loss: 0.7393 - val_accuracy: 0.8245\n",
            "Epoch 13/100\n",
            "469/469 [==============================] - 2s 3ms/step - loss: 0.7276 - accuracy: 0.8247 - val_loss: 0.6867 - val_accuracy: 0.8353\n",
            "Epoch 14/100\n",
            "469/469 [==============================] - 2s 3ms/step - loss: 0.6796 - accuracy: 0.8325 - val_loss: 0.6426 - val_accuracy: 0.8414\n",
            "Epoch 15/100\n",
            "469/469 [==============================] - 2s 4ms/step - loss: 0.6398 - accuracy: 0.8408 - val_loss: 0.6064 - val_accuracy: 0.8480\n",
            "Epoch 16/100\n",
            "469/469 [==============================] - 2s 5ms/step - loss: 0.6062 - accuracy: 0.8471 - val_loss: 0.5756 - val_accuracy: 0.8541\n",
            "Epoch 17/100\n",
            "469/469 [==============================] - 2s 4ms/step - loss: 0.5776 - accuracy: 0.8530 - val_loss: 0.5488 - val_accuracy: 0.8599\n",
            "Epoch 18/100\n",
            "469/469 [==============================] - 2s 4ms/step - loss: 0.5529 - accuracy: 0.8577 - val_loss: 0.5263 - val_accuracy: 0.8643\n",
            "Epoch 19/100\n",
            "469/469 [==============================] - 2s 3ms/step - loss: 0.5314 - accuracy: 0.8629 - val_loss: 0.5060 - val_accuracy: 0.8693\n",
            "Epoch 20/100\n",
            "469/469 [==============================] - 2s 3ms/step - loss: 0.5125 - accuracy: 0.8670 - val_loss: 0.4882 - val_accuracy: 0.8733\n",
            "Epoch 21/100\n",
            "469/469 [==============================] - 2s 3ms/step - loss: 0.4957 - accuracy: 0.8706 - val_loss: 0.4727 - val_accuracy: 0.8754\n",
            "Epoch 22/100\n",
            "469/469 [==============================] - 2s 3ms/step - loss: 0.4808 - accuracy: 0.8746 - val_loss: 0.4588 - val_accuracy: 0.8789\n",
            "Epoch 23/100\n",
            "469/469 [==============================] - 2s 5ms/step - loss: 0.4675 - accuracy: 0.8774 - val_loss: 0.4462 - val_accuracy: 0.8815\n",
            "Epoch 24/100\n",
            "469/469 [==============================] - 2s 3ms/step - loss: 0.4555 - accuracy: 0.8805 - val_loss: 0.4349 - val_accuracy: 0.8838\n",
            "Epoch 25/100\n",
            "469/469 [==============================] - 2s 3ms/step - loss: 0.4447 - accuracy: 0.8825 - val_loss: 0.4252 - val_accuracy: 0.8864\n",
            "Epoch 26/100\n",
            "469/469 [==============================] - 2s 4ms/step - loss: 0.4350 - accuracy: 0.8847 - val_loss: 0.4159 - val_accuracy: 0.8881\n",
            "Epoch 27/100\n",
            "469/469 [==============================] - 2s 4ms/step - loss: 0.4261 - accuracy: 0.8867 - val_loss: 0.4073 - val_accuracy: 0.8899\n",
            "Epoch 28/100\n",
            "469/469 [==============================] - 2s 3ms/step - loss: 0.4181 - accuracy: 0.8882 - val_loss: 0.4001 - val_accuracy: 0.8918\n",
            "Epoch 29/100\n",
            "469/469 [==============================] - 2s 4ms/step - loss: 0.4107 - accuracy: 0.8897 - val_loss: 0.3930 - val_accuracy: 0.8934\n",
            "Epoch 30/100\n",
            "469/469 [==============================] - 2s 5ms/step - loss: 0.4039 - accuracy: 0.8909 - val_loss: 0.3867 - val_accuracy: 0.8948\n",
            "Epoch 31/100\n",
            "469/469 [==============================] - 2s 3ms/step - loss: 0.3977 - accuracy: 0.8922 - val_loss: 0.3809 - val_accuracy: 0.8950\n",
            "Epoch 32/100\n",
            "469/469 [==============================] - 2s 4ms/step - loss: 0.3920 - accuracy: 0.8934 - val_loss: 0.3757 - val_accuracy: 0.8965\n",
            "Epoch 33/100\n",
            "469/469 [==============================] - 2s 3ms/step - loss: 0.3866 - accuracy: 0.8943 - val_loss: 0.3705 - val_accuracy: 0.8986\n",
            "Epoch 34/100\n",
            "469/469 [==============================] - 2s 3ms/step - loss: 0.3817 - accuracy: 0.8952 - val_loss: 0.3658 - val_accuracy: 0.8999\n",
            "Epoch 35/100\n",
            "469/469 [==============================] - 2s 3ms/step - loss: 0.3770 - accuracy: 0.8961 - val_loss: 0.3617 - val_accuracy: 0.8999\n",
            "Epoch 36/100\n",
            "469/469 [==============================] - 2s 3ms/step - loss: 0.3728 - accuracy: 0.8966 - val_loss: 0.3578 - val_accuracy: 0.9006\n",
            "Epoch 37/100\n",
            "469/469 [==============================] - 2s 5ms/step - loss: 0.3687 - accuracy: 0.8974 - val_loss: 0.3541 - val_accuracy: 0.9020\n",
            "Epoch 38/100\n",
            "469/469 [==============================] - 2s 4ms/step - loss: 0.3649 - accuracy: 0.8983 - val_loss: 0.3504 - val_accuracy: 0.9028\n",
            "Epoch 39/100\n",
            "469/469 [==============================] - 2s 3ms/step - loss: 0.3613 - accuracy: 0.8986 - val_loss: 0.3470 - val_accuracy: 0.9034\n",
            "Epoch 40/100\n",
            "469/469 [==============================] - 2s 4ms/step - loss: 0.3579 - accuracy: 0.8994 - val_loss: 0.3437 - val_accuracy: 0.9035\n",
            "Epoch 41/100\n",
            "469/469 [==============================] - 2s 3ms/step - loss: 0.3547 - accuracy: 0.9003 - val_loss: 0.3411 - val_accuracy: 0.9046\n",
            "Epoch 42/100\n",
            "469/469 [==============================] - 2s 3ms/step - loss: 0.3516 - accuracy: 0.9007 - val_loss: 0.3378 - val_accuracy: 0.9047\n",
            "Epoch 43/100\n",
            "469/469 [==============================] - 2s 4ms/step - loss: 0.3487 - accuracy: 0.9013 - val_loss: 0.3354 - val_accuracy: 0.9053\n",
            "Epoch 44/100\n",
            "469/469 [==============================] - 2s 4ms/step - loss: 0.3459 - accuracy: 0.9019 - val_loss: 0.3327 - val_accuracy: 0.9062\n",
            "Epoch 45/100\n",
            "469/469 [==============================] - 2s 4ms/step - loss: 0.3432 - accuracy: 0.9026 - val_loss: 0.3303 - val_accuracy: 0.9068\n",
            "Epoch 46/100\n",
            "469/469 [==============================] - 2s 4ms/step - loss: 0.3407 - accuracy: 0.9029 - val_loss: 0.3275 - val_accuracy: 0.9078\n",
            "Epoch 47/100\n",
            "469/469 [==============================] - 2s 4ms/step - loss: 0.3382 - accuracy: 0.9037 - val_loss: 0.3253 - val_accuracy: 0.9082\n",
            "Epoch 48/100\n",
            "469/469 [==============================] - 2s 5ms/step - loss: 0.3359 - accuracy: 0.9042 - val_loss: 0.3235 - val_accuracy: 0.9088\n",
            "Epoch 49/100\n",
            "469/469 [==============================] - 2s 4ms/step - loss: 0.3336 - accuracy: 0.9044 - val_loss: 0.3212 - val_accuracy: 0.9091\n",
            "Epoch 50/100\n",
            "469/469 [==============================] - 2s 4ms/step - loss: 0.3313 - accuracy: 0.9054 - val_loss: 0.3194 - val_accuracy: 0.9087\n",
            "Epoch 51/100\n",
            "469/469 [==============================] - 2s 4ms/step - loss: 0.3293 - accuracy: 0.9058 - val_loss: 0.3173 - val_accuracy: 0.9092\n",
            "Epoch 52/100\n",
            "469/469 [==============================] - 2s 4ms/step - loss: 0.3272 - accuracy: 0.9063 - val_loss: 0.3152 - val_accuracy: 0.9099\n",
            "Epoch 53/100\n",
            "469/469 [==============================] - 2s 4ms/step - loss: 0.3252 - accuracy: 0.9067 - val_loss: 0.3138 - val_accuracy: 0.9115\n",
            "Epoch 54/100\n",
            "469/469 [==============================] - 2s 4ms/step - loss: 0.3233 - accuracy: 0.9075 - val_loss: 0.3122 - val_accuracy: 0.9105\n",
            "Epoch 55/100\n",
            "469/469 [==============================] - 2s 4ms/step - loss: 0.3215 - accuracy: 0.9079 - val_loss: 0.3101 - val_accuracy: 0.9127\n",
            "Epoch 56/100\n",
            "469/469 [==============================] - 2s 4ms/step - loss: 0.3196 - accuracy: 0.9083 - val_loss: 0.3090 - val_accuracy: 0.9121\n",
            "Epoch 57/100\n",
            "469/469 [==============================] - 2s 5ms/step - loss: 0.3180 - accuracy: 0.9085 - val_loss: 0.3066 - val_accuracy: 0.9125\n",
            "Epoch 58/100\n",
            "469/469 [==============================] - 2s 3ms/step - loss: 0.3162 - accuracy: 0.9093 - val_loss: 0.3054 - val_accuracy: 0.9128\n",
            "Epoch 59/100\n",
            "469/469 [==============================] - 2s 4ms/step - loss: 0.3145 - accuracy: 0.9098 - val_loss: 0.3039 - val_accuracy: 0.9132\n",
            "Epoch 60/100\n",
            "469/469 [==============================] - 2s 3ms/step - loss: 0.3129 - accuracy: 0.9105 - val_loss: 0.3024 - val_accuracy: 0.9141\n",
            "Epoch 61/100\n",
            "469/469 [==============================] - 2s 3ms/step - loss: 0.3114 - accuracy: 0.9105 - val_loss: 0.3010 - val_accuracy: 0.9143\n",
            "Epoch 62/100\n",
            "469/469 [==============================] - 2s 4ms/step - loss: 0.3098 - accuracy: 0.9110 - val_loss: 0.2998 - val_accuracy: 0.9148\n",
            "Epoch 63/100\n",
            "469/469 [==============================] - 2s 4ms/step - loss: 0.3083 - accuracy: 0.9118 - val_loss: 0.2982 - val_accuracy: 0.9149\n",
            "Epoch 64/100\n",
            "469/469 [==============================] - 2s 5ms/step - loss: 0.3068 - accuracy: 0.9117 - val_loss: 0.2970 - val_accuracy: 0.9156\n",
            "Epoch 65/100\n",
            "469/469 [==============================] - 2s 4ms/step - loss: 0.3054 - accuracy: 0.9121 - val_loss: 0.2953 - val_accuracy: 0.9166\n",
            "Epoch 66/100\n",
            "469/469 [==============================] - 2s 3ms/step - loss: 0.3039 - accuracy: 0.9125 - val_loss: 0.2946 - val_accuracy: 0.9151\n",
            "Epoch 67/100\n",
            "469/469 [==============================] - 2s 4ms/step - loss: 0.3027 - accuracy: 0.9127 - val_loss: 0.2930 - val_accuracy: 0.9171\n",
            "Epoch 68/100\n",
            "469/469 [==============================] - 2s 4ms/step - loss: 0.3011 - accuracy: 0.9135 - val_loss: 0.2918 - val_accuracy: 0.9164\n",
            "Epoch 69/100\n",
            "469/469 [==============================] - 2s 3ms/step - loss: 0.3000 - accuracy: 0.9137 - val_loss: 0.2903 - val_accuracy: 0.9171\n",
            "Epoch 70/100\n",
            "469/469 [==============================] - 2s 4ms/step - loss: 0.2987 - accuracy: 0.9140 - val_loss: 0.2894 - val_accuracy: 0.9175\n",
            "Epoch 71/100\n",
            "469/469 [==============================] - 2s 4ms/step - loss: 0.2974 - accuracy: 0.9144 - val_loss: 0.2884 - val_accuracy: 0.9177\n",
            "Epoch 72/100\n",
            "469/469 [==============================] - 2s 3ms/step - loss: 0.2961 - accuracy: 0.9143 - val_loss: 0.2873 - val_accuracy: 0.9179\n",
            "Epoch 73/100\n",
            "469/469 [==============================] - 2s 3ms/step - loss: 0.2949 - accuracy: 0.9148 - val_loss: 0.2865 - val_accuracy: 0.9188\n",
            "Epoch 74/100\n",
            "469/469 [==============================] - 2s 4ms/step - loss: 0.2938 - accuracy: 0.9152 - val_loss: 0.2850 - val_accuracy: 0.9191\n",
            "Epoch 75/100\n",
            "469/469 [==============================] - 2s 4ms/step - loss: 0.2925 - accuracy: 0.9157 - val_loss: 0.2839 - val_accuracy: 0.9188\n",
            "Epoch 76/100\n",
            "469/469 [==============================] - 2s 3ms/step - loss: 0.2913 - accuracy: 0.9156 - val_loss: 0.2832 - val_accuracy: 0.9188\n",
            "Epoch 77/100\n",
            "469/469 [==============================] - 2s 4ms/step - loss: 0.2903 - accuracy: 0.9160 - val_loss: 0.2824 - val_accuracy: 0.9189\n",
            "Epoch 78/100\n",
            "469/469 [==============================] - 2s 4ms/step - loss: 0.2890 - accuracy: 0.9163 - val_loss: 0.2812 - val_accuracy: 0.9200\n",
            "Epoch 79/100\n",
            "469/469 [==============================] - 2s 4ms/step - loss: 0.2880 - accuracy: 0.9167 - val_loss: 0.2801 - val_accuracy: 0.9204\n",
            "Epoch 80/100\n",
            "469/469 [==============================] - 2s 3ms/step - loss: 0.2869 - accuracy: 0.9172 - val_loss: 0.2794 - val_accuracy: 0.9210\n",
            "Epoch 81/100\n",
            "469/469 [==============================] - 2s 4ms/step - loss: 0.2858 - accuracy: 0.9173 - val_loss: 0.2777 - val_accuracy: 0.9209\n",
            "Epoch 82/100\n",
            "469/469 [==============================] - 2s 4ms/step - loss: 0.2847 - accuracy: 0.9175 - val_loss: 0.2772 - val_accuracy: 0.9210\n",
            "Epoch 83/100\n",
            "469/469 [==============================] - 2s 4ms/step - loss: 0.2837 - accuracy: 0.9176 - val_loss: 0.2759 - val_accuracy: 0.9217\n",
            "Epoch 84/100\n",
            "469/469 [==============================] - 2s 4ms/step - loss: 0.2827 - accuracy: 0.9181 - val_loss: 0.2748 - val_accuracy: 0.9220\n",
            "Epoch 85/100\n",
            "469/469 [==============================] - 2s 4ms/step - loss: 0.2816 - accuracy: 0.9181 - val_loss: 0.2745 - val_accuracy: 0.9215\n",
            "Epoch 86/100\n",
            "469/469 [==============================] - 2s 4ms/step - loss: 0.2806 - accuracy: 0.9184 - val_loss: 0.2734 - val_accuracy: 0.9226\n",
            "Epoch 87/100\n",
            "469/469 [==============================] - 2s 3ms/step - loss: 0.2796 - accuracy: 0.9190 - val_loss: 0.2728 - val_accuracy: 0.9224\n",
            "Epoch 88/100\n",
            "469/469 [==============================] - 2s 3ms/step - loss: 0.2786 - accuracy: 0.9193 - val_loss: 0.2720 - val_accuracy: 0.9227\n",
            "Epoch 89/100\n",
            "469/469 [==============================] - 2s 3ms/step - loss: 0.2776 - accuracy: 0.9196 - val_loss: 0.2711 - val_accuracy: 0.9224\n",
            "Epoch 90/100\n",
            "469/469 [==============================] - 2s 4ms/step - loss: 0.2766 - accuracy: 0.9197 - val_loss: 0.2699 - val_accuracy: 0.9230\n",
            "Epoch 91/100\n",
            "469/469 [==============================] - 2s 5ms/step - loss: 0.2757 - accuracy: 0.9196 - val_loss: 0.2693 - val_accuracy: 0.9232\n",
            "Epoch 92/100\n",
            "469/469 [==============================] - 2s 3ms/step - loss: 0.2747 - accuracy: 0.9200 - val_loss: 0.2686 - val_accuracy: 0.9226\n",
            "Epoch 93/100\n",
            "469/469 [==============================] - 2s 3ms/step - loss: 0.2738 - accuracy: 0.9202 - val_loss: 0.2674 - val_accuracy: 0.9232\n",
            "Epoch 94/100\n",
            "469/469 [==============================] - 2s 4ms/step - loss: 0.2729 - accuracy: 0.9207 - val_loss: 0.2668 - val_accuracy: 0.9234\n",
            "Epoch 95/100\n",
            "469/469 [==============================] - 2s 4ms/step - loss: 0.2719 - accuracy: 0.9210 - val_loss: 0.2662 - val_accuracy: 0.9231\n",
            "Epoch 96/100\n",
            "469/469 [==============================] - 2s 4ms/step - loss: 0.2711 - accuracy: 0.9212 - val_loss: 0.2650 - val_accuracy: 0.9236\n",
            "Epoch 97/100\n",
            "469/469 [==============================] - 2s 4ms/step - loss: 0.2701 - accuracy: 0.9215 - val_loss: 0.2641 - val_accuracy: 0.9240\n",
            "Epoch 98/100\n",
            "469/469 [==============================] - 2s 4ms/step - loss: 0.2693 - accuracy: 0.9216 - val_loss: 0.2638 - val_accuracy: 0.9237\n",
            "Epoch 99/100\n",
            "469/469 [==============================] - 2s 3ms/step - loss: 0.2683 - accuracy: 0.9219 - val_loss: 0.2632 - val_accuracy: 0.9230\n",
            "Epoch 100/100\n",
            "469/469 [==============================] - 2s 4ms/step - loss: 0.2675 - accuracy: 0.9221 - val_loss: 0.2620 - val_accuracy: 0.9245\n"
          ]
        }
      ]
    },
    {
      "cell_type": "markdown",
      "source": [
        "fit 명령을 통해서 신경망 트레이닝을 진행한다. epochs에 지정된 회수만큼 트레이닝을 반복진행한다. batch_size는 한번에 신경망에 투입되는 입력값의 갯수이다."
      ],
      "metadata": {
        "id": "FOti1eiBWudN"
      }
    },
    {
      "cell_type": "code",
      "source": [
        "#img = cv2.imread('2_1.png')\n",
        "img= cv2.imread('mynumber.png')\n",
        "cv2_imshow(img)\n",
        "cv2.waitKey(0)\n",
        "cv2.destroyAllWindows()"
      ],
      "metadata": {
        "colab": {
          "base_uri": "https://localhost:8080/",
          "height": 117
        },
        "id": "qBRfEbbfXwK6",
        "outputId": "0848684f-9d3b-420a-ae92-adaea484cee4"
      },
      "execution_count": 12,
      "outputs": [
        {
          "output_type": "display_data",
          "data": {
            "text/plain": [
              "<PIL.Image.Image image mode=RGB size=100x100>"
            ],
            "image/png": "[encoded data removed]"
          },
          "metadata": {}
        }
      ]
    },
    {
      "cell_type": "markdown",
      "source": [
        "신경망 트레이닝이 끝이나면 테스트를 위해서 숫자 이미지를 로드한다."
      ],
      "metadata": {
        "id": "zH3kRfwHbNkP"
      }
    },
    {
      "cell_type": "code",
      "source": [
        "img = cv2.resize(img, (28,28))\n",
        "img = cv2.cvtColor(img, cv2.COLOR_BGR2GRAY)\n",
        "img = np.reshape(img, (784, ))\n",
        "\n",
        "X = np.asarray([img])\n",
        "predictions = model(X, training=False)\n",
        "print(predictions)\n",
        "print(np.argmax(predictions))"
      ],
      "metadata": {
        "colab": {
          "base_uri": "https://localhost:8080/"
        },
        "id": "0UoyD3jsfugO",
        "outputId": "c444dccf-40f3-45c7-be69-fcf3b78042a2"
      },
      "execution_count": 13,
      "outputs": [
        {
          "output_type": "stream",
          "name": "stdout",
          "text": [
            "tf.Tensor(\n",
            "[[7.8034168e-03 7.3780183e-07 2.5472003e-01 2.5417792e-02 8.3801024e-06\n",
            "  1.1243185e-02 5.2773848e-05 2.8543570e-07 7.0074338e-01 1.0008124e-05]], shape=(1, 10), dtype=float32)\n",
            "8\n"
          ]
        }
      ]
    },
    {
      "cell_type": "markdown",
      "source": [
        "로드된 숫자 이미지를 신경망에 통과시켜서 숫자값을 예측해 본다. 트레이닝 데이터와 로드한 숫자 이미지 데이터를 비교해서 데이터가 제대로 학습이 되었는지 비교해볼 수 있다."
      ],
      "metadata": {
        "id": "VYxqqtLYjzO4"
      }
    },
    {
      "cell_type": "code",
      "source": [
        "#두번째 테스트\n",
        "#img = cv2.imread('2_1.png')\n",
        "img= cv2.imread('mynumber2.png')\n",
        "cv2_imshow(img)\n",
        "cv2.waitKey(0)\n",
        "cv2.destroyAllWindows()"
      ],
      "metadata": {
        "id": "7pVnz11H2_FE",
        "outputId": "aeaddebb-391f-4916-909b-2c869c9a980c",
        "colab": {
          "base_uri": "https://localhost:8080/",
          "height": 45
        }
      },
      "execution_count": 23,
      "outputs": [
        {
          "output_type": "display_data",
          "data": {
            "text/plain": [
              "<PIL.Image.Image image mode=RGB size=28x28>"
            ],
            "image/png": "[encoded data removed]"
          },
          "metadata": {}
        }
      ]
    },
    {
      "cell_type": "code",
      "source": [
        "img = cv2.resize(img, (28,28))\n",
        "img = cv2.cvtColor(img, cv2.COLOR_BGR2GRAY)\n",
        "img = np.reshape(img, (784, ))\n",
        "\n",
        "X = np.asarray([img])\n",
        "predictions = model(X, training=False)\n",
        "print(predictions)\n",
        "print(np.argmax(predictions))"
      ],
      "metadata": {
        "id": "Oh8T5uLx3DVa",
        "outputId": "9ba8ce52-f464-459f-8558-f19d2d559e5d",
        "colab": {
          "base_uri": "https://localhost:8080/"
        }
      },
      "execution_count": 24,
      "outputs": [
        {
          "output_type": "stream",
          "name": "stdout",
          "text": [
            "tf.Tensor(\n",
            "[[1.5995646e-08 6.0475583e-07 2.8883774e-06 9.9998987e-01 7.5115469e-10\n",
            "  1.0283240e-06 3.4710203e-12 2.1369030e-06 1.5867112e-06 1.8607319e-06]], shape=(1, 10), dtype=float32)\n",
            "3\n"
          ]
        }
      ]
    },
    {
      "cell_type": "code",
      "source": [
        "#세번째 테스트\n",
        "#img = cv2.imread('2_1.png')\n",
        "img= cv2.imread('4.png')\n",
        "cv2_imshow(img)\n",
        "cv2.waitKey(0)\n",
        "cv2.destroyAllWindows()"
      ],
      "metadata": {
        "id": "kBejfuuD1j8o",
        "outputId": "f0ecec40-e17f-404e-967e-39935229feaa",
        "colab": {
          "base_uri": "https://localhost:8080/",
          "height": 287
        }
      },
      "execution_count": 25,
      "outputs": [
        {
          "output_type": "display_data",
          "data": {
            "text/plain": [
              "<PIL.Image.Image image mode=RGB size=276x270>"
            ],
            "image/png": "[encoded data removed]"
          },
          "metadata": {}
        }
      ]
    },
    {
      "cell_type": "code",
      "source": [
        "img = cv2.resize(img, (28,28))\n",
        "img = cv2.cvtColor(img, cv2.COLOR_BGR2GRAY)\n",
        "img = np.reshape(img, (784, ))\n",
        "\n",
        "X = np.asarray([img])\n",
        "predictions = model(X, training=False)\n",
        "print(predictions)\n",
        "print(np.argmax(predictions))"
      ],
      "metadata": {
        "id": "rKeh5gH31vix",
        "outputId": "15859c50-5003-48dc-8d2c-e3091d3881d5",
        "colab": {
          "base_uri": "https://localhost:8080/"
        }
      },
      "execution_count": 26,
      "outputs": [
        {
          "output_type": "stream",
          "name": "stdout",
          "text": [
            "tf.Tensor(\n",
            "[[1.5600037e-05 6.2087961e-09 4.0603540e-05 9.0097028e-06 6.3997430e-01\n",
            "  1.6831442e-05 1.8841594e-04 9.6458927e-05 2.5098959e-03 3.5714886e-01]], shape=(1, 10), dtype=float32)\n",
            "4\n"
          ]
        }
      ]
    },
    {
      "cell_type": "code",
      "source": [
        "print(\"[INFO] evaluating network...\")\n",
        "predictions = model.predict(testX, batch_size=128)\n",
        "print(classification_report(testY.argmax(axis=1),\n",
        "\tpredictions.argmax(axis=1),\n",
        "\ttarget_names=[str(x) for x in lb.classes_]))"
      ],
      "metadata": {
        "colab": {
          "base_uri": "https://localhost:8080/"
        },
        "id": "IG4NaZg4kh9A",
        "outputId": "96b65b8d-3d9b-4ffd-f2d4-fd02e44a1dfc"
      },
      "execution_count": 27,
      "outputs": [
        {
          "output_type": "stream",
          "name": "stdout",
          "text": [
            "[INFO] evaluating network...\n",
            "79/79 [==============================] - 0s 2ms/step\n",
            "              precision    recall  f1-score   support\n",
            "\n",
            "           0       0.94      0.98      0.96       980\n",
            "           1       0.97      0.97      0.97      1135\n",
            "           2       0.92      0.90      0.91      1032\n",
            "           3       0.90      0.91      0.91      1010\n",
            "           4       0.92      0.93      0.92       982\n",
            "           5       0.91      0.86      0.88       892\n",
            "           6       0.93      0.95      0.94       958\n",
            "           7       0.93      0.92      0.93      1028\n",
            "           8       0.90      0.89      0.90       974\n",
            "           9       0.91      0.91      0.91      1009\n",
            "\n",
            "    accuracy                           0.92     10000\n",
            "   macro avg       0.92      0.92      0.92     10000\n",
            "weighted avg       0.92      0.92      0.92     10000\n",
            "\n"
          ]
        }
      ]
    },
    {
      "cell_type": "markdown",
      "source": [
        "트레이닝된 신경망이 얼마나 정확한지 테스트 데이터셋으로 검증을 해본다."
      ],
      "metadata": {
        "id": "Bqtxs2_IklbC"
      }
    },
    {
      "cell_type": "code",
      "source": [
        "plt.style.use(\"ggplot\")\n",
        "plt.figure()\n",
        "plt.plot(np.arange(0, 100), H.history[\"loss\"], label=\"train_loss\")\n",
        "plt.plot(np.arange(0, 100), H.history[\"val_loss\"], label=\"val_loss\")\n",
        "plt.plot(np.arange(0, 100), H.history[\"accuracy\"], label=\"train_acc\")\n",
        "plt.plot(np.arange(0, 100), H.history[\"val_accuracy\"], label=\"val_acc\")\n",
        "plt.title(\"Training Loss and Accuracy\")\n",
        "plt.xlabel(\"Epoch #\")\n",
        "plt.ylabel(\"Loss/Accuracy\")\n",
        "plt.legend()\n",
        "plt.savefig('kera_mnist.png')\n",
        "plt.show()"
      ],
      "metadata": {
        "colab": {
          "base_uri": "https://localhost:8080/",
          "height": 477
        },
        "id": "FTYr-nI0kqfR",
        "outputId": "b6d21cad-b49f-4332-9f00-021e70a6a15b"
      },
      "execution_count": 28,
      "outputs": [
        {
          "output_type": "display_data",
          "data": {
            "text/plain": [
              "<Figure size 640x480 with 1 Axes>"
            ],
            "image/png": "[encoded data removed]"
          },
          "metadata": {}
        }
      ]
    },
    {
      "cell_type": "markdown",
      "source": [
        "신경망의 학습 정확도를 그래픽으로 플로팅 해본다."
      ],
      "metadata": {
        "id": "6RmJjq6nlJun"
      }
    }
  ]
}